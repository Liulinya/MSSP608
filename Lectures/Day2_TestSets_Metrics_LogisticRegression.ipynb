{
  "nbformat": 4,
  "nbformat_minor": 0,
  "metadata": {
    "kernelspec": {
      "display_name": "Python 3",
      "language": "python",
      "name": "python3"
    },
    "language_info": {
      "codemirror_mode": {
        "name": "ipython",
        "version": 3
      },
      "file_extension": ".py",
      "mimetype": "text/x-python",
      "name": "python",
      "nbconvert_exporter": "python",
      "pygments_lexer": "ipython3",
      "version": "3.7.4"
    },
    "colab": {
      "name": "Day2-TestSets-Metrics-LogisticRegression.ipynb",
      "provenance": [],
      "include_colab_link": true
    }
  },
  "cells": [
    {
      "cell_type": "markdown",
      "metadata": {
        "id": "view-in-github",
        "colab_type": "text"
      },
      "source": [
        "<a href=\"https://colab.research.google.com/github/chetan-parthiban/MSSP608/blob/master/Lectures/Day2_TestSets_Metrics_LogisticRegression.ipynb\" target=\"_parent\"><img src=\"https://colab.research.google.com/assets/colab-badge.svg\" alt=\"Open In Colab\"/></a>"
      ]
    },
    {
      "cell_type": "code",
      "metadata": {
        "id": "7dGUsekIP1TQ",
        "colab_type": "code",
        "colab": {}
      },
      "source": [
        "import math\n",
        "import pandas as pd\n",
        "import numpy as np\n",
        "import statsmodels.formula.api as smf\n",
        "import matplotlib.pyplot as plt\n",
        "from scipy import stats\n",
        "from matplotlib import dates\n",
        "from datetime import datetime\n",
        "import calendar\n",
        "\n",
        "from sklearn.metrics import accuracy_score, precision_score, recall_score, cohen_kappa_score, confusion_matrix, ConfusionMatrixDisplay, f1_score\n",
        "from sklearn.linear_model import LogisticRegression\n",
        "from sklearn.tree import DecisionTreeClassifier\n",
        "from sklearn.naive_bayes import BernoulliNB\n",
        "from sklearn import tree\n",
        "from sklearn.model_selection import train_test_split, KFold"
      ],
      "execution_count": 0,
      "outputs": []
    },
    {
      "cell_type": "markdown",
      "metadata": {
        "id": "1-nnWJXXnr-f",
        "colab_type": "text"
      },
      "source": [
        "# Prerequisites (What you should know from Day 1)\n",
        "\n",
        "Here's what you should understand well from day 1 to be able to understand this notebook. If you don't feel comfortable with any of these topics its HIGHLY recommended that you review it before continuing with this notebook!\n",
        "\n",
        "- Preprocessing the data with pandas\n",
        "- What are decision trees\n",
        "- How to train a decision tree in scikit-learn"
      ]
    },
    {
      "cell_type": "markdown",
      "metadata": {
        "id": "Jfzos_3nR3-F",
        "colab_type": "text"
      },
      "source": [
        "# Downloading and Preprocessing the Data (Same as in Day 1)\n",
        "\n",
        "If you understand this part of the Day 1 notebook, then feel free to skip over reading this part of the notebook since it is exactly the same. "
      ]
    },
    {
      "cell_type": "code",
      "metadata": {
        "id": "zrIzmeDLSDfR",
        "colab_type": "code",
        "outputId": "56fdb190-7e19-498d-a620-c9608249d4d3",
        "colab": {
          "base_uri": "https://localhost:8080/"
        }
      },
      "source": [
        "# Download the data\n",
        "!wget --no-check-certificate 'https://docs.google.com/uc?export=download&id=0B5qTk6DHjanhY2ZaOENiUnROQVZld1lQVXNVNzh0dnZodFdJ' -O bikeshare_train.csv"
      ],
      "execution_count": 0,
      "outputs": [
        {
          "output_type": "stream",
          "text": [
            "--2020-01-17 18:30:07--  https://docs.google.com/uc?export=download&id=0B5qTk6DHjanhY2ZaOENiUnROQVZld1lQVXNVNzh0dnZodFdJ\n",
            "Resolving docs.google.com (docs.google.com)... 172.217.203.113, 172.217.203.139, 172.217.203.102, ...\n",
            "Connecting to docs.google.com (docs.google.com)|172.217.203.113|:443... connected.\n",
            "HTTP request sent, awaiting response... 302 Moved Temporarily\n",
            "Location: https://doc-0s-5c-docs.googleusercontent.com/docs/securesc/ha0ro937gcuc7l7deffksulhg5h7mbp1/plidd4ugea02ilnn8olmcmsa4pknu9cg/1579284000000/09819396713149841370/*/0B5qTk6DHjanhY2ZaOENiUnROQVZld1lQVXNVNzh0dnZodFdJ?e=download [following]\n",
            "Warning: wildcards not supported in HTTP.\n",
            "--2020-01-17 18:30:08--  https://doc-0s-5c-docs.googleusercontent.com/docs/securesc/ha0ro937gcuc7l7deffksulhg5h7mbp1/plidd4ugea02ilnn8olmcmsa4pknu9cg/1579284000000/09819396713149841370/*/0B5qTk6DHjanhY2ZaOENiUnROQVZld1lQVXNVNzh0dnZodFdJ?e=download\n",
            "Resolving doc-0s-5c-docs.googleusercontent.com (doc-0s-5c-docs.googleusercontent.com)... 172.217.203.132, 2607:f8b0:400c:c07::84\n",
            "Connecting to doc-0s-5c-docs.googleusercontent.com (doc-0s-5c-docs.googleusercontent.com)|172.217.203.132|:443... connected.\n",
            "HTTP request sent, awaiting response... 200 OK\n",
            "Length: 648353 (633K) [text/csv]\n",
            "Saving to: ‘bikeshare_train.csv’\n",
            "\n",
            "bikeshare_train.csv 100%[===================>] 633.16K  --.-KB/s    in 0.005s  \n",
            "\n",
            "2020-01-17 18:30:08 (128 MB/s) - ‘bikeshare_train.csv’ saved [648353/648353]\n",
            "\n"
          ],
          "name": "stdout"
        }
      ]
    },
    {
      "cell_type": "code",
      "metadata": {
        "id": "kFc_Fr7wP1Td",
        "colab_type": "code",
        "colab": {}
      },
      "source": [
        "# Load the data with pandas and properly setup the date/time data\n",
        "bikeshare = pd.read_csv(\"bikeshare_train.csv\")\n",
        "bikeshare[\"date_objs\"] = bikeshare[\"datetime\"].apply(lambda x: datetime.strptime(x, '%Y-%m-%d %H:%M:%S'))"
      ],
      "execution_count": 0,
      "outputs": []
    },
    {
      "cell_type": "code",
      "metadata": {
        "id": "MT0M5uPOP1Tj",
        "colab_type": "code",
        "outputId": "9fe95a7a-f387-457c-8ab0-2126f30a4192",
        "colab": {
          "base_uri": "https://localhost:8080/"
        }
      },
      "source": [
        "# Create columns for different parts of the date/time data\n",
        "bikeshare[\"hour\"] = bikeshare[\"date_objs\"].apply(lambda x: x.hour)\n",
        "bikeshare[\"day\"] = bikeshare[\"date_objs\"].apply(lambda x: x.day)\n",
        "bikeshare[\"month\"] = bikeshare[\"date_objs\"].apply(lambda x: x.month)\n",
        "bikeshare[\"year\"] = bikeshare[\"date_objs\"].apply(lambda x: x.year)\n",
        "bikeshare[\"weekday\"] = bikeshare[\"date_objs\"].apply(lambda x: x.weekday())\n",
        "bikeshare[\"plot_time\"] = bikeshare[\"datetime\"].apply(dates.datestr2num)\n",
        "\n",
        "bikeshare[\"month_str\"] = bikeshare[\"month\"].apply(lambda x: calendar.month_name[x])\n",
        "bikeshare[\"weekday_str\"] = bikeshare[\"weekday\"].apply(lambda x: calendar.day_name[x])\n",
        "\n",
        "# Create column to tell to represent the traffic ammount \n",
        "bikeshare[\"high_traffic\"] = bikeshare[\"count\"] > 145\n",
        "\n",
        "# Create columns for the weather data\n",
        "def weather_norm(x):\n",
        "    if x == 1:\n",
        "        return \"clear\"\n",
        "    if x == 2:\n",
        "        return \"overcast\"\n",
        "    if x > 2:\n",
        "        return \"gross\"\n",
        "    \n",
        "bikeshare[\"weather_norm\"] = bikeshare[\"weather\"].apply(weather_norm)\n",
        "\n",
        "# Check the distribution of the weather data and preview the dataframe\n",
        "print(bikeshare[\"weather_norm\"].value_counts())\n",
        "bikeshare.head()"
      ],
      "execution_count": 0,
      "outputs": [
        {
          "output_type": "stream",
          "text": [
            "clear       7192\n",
            "overcast    2834\n",
            "gross        860\n",
            "Name: weather_norm, dtype: int64\n"
          ],
          "name": "stdout"
        },
        {
          "output_type": "execute_result",
          "data": {
            "text/html": [
              "<div>\n",
              "<style scoped>\n",
              "    .dataframe tbody tr th:only-of-type {\n",
              "        vertical-align: middle;\n",
              "    }\n",
              "\n",
              "    .dataframe tbody tr th {\n",
              "        vertical-align: top;\n",
              "    }\n",
              "\n",
              "    .dataframe thead th {\n",
              "        text-align: right;\n",
              "    }\n",
              "</style>\n",
              "<table border=\"1\" class=\"dataframe\">\n",
              "  <thead>\n",
              "    <tr style=\"text-align: right;\">\n",
              "      <th></th>\n",
              "      <th>datetime</th>\n",
              "      <th>season</th>\n",
              "      <th>holiday</th>\n",
              "      <th>workingday</th>\n",
              "      <th>weather</th>\n",
              "      <th>temp</th>\n",
              "      <th>atemp</th>\n",
              "      <th>humidity</th>\n",
              "      <th>windspeed</th>\n",
              "      <th>casual</th>\n",
              "      <th>registered</th>\n",
              "      <th>count</th>\n",
              "      <th>date_objs</th>\n",
              "      <th>hour</th>\n",
              "      <th>day</th>\n",
              "      <th>month</th>\n",
              "      <th>year</th>\n",
              "      <th>weekday</th>\n",
              "      <th>plot_time</th>\n",
              "      <th>month_str</th>\n",
              "      <th>weekday_str</th>\n",
              "      <th>high_traffic</th>\n",
              "      <th>weather_norm</th>\n",
              "    </tr>\n",
              "  </thead>\n",
              "  <tbody>\n",
              "    <tr>\n",
              "      <th>0</th>\n",
              "      <td>2011-01-01 00:00:00</td>\n",
              "      <td>1</td>\n",
              "      <td>0</td>\n",
              "      <td>0</td>\n",
              "      <td>1</td>\n",
              "      <td>9.84</td>\n",
              "      <td>14.395</td>\n",
              "      <td>81</td>\n",
              "      <td>0.0</td>\n",
              "      <td>3</td>\n",
              "      <td>13</td>\n",
              "      <td>16</td>\n",
              "      <td>2011-01-01 00:00:00</td>\n",
              "      <td>0</td>\n",
              "      <td>1</td>\n",
              "      <td>1</td>\n",
              "      <td>2011</td>\n",
              "      <td>5</td>\n",
              "      <td>734138.000000</td>\n",
              "      <td>January</td>\n",
              "      <td>Saturday</td>\n",
              "      <td>False</td>\n",
              "      <td>clear</td>\n",
              "    </tr>\n",
              "    <tr>\n",
              "      <th>1</th>\n",
              "      <td>2011-01-01 01:00:00</td>\n",
              "      <td>1</td>\n",
              "      <td>0</td>\n",
              "      <td>0</td>\n",
              "      <td>1</td>\n",
              "      <td>9.02</td>\n",
              "      <td>13.635</td>\n",
              "      <td>80</td>\n",
              "      <td>0.0</td>\n",
              "      <td>8</td>\n",
              "      <td>32</td>\n",
              "      <td>40</td>\n",
              "      <td>2011-01-01 01:00:00</td>\n",
              "      <td>1</td>\n",
              "      <td>1</td>\n",
              "      <td>1</td>\n",
              "      <td>2011</td>\n",
              "      <td>5</td>\n",
              "      <td>734138.041667</td>\n",
              "      <td>January</td>\n",
              "      <td>Saturday</td>\n",
              "      <td>False</td>\n",
              "      <td>clear</td>\n",
              "    </tr>\n",
              "    <tr>\n",
              "      <th>2</th>\n",
              "      <td>2011-01-01 02:00:00</td>\n",
              "      <td>1</td>\n",
              "      <td>0</td>\n",
              "      <td>0</td>\n",
              "      <td>1</td>\n",
              "      <td>9.02</td>\n",
              "      <td>13.635</td>\n",
              "      <td>80</td>\n",
              "      <td>0.0</td>\n",
              "      <td>5</td>\n",
              "      <td>27</td>\n",
              "      <td>32</td>\n",
              "      <td>2011-01-01 02:00:00</td>\n",
              "      <td>2</td>\n",
              "      <td>1</td>\n",
              "      <td>1</td>\n",
              "      <td>2011</td>\n",
              "      <td>5</td>\n",
              "      <td>734138.083333</td>\n",
              "      <td>January</td>\n",
              "      <td>Saturday</td>\n",
              "      <td>False</td>\n",
              "      <td>clear</td>\n",
              "    </tr>\n",
              "    <tr>\n",
              "      <th>3</th>\n",
              "      <td>2011-01-01 03:00:00</td>\n",
              "      <td>1</td>\n",
              "      <td>0</td>\n",
              "      <td>0</td>\n",
              "      <td>1</td>\n",
              "      <td>9.84</td>\n",
              "      <td>14.395</td>\n",
              "      <td>75</td>\n",
              "      <td>0.0</td>\n",
              "      <td>3</td>\n",
              "      <td>10</td>\n",
              "      <td>13</td>\n",
              "      <td>2011-01-01 03:00:00</td>\n",
              "      <td>3</td>\n",
              "      <td>1</td>\n",
              "      <td>1</td>\n",
              "      <td>2011</td>\n",
              "      <td>5</td>\n",
              "      <td>734138.125000</td>\n",
              "      <td>January</td>\n",
              "      <td>Saturday</td>\n",
              "      <td>False</td>\n",
              "      <td>clear</td>\n",
              "    </tr>\n",
              "    <tr>\n",
              "      <th>4</th>\n",
              "      <td>2011-01-01 04:00:00</td>\n",
              "      <td>1</td>\n",
              "      <td>0</td>\n",
              "      <td>0</td>\n",
              "      <td>1</td>\n",
              "      <td>9.84</td>\n",
              "      <td>14.395</td>\n",
              "      <td>75</td>\n",
              "      <td>0.0</td>\n",
              "      <td>0</td>\n",
              "      <td>1</td>\n",
              "      <td>1</td>\n",
              "      <td>2011-01-01 04:00:00</td>\n",
              "      <td>4</td>\n",
              "      <td>1</td>\n",
              "      <td>1</td>\n",
              "      <td>2011</td>\n",
              "      <td>5</td>\n",
              "      <td>734138.166667</td>\n",
              "      <td>January</td>\n",
              "      <td>Saturday</td>\n",
              "      <td>False</td>\n",
              "      <td>clear</td>\n",
              "    </tr>\n",
              "  </tbody>\n",
              "</table>\n",
              "</div>"
            ],
            "text/plain": [
              "              datetime  season  holiday  ...  weekday_str  high_traffic  weather_norm\n",
              "0  2011-01-01 00:00:00       1        0  ...     Saturday         False         clear\n",
              "1  2011-01-01 01:00:00       1        0  ...     Saturday         False         clear\n",
              "2  2011-01-01 02:00:00       1        0  ...     Saturday         False         clear\n",
              "3  2011-01-01 03:00:00       1        0  ...     Saturday         False         clear\n",
              "4  2011-01-01 04:00:00       1        0  ...     Saturday         False         clear\n",
              "\n",
              "[5 rows x 23 columns]"
            ]
          },
          "metadata": {
            "tags": []
          },
          "execution_count": 4
        }
      ]
    },
    {
      "cell_type": "markdown",
      "metadata": {
        "id": "wjzEnlHSSrJx",
        "colab_type": "text"
      },
      "source": [
        "# Train/Test Splits\n",
        "\n",
        "Setting data into different groups for training and testing is a very important part of the data sciene workflow. Many of the models we use can easily fit the data set they are trained on perfectly, but this usually results in nonsensical models that are \"overfitted\" to the data and cannot generalize to any other new  data points. This makes them basically useless. Setting aside some data for testing allows us to simulate this change and perform better evaluations of our model. [Check this resource out for more info on train/test splits.](https://towardsdatascience.com/train-test-split-and-cross-validation-in-python-80b61beca4b6)\n"
      ]
    },
    {
      "cell_type": "markdown",
      "metadata": {
        "id": "ocwdyn7VP1Tr",
        "colab_type": "text"
      },
      "source": [
        "## Creating the Train/Test Split\n",
        "\n",
        "Now that we know that using a train/test split is important for properly evaluating our models, let's consider some different ways to potentially create that train/test split. We'll see that we have to be careful when creating our train/test split to make sure that it makes sense. "
      ]
    },
    {
      "cell_type": "markdown",
      "metadata": {
        "id": "Dv54N-ouXIMV",
        "colab_type": "text"
      },
      "source": [
        "### The most naive split\n",
        "\n",
        "What is the simplest way to create a train/test split? Draw a line at some point in the dataset and take one side to be the train data and the other to be the test data! The following steps detail an easy procedure to do this. \n",
        "1.   Pick a size for the test set (in this case, we will use 20% of the data for the test set)\n",
        "2.   Take the first section of data as the train set\n",
        "3.   Take the second section of data as the test set\n",
        "\n"
      ]
    },
    {
      "cell_type": "code",
      "metadata": {
        "id": "1Yw9SrsAP1Ts",
        "colab_type": "code",
        "outputId": "12d05c3b-6e99-4273-ce17-c6b1b01ef584",
        "colab": {
          "base_uri": "https://localhost:8080/"
        }
      },
      "source": [
        "# Calculate where the cutoff should be if we want 20% of our data to be in the test set\n",
        "test_set_percentage = 0.2\n",
        "test_set_size = int(len(bikeshare)*test_set_percentage) \n",
        "test_cutoff = len(bikeshare) - test_set_size \n",
        "\n",
        "# Take everything before the cutoff to be the train set\n",
        "bikeshare_train = bikeshare[:test_cutoff]\n",
        "\n",
        "# Take everything after the cutoff to be the test set \n",
        "bikeshare_test = bikeshare[test_cutoff:]\n",
        "\n",
        "# Lets check to make sure the size of our train and test data seem about correct\n",
        "print(\"Size of train data:\", len(bikeshare_train))\n",
        "print(\"Size of test  data:\", len(bikeshare_test))"
      ],
      "execution_count": 0,
      "outputs": [
        {
          "output_type": "stream",
          "text": [
            "Size of train data: 8709\n",
            "Size of test  data: 2177\n"
          ],
          "name": "stdout"
        }
      ]
    },
    {
      "cell_type": "markdown",
      "metadata": {
        "id": "oEUgllhmP1Ty",
        "colab_type": "text"
      },
      "source": [
        "But doing this split naively can sometimes be a big problem! To see why, lets look at the distribution of the months represented in the train set and the months represented in the test set."
      ]
    },
    {
      "cell_type": "code",
      "metadata": {
        "id": "TvkAoadoP1T0",
        "colab_type": "code",
        "outputId": "c4ef417f-4894-4b92-ca09-8b682036581e",
        "colab": {
          "base_uri": "https://localhost:8080/"
        }
      },
      "source": [
        "print(\"Training set months:\")\n",
        "print(bikeshare_train[\"month_str\"].value_counts())\n",
        "print('-----------')\n",
        "print(\"Test set months:\")\n",
        "print(bikeshare_test[\"month_str\"].value_counts())"
      ],
      "execution_count": 0,
      "outputs": [
        {
          "output_type": "stream",
          "text": [
            "Training set months:\n",
            "July         912\n",
            "May          912\n",
            "June         912\n",
            "April        909\n",
            "March        901\n",
            "February     901\n",
            "January      884\n",
            "August       558\n",
            "November     456\n",
            "December     456\n",
            "October      455\n",
            "September    453\n",
            "Name: month_str, dtype: int64\n",
            "-----------\n",
            "Test set months:\n",
            "September    456\n",
            "December     456\n",
            "October      456\n",
            "November     455\n",
            "August       354\n",
            "Name: month_str, dtype: int64\n"
          ],
          "name": "stdout"
        }
      ]
    },
    {
      "cell_type": "markdown",
      "metadata": {
        "id": "-6CMilxnP1T7",
        "colab_type": "text"
      },
      "source": [
        "### Improving our sampling method\n",
        "Notice that our test set only contains 5/12 of the months! This means that whenever we run our model, we are only evaluating our model on its performance during these months. What we really want is to evaluate our model on a little bit of data from every month so, clearly, this method is not what we want for this task. \n",
        "\n",
        "So, how can we fix this? Lets think about why the problem is occuring in the first place. The best way to do this is to look at the data!"
      ]
    },
    {
      "cell_type": "code",
      "metadata": {
        "id": "w_ktlMxGdcwM",
        "colab_type": "code",
        "outputId": "f8a4af8d-64c2-4557-dcdc-2a02eab9522d",
        "colab": {
          "base_uri": "https://localhost:8080/"
        }
      },
      "source": [
        "bikeshare.head()"
      ],
      "execution_count": 0,
      "outputs": [
        {
          "output_type": "execute_result",
          "data": {
            "text/html": [
              "<div>\n",
              "<style scoped>\n",
              "    .dataframe tbody tr th:only-of-type {\n",
              "        vertical-align: middle;\n",
              "    }\n",
              "\n",
              "    .dataframe tbody tr th {\n",
              "        vertical-align: top;\n",
              "    }\n",
              "\n",
              "    .dataframe thead th {\n",
              "        text-align: right;\n",
              "    }\n",
              "</style>\n",
              "<table border=\"1\" class=\"dataframe\">\n",
              "  <thead>\n",
              "    <tr style=\"text-align: right;\">\n",
              "      <th></th>\n",
              "      <th>datetime</th>\n",
              "      <th>season</th>\n",
              "      <th>holiday</th>\n",
              "      <th>workingday</th>\n",
              "      <th>weather</th>\n",
              "      <th>temp</th>\n",
              "      <th>atemp</th>\n",
              "      <th>humidity</th>\n",
              "      <th>windspeed</th>\n",
              "      <th>casual</th>\n",
              "      <th>registered</th>\n",
              "      <th>count</th>\n",
              "      <th>date_objs</th>\n",
              "      <th>hour</th>\n",
              "      <th>day</th>\n",
              "      <th>month</th>\n",
              "      <th>year</th>\n",
              "      <th>weekday</th>\n",
              "      <th>plot_time</th>\n",
              "      <th>month_str</th>\n",
              "      <th>weekday_str</th>\n",
              "      <th>high_traffic</th>\n",
              "      <th>weather_norm</th>\n",
              "    </tr>\n",
              "  </thead>\n",
              "  <tbody>\n",
              "    <tr>\n",
              "      <th>0</th>\n",
              "      <td>2011-01-01 00:00:00</td>\n",
              "      <td>1</td>\n",
              "      <td>0</td>\n",
              "      <td>0</td>\n",
              "      <td>1</td>\n",
              "      <td>9.84</td>\n",
              "      <td>14.395</td>\n",
              "      <td>81</td>\n",
              "      <td>0.0</td>\n",
              "      <td>3</td>\n",
              "      <td>13</td>\n",
              "      <td>16</td>\n",
              "      <td>2011-01-01 00:00:00</td>\n",
              "      <td>0</td>\n",
              "      <td>1</td>\n",
              "      <td>1</td>\n",
              "      <td>2011</td>\n",
              "      <td>5</td>\n",
              "      <td>734138.000000</td>\n",
              "      <td>January</td>\n",
              "      <td>Saturday</td>\n",
              "      <td>False</td>\n",
              "      <td>clear</td>\n",
              "    </tr>\n",
              "    <tr>\n",
              "      <th>1</th>\n",
              "      <td>2011-01-01 01:00:00</td>\n",
              "      <td>1</td>\n",
              "      <td>0</td>\n",
              "      <td>0</td>\n",
              "      <td>1</td>\n",
              "      <td>9.02</td>\n",
              "      <td>13.635</td>\n",
              "      <td>80</td>\n",
              "      <td>0.0</td>\n",
              "      <td>8</td>\n",
              "      <td>32</td>\n",
              "      <td>40</td>\n",
              "      <td>2011-01-01 01:00:00</td>\n",
              "      <td>1</td>\n",
              "      <td>1</td>\n",
              "      <td>1</td>\n",
              "      <td>2011</td>\n",
              "      <td>5</td>\n",
              "      <td>734138.041667</td>\n",
              "      <td>January</td>\n",
              "      <td>Saturday</td>\n",
              "      <td>False</td>\n",
              "      <td>clear</td>\n",
              "    </tr>\n",
              "    <tr>\n",
              "      <th>2</th>\n",
              "      <td>2011-01-01 02:00:00</td>\n",
              "      <td>1</td>\n",
              "      <td>0</td>\n",
              "      <td>0</td>\n",
              "      <td>1</td>\n",
              "      <td>9.02</td>\n",
              "      <td>13.635</td>\n",
              "      <td>80</td>\n",
              "      <td>0.0</td>\n",
              "      <td>5</td>\n",
              "      <td>27</td>\n",
              "      <td>32</td>\n",
              "      <td>2011-01-01 02:00:00</td>\n",
              "      <td>2</td>\n",
              "      <td>1</td>\n",
              "      <td>1</td>\n",
              "      <td>2011</td>\n",
              "      <td>5</td>\n",
              "      <td>734138.083333</td>\n",
              "      <td>January</td>\n",
              "      <td>Saturday</td>\n",
              "      <td>False</td>\n",
              "      <td>clear</td>\n",
              "    </tr>\n",
              "    <tr>\n",
              "      <th>3</th>\n",
              "      <td>2011-01-01 03:00:00</td>\n",
              "      <td>1</td>\n",
              "      <td>0</td>\n",
              "      <td>0</td>\n",
              "      <td>1</td>\n",
              "      <td>9.84</td>\n",
              "      <td>14.395</td>\n",
              "      <td>75</td>\n",
              "      <td>0.0</td>\n",
              "      <td>3</td>\n",
              "      <td>10</td>\n",
              "      <td>13</td>\n",
              "      <td>2011-01-01 03:00:00</td>\n",
              "      <td>3</td>\n",
              "      <td>1</td>\n",
              "      <td>1</td>\n",
              "      <td>2011</td>\n",
              "      <td>5</td>\n",
              "      <td>734138.125000</td>\n",
              "      <td>January</td>\n",
              "      <td>Saturday</td>\n",
              "      <td>False</td>\n",
              "      <td>clear</td>\n",
              "    </tr>\n",
              "    <tr>\n",
              "      <th>4</th>\n",
              "      <td>2011-01-01 04:00:00</td>\n",
              "      <td>1</td>\n",
              "      <td>0</td>\n",
              "      <td>0</td>\n",
              "      <td>1</td>\n",
              "      <td>9.84</td>\n",
              "      <td>14.395</td>\n",
              "      <td>75</td>\n",
              "      <td>0.0</td>\n",
              "      <td>0</td>\n",
              "      <td>1</td>\n",
              "      <td>1</td>\n",
              "      <td>2011-01-01 04:00:00</td>\n",
              "      <td>4</td>\n",
              "      <td>1</td>\n",
              "      <td>1</td>\n",
              "      <td>2011</td>\n",
              "      <td>5</td>\n",
              "      <td>734138.166667</td>\n",
              "      <td>January</td>\n",
              "      <td>Saturday</td>\n",
              "      <td>False</td>\n",
              "      <td>clear</td>\n",
              "    </tr>\n",
              "  </tbody>\n",
              "</table>\n",
              "</div>"
            ],
            "text/plain": [
              "              datetime  season  holiday  ...  weekday_str  high_traffic  weather_norm\n",
              "0  2011-01-01 00:00:00       1        0  ...     Saturday         False         clear\n",
              "1  2011-01-01 01:00:00       1        0  ...     Saturday         False         clear\n",
              "2  2011-01-01 02:00:00       1        0  ...     Saturday         False         clear\n",
              "3  2011-01-01 03:00:00       1        0  ...     Saturday         False         clear\n",
              "4  2011-01-01 04:00:00       1        0  ...     Saturday         False         clear\n",
              "\n",
              "[5 rows x 23 columns]"
            ]
          },
          "metadata": {
            "tags": []
          },
          "execution_count": 7
        }
      ]
    },
    {
      "cell_type": "markdown",
      "metadata": {
        "id": "iKuyROlndhpa",
        "colab_type": "text"
      },
      "source": [
        "If we look at the data, we can quickly realize that the data points are sorted by their date/time! This means that when we are taking the last 20% of the data, we are actually taking the data from the last 20% of dates/times and this is why we only see a few of the months appear in our current test set!\n",
        "\n",
        "Lets come up with a different way to sample our test data that avoids this problem. An easy way to do this if we want 20% of our data in the test set is to through the data in order and for every 5 data points, we set the first 1 to be test data and the last 4 to be train data. Visually, we can compare the two sampling methods in the following way:\n",
        "\n",
        "Simplest method: OOOOOOOOOOOOXXX\n",
        "\n",
        "Improved method: OOOOXOOOOXOOOOX\n",
        "\n",
        "Now lets try implementing this in code"
      ]
    },
    {
      "cell_type": "code",
      "metadata": {
        "id": "yJuuF13aP1T9",
        "colab_type": "code",
        "outputId": "c135cfc5-eac8-4901-9a73-ac51be250cdb",
        "colab": {
          "base_uri": "https://localhost:8080/"
        }
      },
      "source": [
        "# Calculate how often to send data to the test set (in our case for an 80/20 train/test split)\n",
        "test_size = 0.2\n",
        "test_modulus = int(1/test_size)\n",
        "\n",
        "# Set 4/5 data points from each set of 5 data points to be in the train set\n",
        "bikeshare_train = bikeshare.iloc[bikeshare.index % test_modulus != 0]\n",
        "# Set the remaining 1 data point from each set of 5 data points to be in the test set\n",
        "bikeshare_test = bikeshare.iloc[bikeshare.index % test_modulus == 0]\n",
        "\n",
        "# Lets confirm the size of the train and test set are still about right\n",
        "print(\"Size of train data:\", len(bikeshare_train))\n",
        "print(\"Size of test  data:\", len(bikeshare_test))\n",
        "\n",
        "# Lets examine the distribution of the months in the two datasets\n",
        "print(\"Training set months:\")\n",
        "print(bikeshare_train[\"month_str\"].value_counts())\n",
        "print(\"Test set months:\")\n",
        "print(bikeshare_test[\"month_str\"].value_counts())"
      ],
      "execution_count": 0,
      "outputs": [
        {
          "output_type": "stream",
          "text": [
            "Size of train data: 8708\n",
            "Size of test  data: 2178\n",
            "Training set months:\n",
            "May          730\n",
            "August       730\n",
            "July         729\n",
            "June         729\n",
            "December     729\n",
            "October      729\n",
            "September    728\n",
            "November     728\n",
            "April        727\n",
            "March        721\n",
            "February     721\n",
            "January      707\n",
            "Name: month_str, dtype: int64\n",
            "Test set months:\n",
            "December     183\n",
            "July         183\n",
            "November     183\n",
            "June         183\n",
            "August       182\n",
            "May          182\n",
            "April        182\n",
            "October      182\n",
            "September    181\n",
            "February     180\n",
            "March        180\n",
            "January      177\n",
            "Name: month_str, dtype: int64\n"
          ],
          "name": "stdout"
        }
      ]
    },
    {
      "cell_type": "markdown",
      "metadata": {
        "id": "pe5oIwknc48R",
        "colab_type": "text"
      },
      "source": [
        "Notice how now our train and test datasets now have the same distribution of months! If we didn't look at the data, it would seem like these two methods are essentially identical and interchangable. This example shows us that sometimes a very simple modification can make a big difference and why its important to be careful when making our train/test split. \n",
        "\n",
        "Now, it might seem like we can always use this second method we have developed and like it will always be better than the first method. In practice, this turns out to be very false. For example, if we had taken 1 out of every 12 data points to be in our test set, our test set would be entirely data points from noon and midnight, with no other times represented! It is important to think about your data carefully before making a decision on how to do your train/test split! Here are some resources to learn more about this problem:\n",
        "\n",
        "- [The story of a bad train/test split](https://anotherdatum.com/train-test.html)\n",
        "- [Random Test/Train Splits is Not Always Enough](http://www.win-vector.com/blog/2015/01/random-testtrain-split-is-not-always-enough/)"
      ]
    },
    {
      "cell_type": "markdown",
      "metadata": {
        "id": "Yx8avvDtP1UC",
        "colab_type": "text"
      },
      "source": [
        "## Comparing models with Train/Test Splits\n",
        "\n",
        "Lets see how we can use the train/test split we created to better understand and compare different models. "
      ]
    },
    {
      "cell_type": "code",
      "metadata": {
        "id": "m5M0pQJpqAWI",
        "colab_type": "code",
        "colab": {}
      },
      "source": [
        "# Create lists of possible features (Same as in Day 1)\n",
        "date_features = [\"day\", \"month_str\", \"year\", \"weekday_str\", \"season\", \"holiday\", \"workingday\"]\n",
        "time_features = [\"hour\"]\n",
        "weather_features = [\"weather\", \"temp\", \"atemp\", \"humidity\", \"windspeed\"]\n",
        "\n",
        "feature_sets = {\n",
        "    \"date\": date_features,\n",
        "    \"time\": time_features,\n",
        "    \"date + time\": date_features + time_features,\n",
        "    \"weather\": weather_features,\n",
        "    \"all\": date_features + time_features + weather_features\n",
        "}"
      ],
      "execution_count": 0,
      "outputs": []
    },
    {
      "cell_type": "code",
      "metadata": {
        "scrolled": true,
        "id": "nuB1Z1NqP1UF",
        "colab_type": "code",
        "outputId": "19416b74-1986-4d6a-ae97-c9e9896c76a1",
        "colab": {
          "base_uri": "https://localhost:8080/"
        }
      },
      "source": [
        "# We'll keep track of which classifier was the best\n",
        "best = 0\n",
        "best_name = None\n",
        "best_actual = None\n",
        "best_predictions = None\n",
        "\n",
        "test_accuracies = []\n",
        "train_accuracies = []\n",
        "\n",
        "# For each feature set, we evaluate our model on both the train and the test set\n",
        "for set_name, feature_set in feature_sets.items():\n",
        "\n",
        "    # Create a dummyset with only the features in our feature set\n",
        "    X = bikeshare.loc[:, feature_set]\n",
        "    X = pd.get_dummies(X)\n",
        "\n",
        "    y = bikeshare[\"high_traffic\"]\n",
        "\n",
        "    # Use scikit-learn to create our train/test split and train our decision tree\n",
        "    X_train, X_test, y_train, y_test = train_test_split(X,y,test_size=0.20, random_state=123)\n",
        "    model = DecisionTreeClassifier(criterion=\"entropy\", random_state=123).fit(X_train, y_train)\n",
        "\n",
        "    # Calculate our accuracy on the train and test sets\n",
        "    train_pred = model.predict(X_train)\n",
        "    train_accuracy = 100*accuracy_score(y_train, train_pred)\n",
        "    test_pred = model.predict(X_test)\n",
        "    test_accuracy = 100*accuracy_score(y_test, test_pred)\n",
        "\n",
        "    # Keep track of the best model on the test set\n",
        "    if test_accuracy > best:\n",
        "        best = test_accuracy\n",
        "        best_name = set_name\n",
        "        best_actual = y_test\n",
        "        best_predictions = test_pred\n",
        "    test_accuracies.append(test_accuracy)\n",
        "    train_accuracies.append(train_accuracy)\n",
        "\n",
        "    # Display the accuracy on the train and test set for each model\n",
        "    print(f\"Results for {set_name}:\")\n",
        "    print(f\"Accuracy on the train set: {train_accuracy:.1f}\")\n",
        "    print(f\"Accuracy on the test set: {test_accuracy:.1f}\")\n",
        "    print(\"------------------------\")\n",
        "    \n",
        "print(f\"Best feature set is: {best_name} \\nWith: {best:.1f}% accuracy.\")    "
      ],
      "execution_count": 0,
      "outputs": [
        {
          "output_type": "stream",
          "text": [
            "Results for date:\n",
            "Accuracy on the train set: 66.4\n",
            "Accuracy on the test set: 62.6\n",
            "------------------------\n",
            "Results for time:\n",
            "Accuracy on the train set: 81.0\n",
            "Accuracy on the test set: 80.1\n",
            "------------------------\n",
            "Results for date + time:\n",
            "Accuracy on the train set: 100.0\n",
            "Accuracy on the test set: 90.8\n",
            "------------------------\n",
            "Results for weather:\n",
            "Accuracy on the train set: 90.7\n",
            "Accuracy on the test set: 68.5\n",
            "------------------------\n",
            "Results for all:\n",
            "Accuracy on the train set: 100.0\n",
            "Accuracy on the test set: 90.7\n",
            "------------------------\n",
            "Best feature set is: date + time \n",
            "With: 90.8% accuracy.\n"
          ],
          "name": "stdout"
        }
      ]
    },
    {
      "cell_type": "code",
      "metadata": {
        "scrolled": true,
        "id": "3rBROZYuP1UL",
        "colab_type": "code",
        "outputId": "66c5071f-207e-499b-8891-e78806256e2b",
        "colab": {
          "base_uri": "https://localhost:8080/"
        }
      },
      "source": [
        "locs = np.arange(len(test_accuracies))\n",
        "\n",
        "ax = plt.gca()\n",
        "ax.bar(locs-0.2, train_accuracies, width=0.4)\n",
        "ax.bar(locs+0.2, test_accuracies, width=0.4)\n",
        "ax.set_xticks(locs)\n",
        "ax.set_xticklabels(list(feature_sets.keys()))\n",
        "ax.legend([\"Train Accuracy\", \"Test Accuracy\"])\n",
        "plt.show()"
      ],
      "execution_count": 0,
      "outputs": [
        {
          "output_type": "display_data",
          "data": {
            "image/png": "[encoded data removed]",
            "text/plain": [
              "<Figure size 432x288 with 1 Axes>"
            ]
          },
          "metadata": {
            "tags": []
          }
        }
      ]
    },
    {
      "cell_type": "markdown",
      "metadata": {
        "id": "_hg5ZZ4zthbn",
        "colab_type": "text"
      },
      "source": [
        "If we had just looked at the train set, we would have thought that using date and time alone we could perfectly model the levels of bikeshare traffic. Once we look at the test accuracy, we realize that that is not true at all! While 90% accuracy is pretty great, that 10% of misclassified data demonstrates that our model is definitely not perfect. \n",
        "\n",
        "We can also see that the model trained on just date/time is actually better than the model trained on date/time/weather! This is an example of more data not always being better and an example of how our decision tree algorithm does not always converge to the optimal tree, just a pretty good one!\n",
        "\n",
        "Here are some more resources diving further into comparing models using train/test splits and the convergence of decision trees:\n",
        "\n",
        "- [Train/Test Splits and Cross Validation in Python](https://towardsdatascience.com/train-test-split-and-cross-validation-in-python-80b61beca4b6)\n",
        "- [Disadvantages of Decision Trees (this article is pretty technical)](https://www.edupristine.com/blog/decision-trees-development-and-scoring)"
      ]
    },
    {
      "cell_type": "markdown",
      "metadata": {
        "id": "A9KIukwvP1UQ",
        "colab_type": "text"
      },
      "source": [
        "# Metrics of Model Quality\n",
        "\n",
        "While accuracy is great some of the time, there are many cases where it is not a good metric for understanding the performance of our models. Lets explore some alternate methods for evaluating our models and figure out when we should be using them. "
      ]
    },
    {
      "cell_type": "code",
      "metadata": {
        "id": "SQjfddI-zMoJ",
        "colab_type": "code",
        "colab": {}
      },
      "source": [
        "# Lets keep the predictions from the best tree that we found to use in this section\n",
        "predictions = best_predictions\n",
        "actual = np.array(list(best_actual))"
      ],
      "execution_count": 0,
      "outputs": []
    },
    {
      "cell_type": "markdown",
      "metadata": {
        "id": "YjbrVmTsP1UW",
        "colab_type": "text"
      },
      "source": [
        "### Accuracy\n",
        "\n",
        "$$ accuracy = \\frac{correct \\space predictions}{total \\space predictions} \\times 100 $$"
      ]
    },
    {
      "cell_type": "code",
      "metadata": {
        "id": "XO8JyuwvP1UY",
        "colab_type": "code",
        "outputId": "26c50688-9551-4849-ef3b-7200f20a3c04",
        "colab": {
          "base_uri": "https://localhost:8080/"
        }
      },
      "source": [
        "# Calculating accuracy manually\n",
        "matches = (predictions == actual).sum() \n",
        "accuracy = matches / len(actual)\n",
        "print(f\"Manual accuracy metric: {100*accuracy:.1f}\")"
      ],
      "execution_count": 0,
      "outputs": [
        {
          "output_type": "stream",
          "text": [
            "Manual accuracy metric: 90.8\n"
          ],
          "name": "stdout"
        }
      ]
    },
    {
      "cell_type": "code",
      "metadata": {
        "id": "-Bq3FRJA2ghY",
        "colab_type": "code",
        "outputId": "cc8100aa-58e2-47c4-d5f6-734beeac7f20",
        "colab": {
          "base_uri": "https://localhost:8080/"
        }
      },
      "source": [
        "# Calculating accuracy with scikit-learn\n",
        "accuracy = accuracy_score(actual, predictions)\n",
        "print(f\"scikit-learn accuracy metric: {100*accuracy:.1f}\")"
      ],
      "execution_count": 0,
      "outputs": [
        {
          "output_type": "stream",
          "text": [
            "scikit-learn accuracy metric: 90.8\n"
          ],
          "name": "stdout"
        }
      ]
    },
    {
      "cell_type": "markdown",
      "metadata": {
        "id": "YkSqyL94yVME",
        "colab_type": "text"
      },
      "source": [
        "#### Pros/Cons the accuracy metric\n",
        "\n",
        "**Benefit**\n",
        "- Accuracy is very intuitive and easy to understand\n",
        "\n",
        "**Weakness**\n",
        "- Accuracy can sometimes paint an inaccurate picture of the model. For example, consider a model that predicts whether or not there will be an earthquake in LA today. You could get >99% accuracy by just guessing no every time, so accuracy can be very misleading in this case!"
      ]
    },
    {
      "cell_type": "markdown",
      "metadata": {
        "id": "2qzDpWovP1Uc",
        "colab_type": "text"
      },
      "source": [
        "### Confusion Matrix\n",
        "\n",
        "The confusion matrix is a great way to visualize where our model is making errors. Elements on the diagonal represent correct predictions. Elements off the diagonal represent that the model predicted the wrong class.\n",
        "\n",
        "![Example Confusion Matrix](https://www.mathworks.com/help/examples/nnet/win64/CreateConfusionMatrixChartExample_02.png)\n",
        "  "
      ]
    },
    {
      "cell_type": "code",
      "metadata": {
        "id": "HGC_guSsP1Ue",
        "colab_type": "code",
        "outputId": "ecbd8c0d-4691-40d7-853a-99e833e5f40f",
        "colab": {
          "base_uri": "https://localhost:8080/"
        }
      },
      "source": [
        "# Generating our confusion matrix manually\n",
        "\n",
        "# Helper function to display our confusion matrix nicely\n",
        "def matrix_print(matrix):\n",
        "    print(\"           Predictions\")\n",
        "    print(f\"Actual    |\", end='')\n",
        "    for pred in list(matrix.keys()):\n",
        "        print(f\"{str(pred).rjust(10)}|\", end='')\n",
        "    print()\n",
        "    for act in list(matrix.keys()):\n",
        "        print(f\"{str(act).rjust(10)}|\", end='')\n",
        "        for pred in list(matrix.keys()):\n",
        "            cell = matrix[pred][act]\n",
        "            print(f\"{str(cell).rjust(10)}|\", end='')\n",
        "        print()\n",
        "\n",
        "# Actually computing our confusion matrix         \n",
        "def build_confusion_matrix(actual, predictions):\n",
        "    confusion_matrix = {}\n",
        "    for pred_value in np.unique(predictions):\n",
        "        confusion_matrix[pred_value] = {}\n",
        "        for act_value in np.unique(actual):\n",
        "            cell_count = 0\n",
        "            for i in range(len(actual)):\n",
        "                if predictions[i] == pred_value and actual[i] == act_value:\n",
        "                    cell_count += 1\n",
        "            confusion_matrix[pred_value][act_value] = cell_count\n",
        "    return confusion_matrix\n",
        "\n",
        "conf_matrix = build_confusion_matrix(actual, predictions)\n",
        "matrix_print(conf_matrix)"
      ],
      "execution_count": 0,
      "outputs": [
        {
          "output_type": "stream",
          "text": [
            "           Predictions\n",
            "Actual    |     False|      True|\n",
            "     False|       976|        97|\n",
            "      True|       103|      1002|\n"
          ],
          "name": "stdout"
        }
      ]
    },
    {
      "cell_type": "code",
      "metadata": {
        "id": "M4p0misf3Blo",
        "colab_type": "code",
        "outputId": "eee6c361-5032-4f98-ae98-b68e8c024063",
        "colab": {
          "base_uri": "https://localhost:8080/"
        }
      },
      "source": [
        "# Generating our confusion matrix with scikit-learn\n",
        "conf_matrix = confusion_matrix(actual, predictions)\n",
        "ConfusionMatrixDisplay(conf_matrix, [\"low traffic\", \"high traffic\"]).plot(values_format='.4g')\n",
        "plt.show()"
      ],
      "execution_count": 0,
      "outputs": [
        {
          "output_type": "display_data",
          "data": {
            "image/png": "[encoded data removed]",
            "text/plain": [
              "<Figure size 432x288 with 2 Axes>"
            ]
          },
          "metadata": {
            "tags": []
          }
        }
      ]
    },
    {
      "cell_type": "markdown",
      "metadata": {
        "id": "qJ2y9AnqzzGI",
        "colab_type": "text"
      },
      "source": [
        "#### Pros/Cons of the confusion matrix\n",
        "\n",
        "**Benefit**\n",
        "- Gives us a deeper understanding of our model performance than accuracy alone\n",
        "\n",
        "**Weakness**\n",
        "- We don't get a single number out so it is hard to tell which model is \"better\" when comparing two models"
      ]
    },
    {
      "cell_type": "markdown",
      "metadata": {
        "id": "Auzth_5JP1Uj",
        "colab_type": "text"
      },
      "source": [
        "### Cohen's Kappa\n",
        "\n",
        "$$ \\kappa = \\frac{accuracy - chance \\space agreement}{1 - chance \\space agreement}$$\n"
      ]
    },
    {
      "cell_type": "code",
      "metadata": {
        "id": "zkCyuEgrP1Uk",
        "colab_type": "code",
        "outputId": "bc48743a-32a8-4c2d-b933-95bd61207da1",
        "colab": {
          "base_uri": "https://localhost:8080/"
        }
      },
      "source": [
        "# Calculating Kappa Manually\n",
        "matching_by_chance = 0\n",
        "for label in np.unique(actual):\n",
        "    predicted_probability = (predictions == label).sum() / len(predictions)\n",
        "    actual_probability = (actual == label).sum() / len(actual)\n",
        "    matching_by_chance += (predicted_probability * actual_probability)\n",
        "\n",
        "print(f\"Probability of matching by chance: {matching_by_chance:.3f}\")\n",
        "kappa = (accuracy - matching_by_chance) / (1 - matching_by_chance)\n",
        "print(f\"Manual kappa metric: {kappa:.3f}\")"
      ],
      "execution_count": 0,
      "outputs": [
        {
          "output_type": "stream",
          "text": [
            "Probability of matching by chance: 0.500\n",
            "Manual kappa metric: 0.816\n"
          ],
          "name": "stdout"
        }
      ]
    },
    {
      "cell_type": "code",
      "metadata": {
        "id": "OKOYL5VT9i3g",
        "colab_type": "code",
        "outputId": "d9a3f032-31f1-4f53-dcfc-adc4dc3163ab",
        "colab": {
          "base_uri": "https://localhost:8080/"
        }
      },
      "source": [
        "# Calculating Kappa with scikit-learn\n",
        "kappa = cohen_kappa_score(actual, predictions)\n",
        "print(f\"scikit-learn kappa metric: {kappa:.3f}\")"
      ],
      "execution_count": 0,
      "outputs": [
        {
          "output_type": "stream",
          "text": [
            "scikit-learn kappa metric: 0.816\n"
          ],
          "name": "stdout"
        }
      ]
    },
    {
      "cell_type": "markdown",
      "metadata": {
        "id": "Rml2sD4e99c0",
        "colab_type": "text"
      },
      "source": [
        "#### Pros/Cons of Cohen's Kappa\n",
        "\n",
        "**Benefit**\n",
        "- Gives us a single number that evaluates the accuracy of our model and compares it to a simple baseline model -- guessing randomly based on the distribution of the data\n",
        "\n",
        "**Weakness**\n",
        "- What threshold denotes a \"good\" kappa value is highly subjective"
      ]
    },
    {
      "cell_type": "markdown",
      "metadata": {
        "id": "Trf8kb9JP1Up",
        "colab_type": "text"
      },
      "source": [
        "### Precision, Recall, and F-Score\n",
        "\n",
        "$$ Precision = \\frac{sucessful \\space predictions}{predicted \\space positives}$$\n",
        "$$ Recall = \\frac{sucessful \\space predictions}{actual \\space positives}$$\n",
        "$$ F \\mbox{-} score = \\frac{2 \\times precision \\times recall}{precision + recall}$$"
      ]
    },
    {
      "cell_type": "code",
      "metadata": {
        "scrolled": true,
        "id": "QQ58yjrsP1Uw",
        "colab_type": "code",
        "outputId": "bbecb943-5e1d-4812-e6f1-df9a1c40bf3b",
        "colab": {
          "base_uri": "https://localhost:8080/"
        }
      },
      "source": [
        "# Compute Precision, Recall, and F-Score Manually\n",
        "# Compute number of predictions, number of correct predictions, and number of total positives\n",
        "predicted_positives = (predictions == True).sum()\n",
        "actual_positives = (actual == True).sum()\n",
        "successful_predictions = 0\n",
        "for i in range(len(predictions)):\n",
        "    if predictions[i] == True and actual[i] == True:\n",
        "        successful_predictions += 1\n",
        "\n",
        "# Compute Precision Manually\n",
        "precision = successful_predictions / predicted_positives\n",
        "print(f\"Precision: {precision:.3f}\")\n",
        "\n",
        "# Compute Recall Manually\n",
        "recall = successful_predictions / actual_positives\n",
        "print(f\"Recall: {recall:.3f}\")\n",
        "\n",
        "#Compute F-Score Manually\n",
        "f = (2*precision*recall)/(precision + recall)\n",
        "print(f\"F-Score: {f:.3f}\")"
      ],
      "execution_count": 0,
      "outputs": [
        {
          "output_type": "stream",
          "text": [
            "Precision: 0.912\n",
            "Recall: 0.907\n",
            "F-Score: 0.909\n"
          ],
          "name": "stdout"
        }
      ]
    },
    {
      "cell_type": "code",
      "metadata": {
        "id": "RabGO8IbP1U0",
        "colab_type": "code",
        "outputId": "5a3e5dbb-2f6f-4b08-ecab-2f1e73199ae2",
        "colab": {
          "base_uri": "https://localhost:8080/"
        }
      },
      "source": [
        "# Compute Precision, Recall, and F-Score with a Confusion Matrix\n",
        "conf_matrix = build_confusion_matrix(actual, predictions)\n",
        "\n",
        "successful_positives = conf_matrix[True][True]\n",
        "predicted_positives = 0\n",
        "for a in conf_matrix[True].keys():\n",
        "    predicted_positives += conf_matrix[True][a]\n",
        "\n",
        "precision = successful_positives / predicted_positives\n",
        "print(f\"Precision: {precision:.3f}\")\n",
        "\n",
        "actual_positives = 0\n",
        "for p in conf_matrix.keys():\n",
        "    actual_positives += conf_matrix[p][True]\n",
        "    \n",
        "recall = successful_positives / actual_positives\n",
        "print(f\"Recall: {recall:.3f}\")\n",
        "\n",
        "f = (2*precision*recall)/(precision + recall)\n",
        "\n",
        "print(f\"F-Score: {f:.3f}\")"
      ],
      "execution_count": 0,
      "outputs": [
        {
          "output_type": "stream",
          "text": [
            "Precision: 0.912\n",
            "Recall: 0.907\n",
            "F-Score: 0.909\n"
          ],
          "name": "stdout"
        }
      ]
    },
    {
      "cell_type": "code",
      "metadata": {
        "id": "FJT27o2dCROO",
        "colab_type": "code",
        "outputId": "653cb825-187e-496b-f1b6-b68230aed4f3",
        "colab": {
          "base_uri": "https://localhost:8080/"
        }
      },
      "source": [
        "# Compute Precision, Recall, and F-Score with scikit-learn\n",
        "precision = precision_score(actual, predictions)\n",
        "recall = recall_score(actual, predictions)\n",
        "f = f1_score(actual, predictions)\n",
        "\n",
        "print(f\"Precision: {precision:.3f}\")\n",
        "print(f\"Recall: {recall:.3f}\")\n",
        "print(f\"F-Score: {f:.3f}\")\n"
      ],
      "execution_count": 0,
      "outputs": [
        {
          "output_type": "stream",
          "text": [
            "Precision: 0.912\n",
            "Recall: 0.907\n",
            "F-Score: 0.909\n"
          ],
          "name": "stdout"
        }
      ]
    },
    {
      "cell_type": "markdown",
      "metadata": {
        "id": "V8xHX1LxDtVf",
        "colab_type": "text"
      },
      "source": [
        "#### Pros/Cons of F-score\n",
        "\n",
        "**Benefit**\n",
        "- Achieves a balance between precision and recall without sacrificing much of either\n",
        "\n",
        "**Weakness**\n",
        "- It is hard to interpret, and is not as useful when we care about one of the two components more than the other\n",
        "\n",
        "**High precision is important when...**\n",
        "- You are working with limited resources and can’t say yes often\n",
        "- The stakes for making a mistake are very high\n",
        "\n",
        "**High recall is important when...**\n",
        "- It is not very expensive or hard to say yes to everything\n",
        "- The cost of missing out is greater than the cost of making a mistake"
      ]
    },
    {
      "cell_type": "markdown",
      "metadata": {
        "id": "k8fkR4TaP1U5",
        "colab_type": "text"
      },
      "source": [
        "### Additional metric calculation\n",
        "\n",
        "There are many other metrics that could be used to compare models. Here are a few more:\n",
        "\n",
        "$$ specificity = \\frac{successful \\space negatives}{actual \\space negatives}$$\n",
        "\n",
        "$$ sensitivity = \\frac{successful \\space positives}{actual \\space positives} = recall $$\n",
        "\n",
        "$$ false \\space positive \\space rate = \\frac{false \\space positives}{predicted \\space positives}$$\n",
        "\n",
        "$$ false \\space negative \\space rate = \\frac{false \\space negatives}{predicted \\space negatives}$$"
      ]
    },
    {
      "cell_type": "code",
      "metadata": {
        "id": "LuQ_Ox6qP1U6",
        "colab_type": "code",
        "outputId": "101776f8-896c-43c6-e2bb-9c5d5142d86c",
        "colab": {
          "base_uri": "https://localhost:8080/"
        }
      },
      "source": [
        "conf_matrix = build_confusion_matrix(actual, predictions)\n",
        "\n",
        "# Specificity\n",
        "successful_negatives = conf_matrix[False][False]\n",
        "actual_negatives = 0\n",
        "for p in conf_matrix.keys():\n",
        "    actual_negatives += conf_matrix[p][False]\n",
        "specificity = successful_negatives / actual_negatives\n",
        "print(f\"Specificity: {specificity:.3f}\")\n",
        "\n",
        "# Sensitivity\n",
        "actual_positives = 0\n",
        "for p in conf_matrix.keys():\n",
        "    actual_positives += conf_matrix[p][True]\n",
        "\n",
        "sensitivity = successful_positives / actual_positives\n",
        "print(f\"Sensitivity: {sensitivity:.3f}\")\n",
        "\n",
        "# False Positive Rate\n",
        "false_positives = conf_matrix[True][False]\n",
        "predicted_positives = 0\n",
        "for a in conf_matrix[True].keys():\n",
        "    predicted_positives += conf_matrix[True][a]\n",
        "fpr = false_positives / predicted_positives\n",
        "print(f\"False Positive Rate: {fpr:.3f}\")\n",
        "\n",
        "# False Negative Rate\n",
        "false_negatives = conf_matrix[False][True]\n",
        "predicted_negatives = 0\n",
        "for a in conf_matrix[False].keys():\n",
        "    predicted_negatives += conf_matrix[False][a]\n",
        "fnr = false_negatives / predicted_negatives\n",
        "print(f\"False Negative Rate: {fnr:.3f}\")"
      ],
      "execution_count": 0,
      "outputs": [
        {
          "output_type": "stream",
          "text": [
            "Specificity: 0.910\n",
            "Sensitivity: 0.907\n",
            "False Positive Rate: 0.088\n",
            "False Negative Rate: 0.095\n"
          ],
          "name": "stdout"
        }
      ]
    },
    {
      "cell_type": "markdown",
      "metadata": {
        "id": "s-jwJxaUIxqm",
        "colab_type": "text"
      },
      "source": [
        "#### Pros/Cons of these metrics\n",
        "\n",
        "**Benefit**\n",
        "- In some use cases, certain results have much bigger impacts than other. For example, in a self-driving car, we'd much rather have a false positive detection of a human in front of the car than a false negative. In the case of a false positive, the car detects a human who isn't there and slows down which is fine, but in a false negative the car does not detect a human that is there and runs them over. For these sorts of high sensitivity use cases, these metrics can be very important. \n",
        "\n",
        "**Weakness**\n",
        "- Each of these metrics only paints a partial picture of our model's performance as they are highly specialized"
      ]
    },
    {
      "cell_type": "markdown",
      "metadata": {
        "id": "BD0nOkdOP1U-",
        "colab_type": "text"
      },
      "source": [
        "### Using metrics to compare models\n",
        "Now let's group everything together, all in a single loop, using scikit-learn's built-in calculations for several of the above metrics and compare our models. Notice how the scikit-learn functions for each of the metrics takes in the same inputs in the same order. This allows us to easily interchange functions whenever we want and is one of the truly beautiful parts of scikit-learn's design!"
      ]
    },
    {
      "cell_type": "code",
      "metadata": {
        "id": "GemZ2MtDKRgY",
        "colab_type": "code",
        "colab": {}
      },
      "source": [
        "date_features = [\"day\", \"month_str\", \"year\", \"weekday_str\", \"season\", \"holiday\", \"workingday\"]\n",
        "time_features = [\"hour\"]\n",
        "weather_features = [\"weather\", \"temp\", \"atemp\", \"humidity\", \"windspeed\"]\n",
        "\n",
        "feature_sets = {\n",
        "    \"date\": date_features,\n",
        "    \"time\": time_features,\n",
        "    \"date + time\": date_features + time_features,\n",
        "    \"weather\": weather_features,\n",
        "    \"all\": date_features + time_features + weather_features\n",
        "}"
      ],
      "execution_count": 0,
      "outputs": []
    },
    {
      "cell_type": "code",
      "metadata": {
        "id": "f4NJl3VQP1VA",
        "colab_type": "code",
        "outputId": "37334ae3-0208-4af9-fcfa-64406bc56f27",
        "colab": {
          "base_uri": "https://localhost:8080/"
        }
      },
      "source": [
        "best = 0\n",
        "best_name = None\n",
        "\n",
        "precisions = []\n",
        "recalls = []\n",
        "kappas = []\n",
        "accuracies = []\n",
        "\n",
        "predictions = {}\n",
        "actual = None\n",
        "\n",
        "for set_name, feature_set in feature_sets.items():\n",
        "\n",
        "    X = bikeshare.loc[:, feature_set]\n",
        "    X = pd.get_dummies(X)\n",
        "\n",
        "    y = bikeshare[\"high_traffic\"]\n",
        "\n",
        "    X_train, X_test, y_train, y_test = train_test_split(X,y,test_size=0.20, random_state=123)\n",
        "\n",
        "    model = DecisionTreeClassifier(criterion=\"entropy\", random_state=123).fit(X_train, y_train)\n",
        "    y_pred = model.predict(X_test)\n",
        "\n",
        "    accuracy = 100*accuracy_score(y_test, y_pred)\n",
        "    kappa = cohen_kappa_score(y_test, y_pred)\n",
        "    precision = precision_score(y_test, y_pred)\n",
        "    recall = recall_score(y_test, y_pred)\n",
        "    \n",
        "    metric_to_optimize = accuracy\n",
        "    \n",
        "    if metric_to_optimize > best:\n",
        "        best = metric_to_optimize\n",
        "        best_name = set_name\n",
        "        \n",
        "    predictions[set_name] = y_pred\n",
        "    actual = np.array(list(y_test))\n",
        "    \n",
        "    # Bookkeeping and printing for the reader (not part of the core loop)\n",
        "    print(f\"Results for {set_name}:\")\n",
        "    print(confusion_matrix(y_test, y_pred))\n",
        "    print(f\"Accuracy: {accuracy:.1f} Kappa: {kappa:.3f} Precision: {precision:.3f} Recall: {recall:.3f}\")\n",
        "    precisions.append(precision)\n",
        "    recalls.append(recall)\n",
        "    kappas.append(kappa)\n",
        "    accuracies.append(accuracy)\n",
        "    print(\"------------------------\")\n",
        "    \n",
        "print(f\"Best feature set is: {best_name} \\nWith: {best:.1f}% accuracy.\")    "
      ],
      "execution_count": 0,
      "outputs": [
        {
          "output_type": "stream",
          "text": [
            "Results for date:\n",
            "[[572 501]\n",
            " [314 791]]\n",
            "Accuracy: 62.6 Kappa: 0.250 Precision: 0.612 Recall: 0.716\n",
            "------------------------\n",
            "Results for time:\n",
            "[[ 717  356]\n",
            " [  78 1027]]\n",
            "Accuracy: 80.1 Kappa: 0.600 Precision: 0.743 Recall: 0.929\n",
            "------------------------\n",
            "Results for date + time:\n",
            "[[ 976   97]\n",
            " [ 103 1002]]\n",
            "Accuracy: 90.8 Kappa: 0.816 Precision: 0.912 Recall: 0.907\n",
            "------------------------\n",
            "Results for weather:\n",
            "[[780 293]\n",
            " [392 713]]\n",
            "Accuracy: 68.5 Kappa: 0.372 Precision: 0.709 Recall: 0.645\n",
            "------------------------\n",
            "Results for all:\n",
            "[[ 962  111]\n",
            " [  91 1014]]\n",
            "Accuracy: 90.7 Kappa: 0.814 Precision: 0.901 Recall: 0.918\n",
            "------------------------\n",
            "Best feature set is: date + time \n",
            "With: 90.8% accuracy.\n"
          ],
          "name": "stdout"
        }
      ]
    },
    {
      "cell_type": "markdown",
      "metadata": {
        "id": "PgM-tTgxL9LX",
        "colab_type": "text"
      },
      "source": [
        "Notice how even though our \"best\" feature set results in a model that performs better for most metrics, it is still worse than some of the other models in recall. Its up to you as the scientist to determine what metrics are most important for a good model in your context!"
      ]
    },
    {
      "cell_type": "markdown",
      "metadata": {
        "id": "H90v266oP1VE",
        "colab_type": "text"
      },
      "source": [
        "#### Results by Feature Set\n",
        "\n",
        "With the loop above, we're able to quickly see the following results:\n",
        "\n",
        "| Date | Time | Weather | Accuracy  |\n",
        "|------|------|---------|-----------|\n",
        "| X    |      |         | 61.3%     |\n",
        "|      | X    |         | 81.7%     |\n",
        "|      |      | X       | 66.9%     |\n",
        "| X    | X    |         | 90.8%     |\n",
        "| X    | X    | X       | **91.2%** |"
      ]
    },
    {
      "cell_type": "markdown",
      "metadata": {
        "id": "lsZbeieRP1VH",
        "colab_type": "text"
      },
      "source": [
        "### Visualizing model comparisons\n",
        "We can use plots to visually see the differing performances of our models on two metrics at the same time."
      ]
    },
    {
      "cell_type": "code",
      "metadata": {
        "scrolled": false,
        "id": "wzQ-3qAdP1VJ",
        "colab_type": "code",
        "outputId": "892c7965-fb98-4d73-a3cb-c42ecbaf9917",
        "colab": {
          "base_uri": "https://localhost:8080/"
        }
      },
      "source": [
        "# Set up plot\n",
        "plt.xlim(0.5,1)\n",
        "plt.xlabel(\"Precision\")\n",
        "plt.ylim(0.5,1)\n",
        "plt.ylabel(\"Recall\")\n",
        "plt.title(\"Recall vs Precision for Different Feature Sets\")\n",
        "\n",
        "# Plot data\n",
        "names = list(feature_sets.keys())\n",
        "for i in range(len(precisions)):\n",
        "    x = precisions[i]\n",
        "    y = recalls[i]\n",
        "    plt.scatter(x, y)\n",
        "    plt.text(x+.01, y+.01, names[i], fontsize=9)"
      ],
      "execution_count": 0,
      "outputs": [
        {
          "output_type": "display_data",
          "data": {
            "image/png": "[encoded data removed]",
            "text/plain": [
              "<Figure size 432x288 with 1 Axes>"
            ]
          },
          "metadata": {
            "tags": []
          }
        }
      ]
    },
    {
      "cell_type": "code",
      "metadata": {
        "id": "aABw1p7QP1VT",
        "colab_type": "code",
        "outputId": "4d183cdd-0be1-42c2-911a-dd05e59086bf",
        "colab": {
          "base_uri": "https://localhost:8080/"
        }
      },
      "source": [
        "# Set up plot\n",
        "plt.xlim(0.5,1)\n",
        "plt.xlabel(\"Precision\")\n",
        "plt.ylim(0,1)\n",
        "plt.ylabel(\"Kappa\")\n",
        "plt.title(\"Kappa vs Precision for Different Feature Sets\")\n",
        "\n",
        "# Plot data\n",
        "names = list(feature_sets.keys())\n",
        "for i in range(len(kappas)):\n",
        "    x = precisions[i]\n",
        "    y = kappas[i]\n",
        "    plt.scatter(x, y)\n",
        "    plt.text(x+.01, y+.01, names[i], fontsize=9)"
      ],
      "execution_count": 0,
      "outputs": [
        {
          "output_type": "display_data",
          "data": {
            "image/png": "[encoded data removed]",
            "text/plain": [
              "<Figure size 432x288 with 1 Axes>"
            ]
          },
          "metadata": {
            "tags": []
          }
        }
      ]
    },
    {
      "cell_type": "markdown",
      "metadata": {
        "id": "_Y6t6odHP1VZ",
        "colab_type": "text"
      },
      "source": [
        "## Statistical significance of differences with a train/test set\n",
        "\n",
        "The following code check, for each pair of models that we have trained, whether or not the models are making significantly different predictions. Here, we are using the [Wilcoxon Signed-Rank Test](https://en.wikipedia.org/wiki/Wilcoxon_signed-rank_test) to get an associated test statistic and p-value for each pair of models."
      ]
    },
    {
      "cell_type": "code",
      "metadata": {
        "id": "oYdIVo1jP1Va",
        "colab_type": "code",
        "outputId": "a0ef2fd2-473d-473f-8c71-d17e395750d0",
        "colab": {
          "base_uri": "https://localhost:8080/"
        }
      },
      "source": [
        "matches = {}\n",
        "\n",
        "for feature_set in predictions.keys():\n",
        "    boolean_matches = (predictions[feature_set] == actual)\n",
        "    int_matches = [int(x) for x in boolean_matches]\n",
        "    matches[feature_set] = int_matches\n",
        "\n",
        "for set_a in matches.keys():\n",
        "    for set_b in matches.keys():\n",
        "        if set_a != set_b:\n",
        "            matches_a = matches[set_a]\n",
        "            matches_b = matches[set_b]\n",
        "            t, p = stats.wilcoxon(matches_a, matches_b)\n",
        "            print(f\"{set_a} || {set_b}: t={t:.1f}, p={p:.3f}\")\n",
        "    print('------')\n"
      ],
      "execution_count": 0,
      "outputs": [
        {
          "output_type": "stream",
          "text": [
            "date || time: t=208502.0, p=0.000\n",
            "date || date + time: t=44405.0, p=0.000\n",
            "date || weather: t=170945.0, p=0.000\n",
            "date || all: t=48530.0, p=0.000\n",
            "------\n",
            "time || date: t=208502.0, p=0.000\n",
            "time || date + time: t=23362.5, p=0.000\n",
            "time || weather: t=128527.0, p=0.000\n",
            "time || all: t=21650.0, p=0.000\n",
            "------\n",
            "date + time || date: t=44405.0, p=0.000\n",
            "date + time || time: t=23362.5, p=0.000\n",
            "date + time || weather: t=41170.0, p=0.000\n",
            "date + time || all: t=9554.5, p=0.886\n",
            "------\n",
            "weather || date: t=170945.0, p=0.000\n",
            "weather || time: t=128527.0, p=0.000\n",
            "weather || date + time: t=41170.0, p=0.000\n",
            "weather || all: t=38720.0, p=0.000\n",
            "------\n",
            "all || date: t=48530.0, p=0.000\n",
            "all || time: t=21650.0, p=0.000\n",
            "all || date + time: t=9554.5, p=0.886\n",
            "all || weather: t=38720.0, p=0.000\n",
            "------\n"
          ],
          "name": "stdout"
        }
      ]
    },
    {
      "cell_type": "markdown",
      "metadata": {
        "id": "xACZQuErXHTd",
        "colab_type": "text"
      },
      "source": [
        "We can see that almost all the pairs of models are pretty different in this cases, indicating that splitting by different features results in models with significantly different predictions! The only two models that don't have significantly different predictions are the models using date/time and date/time/weather, indicating that weather only plays a small role in the model that uses all 3 feature subets!"
      ]
    },
    {
      "cell_type": "markdown",
      "metadata": {
        "id": "N1hz9rO3P1Vg",
        "colab_type": "text"
      },
      "source": [
        "# Logistic Regression \n",
        "\n",
        "Now that we are starting to get comfortable with decision trees and the basics of machine learnings, lets add a new model to our classification toolkit. Logistic regression is one of the most commonly used machine learning methods in use today. The intuitive idea behind logstic regression is simple -- take our test data and find the line (or plane) that best splits it into the two groups. This is in contrast with decision trees which use a series of if/then statements to split up the data. Logistic regression is very useful when the data has some sort of linear relationship and also comes with the benefit of being easy to interpret. [Here's some more on logistic regression.](https://towardsdatascience.com/logistic-regression-detailed-overview-46c4da4303bc)\n",
        "\n",
        "![alt text](https://miro.medium.com/max/1280/1*bcWJyX3iAIr0MGNIxUnQxg.png)\n"
      ]
    },
    {
      "cell_type": "markdown",
      "metadata": {
        "id": "Qjsu3vnQd34H",
        "colab_type": "text"
      },
      "source": [
        "## Implementation by hand"
      ]
    },
    {
      "cell_type": "markdown",
      "metadata": {
        "id": "o4lliDok3ksJ",
        "colab_type": "text"
      },
      "source": [
        "There are a few functions that we must implement in order to train a logistic regression model by hand. Lets consider each part individually, starting with the model itself.\n",
        "\n",
        "The logistic regression model has two essential computational steps. The first is a linear transformation and the second is the logistic function. Intuitively, we can think of the first step as assigning diferent weights (we will call these weights $\\beta$) to each of the data features and taking a weighted average of them all to get a single number to represent the data points. The logistic function then squashes this number between 0 and 1 for us, which turns out to be useful in training. The logistic function looks a bit like this:\n",
        "\n",
        "![alt text](https://upload.wikimedia.org/wikipedia/commons/thumb/8/88/Logistic-curve.svg/480px-Logistic-curve.svg.png)\n",
        "\n",
        "In equations, a logistic regression model can be expressed as the following:\n",
        "\n",
        "$$ \\hat{y} = \\frac{1}{1 + e^{-X \\beta^T}}$$\n",
        "\n",
        "Lets also implement this in code:"
      ]
    },
    {
      "cell_type": "code",
      "metadata": {
        "id": "_HxKeyyqP1Vh",
        "colab_type": "code",
        "colab": {}
      },
      "source": [
        "def logistic_regression_model(beta, X): \n",
        "    return 1.0/(1 + np.exp(-np.dot(X, beta.T)))"
      ],
      "execution_count": 0,
      "outputs": []
    },
    {
      "cell_type": "markdown",
      "metadata": {
        "id": "ZDhJakOpm7de",
        "colab_type": "text"
      },
      "source": [
        "Now that we can evaluate the model for a given input and $\\beta$, we need to consider how to train the model. Many of the techniques used in practice boil down to variants of one core technique -- Gradient Descent. The inuitive idea behind gradient descent is quite simple. First we evaluate our model with some cost function. Then we take the gradients of each of the parameters ($\\beta$s) of our model with respect to the cost function. Finally we move our parameters in the negative direction of the gradient to decrease our cost function. We then repeat this until we converge to a good model. [This resource provides some nice visuals to see what this looks like](https://hackernoon.com/dl03-gradient-descent-719aff91c7d6)\n",
        "\n",
        "![alt text](https://hackernoon.com/hn-images/0*D7zG46WrdKx54pbU.gif)\n",
        "\n",
        "For classification tasks, a good choice of gradient descent cost function is cross entropy loss which is defined as follows:\n",
        "\n",
        "$$ cross \\space entropy = \\frac{1}{N}\\sum_{y_i \\in Y} y_ilog(\\hat{y}_i) + (1-y_i)log(1-\\hat{y}_i)$$\n",
        "\n",
        "where $y_i$ are the real labels and $\\hat{y}_i$ are the corresponding predicted labels. Now lets write this out in code as well:"
      ]
    },
    {
      "cell_type": "code",
      "metadata": {
        "id": "V4eQ3lhRm90n",
        "colab_type": "code",
        "colab": {}
      },
      "source": [
        "# Function to compute the cross entropy between a model's output and the true labels\n",
        "def cross_entropy_cost(beta, X, y): \n",
        "    # evaluate the model for a given beta\n",
        "    log_func_v = logistic_regression_model(beta, X) \n",
        "    y = np.squeeze(y) \n",
        "    \n",
        "    # compute the cross entropy for each data point\n",
        "    step1 = y * np.log(log_func_v) \n",
        "    step2 = (1 - y) * np.log(1 - log_func_v) \n",
        "    final = -step1 -step2 \n",
        "\n",
        "    # return the average over all the data points\n",
        "    return np.mean(final) \n",
        "\n",
        "# Function to compute the gradients of the cost for each parameter -- don't worry too much about the math\n",
        "def partial_derivative(beta, X, y): \n",
        "    new_y = y.reshape(X.shape[0], -1) \n",
        "    first_calc = logistic_regression_model(beta, X) - new_y\n",
        "    final_calc = np.dot(first_calc.T, X) / len(X)\n",
        "    return final_calc \n",
        "\n",
        "# Finally lets put it all together to train with gradient descent\n",
        "def gradient_descent(X, y, learning_rate=1, minimum_change=.0001): \n",
        "\n",
        "    # Initialize model betas to 0 before starting training\n",
        "    beta = [0] * X.shape[1]\n",
        "    beta = np.matrix(beta)\n",
        "\n",
        "    # Compute our initial loss and initalize some variables\n",
        "    cost = cross_entropy_cost(beta, X, y) \n",
        "    change_in_cost = 1\n",
        "    num_iter = 1\n",
        "    \n",
        "    # If our loss is still changing enough from iteration to iteration\n",
        "    while(change_in_cost > minimum_change): \n",
        "        old_cost = cost \n",
        "\n",
        "        # Update the betas of our model using its gradient and compute the new cost\n",
        "        beta = beta - (learning_rate * partial_derivative(beta, X, y)) \n",
        "        cost = cross_entropy_cost(beta, X, y) \n",
        "        \n",
        "        # Check the change in cost so we know if we should stop training\n",
        "        change_in_cost = old_cost - cost \n",
        "\n",
        "        # Ocassionally print out some updates on the training\n",
        "        if num_iter % 1000 == 0:\n",
        "            print(f\"Iteration {num_iter}: {change_in_cost:.5f} change in cost.\")\n",
        "        num_iter += 1\n",
        "      \n",
        "    # Return the number of iterations spent training and the final betas\n",
        "    return np.array(beta).squeeze(), num_iter "
      ],
      "execution_count": 0,
      "outputs": []
    },
    {
      "cell_type": "markdown",
      "metadata": {
        "id": "l0PwI4UYvQmJ",
        "colab_type": "text"
      },
      "source": [
        "Before we run our model, let's also normalize our training data. When using gradient descent, we usually want to normalize our data before training. This helps with numerical stability (helps us avoid really small or really big numbers where the computer will have issues) and usually results in much quicker model convergence. An important point to note, however, is that it is very important to normalize your train and test data in the same way! For example, if you subtract the mean of you train data from all the train data points to normalize your train data to have mean 0, you should use should subtract that same value from the test data points (instead of using the test data mean)."
      ]
    },
    {
      "cell_type": "code",
      "metadata": {
        "id": "jWml-kuAP1Vm",
        "colab_type": "code",
        "colab": {}
      },
      "source": [
        "# Generally, normalizing our data helps our model converge faster\n",
        "def normalize(column): \n",
        "    mins = min(column)\n",
        "    maxs = max(column)\n",
        "    column_range = maxs - mins \n",
        "    normalized = column / column_range\n",
        "    return normalized "
      ],
      "execution_count": 0,
      "outputs": []
    },
    {
      "cell_type": "code",
      "metadata": {
        "id": "SQFK9juvP1Vp",
        "colab_type": "code",
        "colab": {}
      },
      "source": [
        "# Get our dataset\n",
        "X = bikeshare.loc[:, weather_features]\n",
        "X = pd.get_dummies(X)\n",
        "X = X.apply(normalize)\n",
        "y = bikeshare[\"high_traffic\"]\n",
        "\n",
        "# Move our data to numpy\n",
        "X = np.matrix(X)\n",
        "y = np.matrix(y)"
      ],
      "execution_count": 0,
      "outputs": []
    },
    {
      "cell_type": "markdown",
      "metadata": {
        "id": "3gUFfT5H2-jZ",
        "colab_type": "text"
      },
      "source": [
        "Now that we have implemented everything we need to run a logstic regression model, lets run it on some data and see how it does!"
      ]
    },
    {
      "cell_type": "code",
      "metadata": {
        "scrolled": false,
        "id": "HgHLANlyP1Vs",
        "colab_type": "code",
        "outputId": "d7a7674f-9708-496e-c745-960b165a988f",
        "colab": {
          "base_uri": "https://localhost:8080/"
        }
      },
      "source": [
        "# Train our model, and save our beta values\n",
        "beta, num_iter = gradient_descent(X, y) \n",
        "\n",
        "print(\"Estimated regression coefficients:\", beta) \n",
        "print(\"No. of iterations:\", num_iter) \n",
        "\n",
        "# Use our model to make predictions for our data\n",
        "output_probabilities = logistic_regression_model(beta, X)\n",
        "output_probabilities = output_probabilities.tolist()[0]\n",
        "threshold = 0.5\n",
        "preds = [x > threshold for x in output_probabilities]\n",
        "\n",
        "# Print out some metrics based on our predictions\n",
        "y = np.array(y).squeeze()\n",
        "accuracy = 100*accuracy_score(y, preds)\n",
        "kappa = cohen_kappa_score(y, preds)\n",
        "precision = precision_score(y, preds)\n",
        "recall = recall_score(y, preds)\n",
        "print(f\"Accuracy: {accuracy:.1f} Kappa: {kappa:.3f} Precision: {precision:.3f} Recall: {recall:.3f}\")"
      ],
      "execution_count": 0,
      "outputs": [
        {
          "output_type": "stream",
          "text": [
            "Iteration 1000: 0.00084 change in cost.\n",
            "Iteration 2000: 0.00019 change in cost.\n",
            "Iteration 3000: 0.00015 change in cost.\n",
            "Iteration 4000: 0.00012 change in cost.\n",
            "Iteration 5000: 0.00010 change in cost.\n",
            "Estimated regression coefficients: [ 0.18651935  1.99991752  2.77171851 -4.1097967   0.07498157]\n",
            "No. of iterations: 5053\n",
            "Accuracy: 70.8 Kappa: 0.415 Precision: 0.717 Recall: 0.685\n"
          ],
          "name": "stdout"
        }
      ]
    },
    {
      "cell_type": "code",
      "metadata": {
        "id": "td89PCouP1Vv",
        "colab_type": "code",
        "outputId": "d72dfd12-49f3-4570-8672-8c672be71eb0",
        "colab": {
          "base_uri": "https://localhost:8080/"
        }
      },
      "source": [
        "# Prepare data to be plotted\n",
        "prob_series = pd.Series(output_probabilities)\n",
        "actual = pd.Series(bikeshare['high_traffic'])\n",
        "positives = prob_series.loc[actual == True]\n",
        "negatives = prob_series.loc[actual == False]\n",
        "\n",
        "# Set up plot\n",
        "ax.set_xticklabels([\"High Traffic\", \"Low Traffic\"])\n",
        "plt.ylabel(\"Predicted Probability of High Traffic\")\n",
        "plt.xlabel(\"Actual Label\")\n",
        "\n",
        "# Plot data\n",
        "plt.boxplot([positives, negatives], labels = ['positives', 'negatives'])\n",
        "ax = plt.gca()\n",
        "plt.show()"
      ],
      "execution_count": 0,
      "outputs": [
        {
          "output_type": "display_data",
          "data": {
            "image/png": "[encoded data removed]",
            "text/plain": [
              "<Figure size 432x288 with 1 Axes>"
            ]
          },
          "metadata": {
            "tags": []
          }
        }
      ]
    },
    {
      "cell_type": "markdown",
      "metadata": {
        "id": "KdXg2Yh13Hu4",
        "colab_type": "text"
      },
      "source": [
        "Check out how the model mostly predicts higher values (above .5) when the actual label is True and mostly predicts lower values (below .5) when the actual label is False."
      ]
    },
    {
      "cell_type": "markdown",
      "metadata": {
        "id": "HuzrlCfb2Kop",
        "colab_type": "text"
      },
      "source": [
        "## Logistic Regression with scikit-learn"
      ]
    },
    {
      "cell_type": "code",
      "metadata": {
        "scrolled": true,
        "id": "OEmhwY_AP1Vz",
        "colab_type": "code",
        "outputId": "7597339d-c13b-4e46-c64d-d8d6e057ac2f",
        "colab": {
          "base_uri": "https://localhost:8080/"
        }
      },
      "source": [
        "# Prepare data\n",
        "X = bikeshare.loc[:, weather_features]\n",
        "X = pd.get_dummies(X)\n",
        "y = bikeshare[\"high_traffic\"]\n",
        "\n",
        "# Train model\n",
        "classifier = LogisticRegression(penalty=\"none\", solver=\"lbfgs\", max_iter=10000, random_state=123)\n",
        "model = classifier.fit(X, y)\n",
        "\n",
        "# Get Predictions\n",
        "preds = model.predict(X)\n",
        "\n",
        "# Compute and print metrics\n",
        "accuracy = 100*accuracy_score(y, preds)\n",
        "kappa = cohen_kappa_score(y, preds)\n",
        "precision = precision_score(y, preds)\n",
        "recall = recall_score(y, preds)\n",
        "print(f\"Accuracy: {accuracy:.1f} Kappa: {kappa:.3f} Precision: {precision:.3f} Recall: {recall:.3f}\")"
      ],
      "execution_count": 0,
      "outputs": [
        {
          "output_type": "stream",
          "text": [
            "Accuracy: 70.8 Kappa: 0.415 Precision: 0.720 Recall: 0.678\n"
          ],
          "name": "stdout"
        }
      ]
    },
    {
      "cell_type": "markdown",
      "metadata": {
        "id": "HiYnT-3GP1V8",
        "colab_type": "text"
      },
      "source": [
        "## Comparisons Between Classification Algorithms\n",
        "\n",
        "Now that we have two completely different types of models, lets compare them and see which model is best for modeling this dataset!"
      ]
    },
    {
      "cell_type": "code",
      "metadata": {
        "id": "aaerh-WBP1V_",
        "colab_type": "code",
        "colab": {}
      },
      "source": [
        "# Define a function that takes in the predictions of a classifier, the true labels,\n",
        "# and a set of metrics and displays the model's performance on the metrics\n",
        "def common_evaluations(y_pred, y_actual, metrics, model_name = 'model'):\n",
        "    # Compute Metrics\n",
        "    conf_matrix = confusion_matrix(y_actual, y_pred)\n",
        "    model_results = {}\n",
        "    for (metric_name, metric) in metrics.items():\n",
        "        result = metric(y_actual, y_pred)\n",
        "        model_results[metric_name] = result\n",
        "\n",
        "    # Display Metrics\n",
        "    print(f\"Results for {model_name}:\")\n",
        "    ConfusionMatrixDisplay(conf_matrix, [\"low traffic\", \"high traffic\"]).plot(values_format='.4g')\n",
        "    plt.show()\n",
        "    print(model_results)\n",
        "    print(\"------------------------\")\n",
        "\n",
        "    return model_results\n",
        "    "
      ],
      "execution_count": 0,
      "outputs": []
    },
    {
      "cell_type": "code",
      "metadata": {
        "id": "iVOJX5iwP1WD",
        "colab_type": "code",
        "outputId": "39174ec0-f108-4573-f73f-80477b1c7b36",
        "colab": {
          "base_uri": "https://localhost:8080/",
          "height": 677
        }
      },
      "source": [
        "# Set a list of classifiers we want to compare\n",
        "classifiers = {\n",
        "    \"Decision Tree\"      : DecisionTreeClassifier(criterion=\"entropy\", random_state=123),\n",
        "    \"Logistic Regression\": LogisticRegression(penalty=\"none\", solver=\"lbfgs\", max_iter=10000, random_state=123),\n",
        "}\n",
        "\n",
        "# Set a list of metrics we want to use to compare our classifiers \n",
        "metrics = {\n",
        "    \"Accuracy\" : lambda y,y_pred: 100*accuracy_score(y,y_pred),\n",
        "    \"Kappa\"    : cohen_kappa_score,\n",
        "    \"Precision\": precision_score,\n",
        "    \"Recall\"   : recall_score\n",
        "}\n",
        "\n",
        "# Choose a metric to optimize over\n",
        "metric_to_optimize = 'Accuracy'\n",
        "\n",
        "# Choose a subset of features for our dataset\n",
        "date_features = [\"day\", \"month\", \"year\", \"weekday\", \"season\", \"holiday\", \"workingday\"]\n",
        "time_features = [\"hour\"]\n",
        "weather_features = [\"weather\", \"temp\", \"atemp\", \"humidity\", \"windspeed\"]\n",
        "\n",
        "feature_set = date_features + time_features + weather_features\n",
        "\n",
        "# Create our train/test split using this subset of features\n",
        "X = bikeshare.loc[:, feature_set]\n",
        "y = bikeshare[\"high_traffic\"]\n",
        "X_train, X_test, y_train, y_test = train_test_split(X,y,test_size=0.20, random_state=12345)\n",
        "\n",
        "# Create variables to keep track of our best model and the metrics for each model\n",
        "best_model_metric = 0\n",
        "best_model_name = None\n",
        "\n",
        "all_model_metrics = {metric: [] for metric in metrics}\n",
        "\n",
        "# For each model in our set of classifiers\n",
        "for classifier_name, classifier in classifiers.items():\n",
        "\n",
        "    # Train the classifier and get its predictions on the test set\n",
        "    model = classifier.fit(X_train, y_train)\n",
        "    y_pred = model.predict(X_test)\n",
        "\n",
        "    # Evaluate our metrics on the data \n",
        "    model_results = common_evaluations(y_pred, y_test, metrics, classifier_name)\n",
        "    \n",
        "    # Update our best model if this model is better than our previous best\n",
        "    comparison_metric = model_results[metric_to_optimize]\n",
        "    if comparison_metric > best_model_metric:\n",
        "        best_model_metric = comparison_metric\n",
        "        best_model_name = classifier_name\n",
        "\n",
        "    # Store the metrics for this model\n",
        "    for metric in model_results:\n",
        "        all_model_metrics[metric].append(model_results[metric]) \n",
        "    \n",
        "print(f\"Best classifier is: {best_model_name} \\nWith: {best_model_metric:.1f}% accuracy.\")   "
      ],
      "execution_count": 0,
      "outputs": [
        {
          "output_type": "stream",
          "text": [
            "Results for Decision Tree:\n"
          ],
          "name": "stdout"
        },
        {
          "output_type": "display_data",
          "data": {
            "image/png": "[encoded data removed]",
            "text/plain": [
              "<Figure size 432x288 with 2 Axes>"
            ]
          },
          "metadata": {
            "tags": []
          }
        },
        {
          "output_type": "stream",
          "text": [
            "{'Accuracy': 91.3682277318641, 'Kappa': 0.827363535635805, 'Precision': 0.9108455882352942, 'Recall': 0.9158964879852126}\n",
            "------------------------\n",
            "Results for Logistic Regression:\n"
          ],
          "name": "stdout"
        },
        {
          "output_type": "display_data",
          "data": {
            "image/png": "[encoded data removed]",
            "text/plain": [
              "<Figure size 432x288 with 2 Axes>"
            ]
          },
          "metadata": {
            "tags": []
          }
        },
        {
          "output_type": "stream",
          "text": [
            "{'Accuracy': 79.43067033976125, 'Kappa': 0.5885138246710199, 'Precision': 0.8024809160305344, 'Recall': 0.777264325323475}\n",
            "------------------------\n",
            "Best classifier is: Decision Tree \n",
            "With: 91.4% accuracy.\n"
          ],
          "name": "stdout"
        }
      ]
    },
    {
      "cell_type": "markdown",
      "metadata": {
        "id": "4FRGny7tnwjc",
        "colab_type": "text"
      },
      "source": [
        "The code above is an example of good data science code. We are easily able to change and scale up our experiment with only minor modification. For example, we could easily change our set of classifiers, set of metrics, evaluation metric, and set of features to run new comparions. While it takes some practice to be able to write code like this, you will quickly find that this will reduce the time that it takes to set up a new experiment by orders of magnitudes and that it results in code that is much more concise and easy to read!\n",
        "\n",
        "Before we conclude this section, lets make a plot to visualize the difference in precision and recall between our two models."
      ]
    },
    {
      "cell_type": "code",
      "metadata": {
        "scrolled": false,
        "colab_type": "code",
        "id": "O6I66E2Uayp6",
        "outputId": "037d5b65-775b-4be4-c5d6-0645f6af696a",
        "colab": {
          "base_uri": "https://localhost:8080/",
          "height": 295
        }
      },
      "source": [
        "# Set up plot\n",
        "plt.xlim(0.5,1)\n",
        "plt.xlabel(\"Precision\")\n",
        "plt.ylim(0.5,1)\n",
        "plt.ylabel(\"Recall\")\n",
        "plt.title(\"Recall vs Precision for Different Classifiers\")\n",
        "\n",
        "# Plot data\n",
        "names = list(classifiers.keys())\n",
        "for i in range(len(classifiers)):\n",
        "    x = all_model_metrics['Precision'][i]\n",
        "    y = all_model_metrics['Recall'][i]\n",
        "    plt.scatter(x, y)\n",
        "    plt.text(x+.01, y+.01, names[i], fontsize=9)"
      ],
      "execution_count": 0,
      "outputs": [
        {
          "output_type": "display_data",
          "data": {
            "image/png": "[encoded data removed]",
            "text/plain": [
              "<Figure size 432x288 with 1 Axes>"
            ]
          },
          "metadata": {
            "tags": []
          }
        }
      ]
    },
    {
      "cell_type": "markdown",
      "metadata": {
        "id": "XbCzzgPLpdTP",
        "colab_type": "text"
      },
      "source": [
        "For this dataset, we can see that decision trees blow logistic regression out of the water since we get much better precision and recall with them. While, at first, it may seem like the only to figure this out would be to train and evaluate both of the models, we actually could have figured this out just by considering the properties of the two models and our data! Let's think about how we could have done that.\n",
        "\n",
        "From our experiments with trees, we know that date and time are strong predictors of bikeshare traffic level. The question is, why is logistic regression not able to use this data effectively? The answer is actually pretty simple. The numerical ordering for date and time don't make sense. For example, December and January are very close together. In contrast, when we look at our data, January and December are actually really far apart because they are Month 1 and Month 12 respectively! Furthermore, the same thing thing happens when we look at the time of day or day of the week!\n",
        "\n",
        "When we use decision trees, we can draw multiple lines between months to use in our classification, but with logistic regression we can only draw one. This means that for logistic regression, there is no way to make up for this discrepancy between the true cyclical structure of the months and their ordered representation in our dataset. The problem is not the model, but the format of the data (oops!). This is an awesome example of how data format influences model choice and model choice influences data format!"
      ]
    },
    {
      "cell_type": "markdown",
      "metadata": {
        "id": "Qr7DM2ozP1WP",
        "colab_type": "text"
      },
      "source": [
        "# Tomorrow\n",
        "Tomorrow, we'll dive into much more detail on experimental setup and the type of tuning and evaluation that you can do once you have multiple classifiers, feature sets, and other aspects of classification to tune."
      ]
    }
  ]
}