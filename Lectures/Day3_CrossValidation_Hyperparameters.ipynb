{
  "nbformat": 4,
  "nbformat_minor": 0,
  "metadata": {
    "kernelspec": {
      "display_name": "Python 3",
      "language": "python",
      "name": "python3"
    },
    "language_info": {
      "codemirror_mode": {
        "name": "ipython",
        "version": 3
      },
      "file_extension": ".py",
      "mimetype": "text/x-python",
      "name": "python",
      "nbconvert_exporter": "python",
      "pygments_lexer": "ipython3",
      "version": "3.7.4"
    },
    "colab": {
      "name": "Day3-CrossValidation-Hyperparameters.ipynb",
      "provenance": [],
      "include_colab_link": true
    }
  },
  "cells": [
    {
      "cell_type": "markdown",
      "metadata": {
        "id": "view-in-github",
        "colab_type": "text"
      },
      "source": [
        "<a href=\"https://colab.research.google.com/github/chetan-parthiban/MSSP608/blob/master/Lectures/Day3_CrossValidation_Hyperparameters.ipynb\" target=\"_parent\"><img src=\"https://colab.research.google.com/assets/colab-badge.svg\" alt=\"Open In Colab\"/></a>"
      ]
    },
    {
      "cell_type": "code",
      "metadata": {
        "id": "7wla1R_1moa1",
        "colab_type": "code",
        "colab": {
          "base_uri": "https://localhost:8080/",
          "height": 71
        },
        "outputId": "cdad9f6f-573f-4cf9-93bb-97bb9b7334ed"
      },
      "source": [
        "import math\n",
        "import pandas as pd\n",
        "import numpy as np\n",
        "import statsmodels.formula.api as smf\n",
        "import matplotlib.pyplot as plt\n",
        "import calendar\n",
        "import itertools\n",
        "from scipy import stats\n",
        "from matplotlib import dates\n",
        "from datetime import datetime\n",
        "\n",
        "from sklearn.metrics import accuracy_score, precision_score, recall_score, cohen_kappa_score, confusion_matrix, ConfusionMatrixDisplay\n",
        "from sklearn.linear_model import LogisticRegression\n",
        "from sklearn.tree import DecisionTreeClassifier\n",
        "from sklearn import tree\n",
        "from sklearn.naive_bayes import MultinomialNB\n",
        "from sklearn.model_selection import train_test_split, KFold, GridSearchCV\n",
        "from sklearn.utils.testing import ignore_warnings\n",
        "from sklearn.exceptions import ConvergenceWarning, UndefinedMetricWarning"
      ],
      "execution_count": 1,
      "outputs": [
        {
          "output_type": "stream",
          "text": [
            "/usr/local/lib/python3.6/dist-packages/sklearn/utils/deprecation.py:144: FutureWarning: The sklearn.utils.testing module is  deprecated in version 0.22 and will be removed in version 0.24. The corresponding classes / functions should instead be imported from sklearn.utils. Anything that cannot be imported from sklearn.utils is now part of the private API.\n",
            "  warnings.warn(message, FutureWarning)\n"
          ],
          "name": "stderr"
        }
      ]
    },
    {
      "cell_type": "markdown",
      "metadata": {
        "id": "nGdpqA-T74f6",
        "colab_type": "text"
      },
      "source": [
        "# Prerequisite Knowledge \n",
        "In order to understand this notebook well you should already feel pretty comfortable with the following topics:\n",
        "- Train/Test Splits\n",
        "- Decision Trees\n",
        "- Logistic Regression\n",
        "\n",
        "Furthermore, in this notebook you will start to see some more advanced elements of python and code design. We will be using two elements of python called \"lambda functions\" and \"list comprehension\". Here are some references to better understand them\n",
        "- [lambda functions](https://www.guru99.com/python-lambda-function.html)\n",
        "- [list comprehension](https://www.pythonforbeginners.com/basics/list-comprehensions-in-python)\n",
        "\n",
        "We'll also be writing our code primarily in highly general functions so that we can reuse our code to quickly run many different experiments."
      ]
    },
    {
      "cell_type": "markdown",
      "metadata": {
        "id": "b7kxmmRSnEZK",
        "colab_type": "text"
      },
      "source": [
        "# Downloading and Preprocessing the Data (Same as in Days 1/2)\n",
        "\n",
        "If you understand this part of the Day 1 and Day 2 notebooks, then feel free to skip over reading this part of the notebook since it is exactly the same. "
      ]
    },
    {
      "cell_type": "code",
      "metadata": {
        "id": "sOP9zyzGm3OV",
        "colab_type": "code",
        "outputId": "bb51d103-a8c1-4e1e-9aca-f025bcc23863",
        "colab": {
          "base_uri": "https://localhost:8080/",
          "height": 0
        }
      },
      "source": [
        "# Download the data\n",
        "!wget --no-check-certificate 'https://docs.google.com/uc?export=download&id=0B5qTk6DHjanhY2ZaOENiUnROQVZld1lQVXNVNzh0dnZodFdJ' -O bikeshare_train.csv"
      ],
      "execution_count": 2,
      "outputs": [
        {
          "output_type": "stream",
          "text": [
            "--2020-01-24 00:52:37--  https://docs.google.com/uc?export=download&id=0B5qTk6DHjanhY2ZaOENiUnROQVZld1lQVXNVNzh0dnZodFdJ\n",
            "Resolving docs.google.com (docs.google.com)... 64.233.189.100, 64.233.189.102, 64.233.189.113, ...\n",
            "Connecting to docs.google.com (docs.google.com)|64.233.189.100|:443... connected.\n",
            "HTTP request sent, awaiting response... 302 Moved Temporarily\n",
            "Location: https://doc-0s-5c-docs.googleusercontent.com/docs/securesc/ha0ro937gcuc7l7deffksulhg5h7mbp1/7v1t2292k3lkdme0ladm9st24i8it4dk/1579824000000/09819396713149841370/*/0B5qTk6DHjanhY2ZaOENiUnROQVZld1lQVXNVNzh0dnZodFdJ?e=download [following]\n",
            "Warning: wildcards not supported in HTTP.\n",
            "--2020-01-24 00:52:38--  https://doc-0s-5c-docs.googleusercontent.com/docs/securesc/ha0ro937gcuc7l7deffksulhg5h7mbp1/7v1t2292k3lkdme0ladm9st24i8it4dk/1579824000000/09819396713149841370/*/0B5qTk6DHjanhY2ZaOENiUnROQVZld1lQVXNVNzh0dnZodFdJ?e=download\n",
            "Resolving doc-0s-5c-docs.googleusercontent.com (doc-0s-5c-docs.googleusercontent.com)... 108.177.97.132, 2404:6800:4008:c00::84\n",
            "Connecting to doc-0s-5c-docs.googleusercontent.com (doc-0s-5c-docs.googleusercontent.com)|108.177.97.132|:443... connected.\n",
            "HTTP request sent, awaiting response... 200 OK\n",
            "Length: 648353 (633K) [text/csv]\n",
            "Saving to: ‘bikeshare_train.csv’\n",
            "\n",
            "bikeshare_train.csv 100%[===================>] 633.16K  --.-KB/s    in 0.004s  \n",
            "\n",
            "2020-01-24 00:52:39 (155 MB/s) - ‘bikeshare_train.csv’ saved [648353/648353]\n",
            "\n"
          ],
          "name": "stdout"
        }
      ]
    },
    {
      "cell_type": "code",
      "metadata": {
        "scrolled": true,
        "id": "FmF2tNC4mobC",
        "colab_type": "code",
        "outputId": "66761437-bbb3-4673-cebe-34449ae1cb0c",
        "colab": {
          "base_uri": "https://localhost:8080/",
          "height": 0
        }
      },
      "source": [
        "bikeshare = pd.read_csv(\"bikeshare_train.csv\")\n",
        "bikeshare[\"date_objs\"] = bikeshare[\"datetime\"].apply(lambda x: datetime.strptime(x, '%Y-%m-%d %H:%M:%S'))\n",
        "bikeshare[\"hour\"] = bikeshare[\"date_objs\"].apply(lambda x: x.hour)\n",
        "bikeshare[\"day\"] = bikeshare[\"date_objs\"].apply(lambda x: x.day)\n",
        "bikeshare[\"month\"] = bikeshare[\"date_objs\"].apply(lambda x: x.month)\n",
        "bikeshare[\"year\"] = bikeshare[\"date_objs\"].apply(lambda x: x.year)\n",
        "bikeshare[\"weekday\"] = bikeshare[\"date_objs\"].apply(lambda x: x.weekday())\n",
        "bikeshare[\"plot_time\"] = bikeshare[\"datetime\"].apply(dates.datestr2num)\n",
        "\n",
        "bikeshare[\"month_str\"] = bikeshare[\"month\"].apply(lambda x: calendar.month_name[x])\n",
        "bikeshare[\"weekday_str\"] = bikeshare[\"weekday\"].apply(lambda x: calendar.day_name[x])\n",
        "bikeshare[\"high_traffic\"] = bikeshare[\"count\"] > 145\n",
        "\n",
        "def weather_norm(x):\n",
        "    if x == 1:\n",
        "        return \"clear\"\n",
        "    if x == 2:\n",
        "        return \"overcast\"\n",
        "    if x > 2:\n",
        "        return \"gross\"\n",
        "    \n",
        "bikeshare[\"weather_norm\"] = bikeshare[\"weather\"].apply(weather_norm)\n",
        "print(bikeshare[\"weather_norm\"].value_counts())\n",
        "bikeshare.head()"
      ],
      "execution_count": 3,
      "outputs": [
        {
          "output_type": "stream",
          "text": [
            "clear       7192\n",
            "overcast    2834\n",
            "gross        860\n",
            "Name: weather_norm, dtype: int64\n"
          ],
          "name": "stdout"
        },
        {
          "output_type": "execute_result",
          "data": {
            "text/html": [
              "<div>\n",
              "<style scoped>\n",
              "    .dataframe tbody tr th:only-of-type {\n",
              "        vertical-align: middle;\n",
              "    }\n",
              "\n",
              "    .dataframe tbody tr th {\n",
              "        vertical-align: top;\n",
              "    }\n",
              "\n",
              "    .dataframe thead th {\n",
              "        text-align: right;\n",
              "    }\n",
              "</style>\n",
              "<table border=\"1\" class=\"dataframe\">\n",
              "  <thead>\n",
              "    <tr style=\"text-align: right;\">\n",
              "      <th></th>\n",
              "      <th>datetime</th>\n",
              "      <th>season</th>\n",
              "      <th>holiday</th>\n",
              "      <th>workingday</th>\n",
              "      <th>weather</th>\n",
              "      <th>temp</th>\n",
              "      <th>atemp</th>\n",
              "      <th>humidity</th>\n",
              "      <th>windspeed</th>\n",
              "      <th>casual</th>\n",
              "      <th>registered</th>\n",
              "      <th>count</th>\n",
              "      <th>date_objs</th>\n",
              "      <th>hour</th>\n",
              "      <th>day</th>\n",
              "      <th>month</th>\n",
              "      <th>year</th>\n",
              "      <th>weekday</th>\n",
              "      <th>plot_time</th>\n",
              "      <th>month_str</th>\n",
              "      <th>weekday_str</th>\n",
              "      <th>high_traffic</th>\n",
              "      <th>weather_norm</th>\n",
              "    </tr>\n",
              "  </thead>\n",
              "  <tbody>\n",
              "    <tr>\n",
              "      <th>0</th>\n",
              "      <td>2011-01-01 00:00:00</td>\n",
              "      <td>1</td>\n",
              "      <td>0</td>\n",
              "      <td>0</td>\n",
              "      <td>1</td>\n",
              "      <td>9.84</td>\n",
              "      <td>14.395</td>\n",
              "      <td>81</td>\n",
              "      <td>0.0</td>\n",
              "      <td>3</td>\n",
              "      <td>13</td>\n",
              "      <td>16</td>\n",
              "      <td>2011-01-01 00:00:00</td>\n",
              "      <td>0</td>\n",
              "      <td>1</td>\n",
              "      <td>1</td>\n",
              "      <td>2011</td>\n",
              "      <td>5</td>\n",
              "      <td>734138.000000</td>\n",
              "      <td>January</td>\n",
              "      <td>Saturday</td>\n",
              "      <td>False</td>\n",
              "      <td>clear</td>\n",
              "    </tr>\n",
              "    <tr>\n",
              "      <th>1</th>\n",
              "      <td>2011-01-01 01:00:00</td>\n",
              "      <td>1</td>\n",
              "      <td>0</td>\n",
              "      <td>0</td>\n",
              "      <td>1</td>\n",
              "      <td>9.02</td>\n",
              "      <td>13.635</td>\n",
              "      <td>80</td>\n",
              "      <td>0.0</td>\n",
              "      <td>8</td>\n",
              "      <td>32</td>\n",
              "      <td>40</td>\n",
              "      <td>2011-01-01 01:00:00</td>\n",
              "      <td>1</td>\n",
              "      <td>1</td>\n",
              "      <td>1</td>\n",
              "      <td>2011</td>\n",
              "      <td>5</td>\n",
              "      <td>734138.041667</td>\n",
              "      <td>January</td>\n",
              "      <td>Saturday</td>\n",
              "      <td>False</td>\n",
              "      <td>clear</td>\n",
              "    </tr>\n",
              "    <tr>\n",
              "      <th>2</th>\n",
              "      <td>2011-01-01 02:00:00</td>\n",
              "      <td>1</td>\n",
              "      <td>0</td>\n",
              "      <td>0</td>\n",
              "      <td>1</td>\n",
              "      <td>9.02</td>\n",
              "      <td>13.635</td>\n",
              "      <td>80</td>\n",
              "      <td>0.0</td>\n",
              "      <td>5</td>\n",
              "      <td>27</td>\n",
              "      <td>32</td>\n",
              "      <td>2011-01-01 02:00:00</td>\n",
              "      <td>2</td>\n",
              "      <td>1</td>\n",
              "      <td>1</td>\n",
              "      <td>2011</td>\n",
              "      <td>5</td>\n",
              "      <td>734138.083333</td>\n",
              "      <td>January</td>\n",
              "      <td>Saturday</td>\n",
              "      <td>False</td>\n",
              "      <td>clear</td>\n",
              "    </tr>\n",
              "    <tr>\n",
              "      <th>3</th>\n",
              "      <td>2011-01-01 03:00:00</td>\n",
              "      <td>1</td>\n",
              "      <td>0</td>\n",
              "      <td>0</td>\n",
              "      <td>1</td>\n",
              "      <td>9.84</td>\n",
              "      <td>14.395</td>\n",
              "      <td>75</td>\n",
              "      <td>0.0</td>\n",
              "      <td>3</td>\n",
              "      <td>10</td>\n",
              "      <td>13</td>\n",
              "      <td>2011-01-01 03:00:00</td>\n",
              "      <td>3</td>\n",
              "      <td>1</td>\n",
              "      <td>1</td>\n",
              "      <td>2011</td>\n",
              "      <td>5</td>\n",
              "      <td>734138.125000</td>\n",
              "      <td>January</td>\n",
              "      <td>Saturday</td>\n",
              "      <td>False</td>\n",
              "      <td>clear</td>\n",
              "    </tr>\n",
              "    <tr>\n",
              "      <th>4</th>\n",
              "      <td>2011-01-01 04:00:00</td>\n",
              "      <td>1</td>\n",
              "      <td>0</td>\n",
              "      <td>0</td>\n",
              "      <td>1</td>\n",
              "      <td>9.84</td>\n",
              "      <td>14.395</td>\n",
              "      <td>75</td>\n",
              "      <td>0.0</td>\n",
              "      <td>0</td>\n",
              "      <td>1</td>\n",
              "      <td>1</td>\n",
              "      <td>2011-01-01 04:00:00</td>\n",
              "      <td>4</td>\n",
              "      <td>1</td>\n",
              "      <td>1</td>\n",
              "      <td>2011</td>\n",
              "      <td>5</td>\n",
              "      <td>734138.166667</td>\n",
              "      <td>January</td>\n",
              "      <td>Saturday</td>\n",
              "      <td>False</td>\n",
              "      <td>clear</td>\n",
              "    </tr>\n",
              "  </tbody>\n",
              "</table>\n",
              "</div>"
            ],
            "text/plain": [
              "              datetime  season  holiday  ...  weekday_str  high_traffic  weather_norm\n",
              "0  2011-01-01 00:00:00       1        0  ...     Saturday         False         clear\n",
              "1  2011-01-01 01:00:00       1        0  ...     Saturday         False         clear\n",
              "2  2011-01-01 02:00:00       1        0  ...     Saturday         False         clear\n",
              "3  2011-01-01 03:00:00       1        0  ...     Saturday         False         clear\n",
              "4  2011-01-01 04:00:00       1        0  ...     Saturday         False         clear\n",
              "\n",
              "[5 rows x 23 columns]"
            ]
          },
          "metadata": {
            "tags": []
          },
          "execution_count": 3
        }
      ]
    },
    {
      "cell_type": "markdown",
      "metadata": {
        "id": "q5ppjYk2mobI",
        "colab_type": "text"
      },
      "source": [
        "# Cross-Validation\n",
        "\n",
        "Here we'll move from having a single train-test split to training our model on several different train-test splits. This technique, called cross-validation, allows us to perform statistical analysis on the differing results between different models and it also allows us to fully utilize our data, which is especially important when our dataset is smaller in size! \n",
        "\n",
        "![](https://miro.medium.com/max/720/1*chD302ssE0O62wreunGp4A.jpeg)\n",
        "\n",
        "Let's start this notebook by seeing how we can easily use cross validation using scikit-learn's build in tools. "
      ]
    },
    {
      "cell_type": "code",
      "metadata": {
        "id": "OiE60-rmpTtY",
        "colab_type": "code",
        "colab": {}
      },
      "source": [
        "# Define a function that takes in the predictions of a classifier, the true labels,\n",
        "# and a set of metrics and displays the model's performance on the metrics. This is\n",
        "# very similar to the function we used in the Day 2 notebook!\n",
        "\n",
        "def evaluate(y_pred, y_actual, metrics, model_name = 'model'):\n",
        "    # Compute Metrics\n",
        "    conf_matrix = confusion_matrix(y_actual, y_pred)\n",
        "    model_metrics = {}\n",
        "    for (metric_name, metric) in metrics.items():\n",
        "        result = metric(y_actual, y_pred)\n",
        "        model_metrics[metric_name] = result\n",
        "\n",
        "    return conf_matrix, model_metrics"
      ],
      "execution_count": 0,
      "outputs": []
    },
    {
      "cell_type": "code",
      "metadata": {
        "id": "GXRHK0XYmobK",
        "colab_type": "code",
        "outputId": "7448c394-8c22-47ee-c915-e51a273904ed",
        "colab": {
          "base_uri": "https://localhost:8080/",
          "height": 1000
        }
      },
      "source": [
        "# Pick Classifiers to Compare\n",
        "classifiers = {\n",
        "    \"Decision Tree\": DecisionTreeClassifier(criterion=\"entropy\", random_state=123),\n",
        "    \"Logistic Regression\": LogisticRegression(penalty=\"none\", solver=\"lbfgs\", multi_class='ovr', max_iter=10000, random_state=123),\n",
        "}\n",
        "\n",
        "# Set a list of metrics we want to use to compare our classifiers \n",
        "metrics = {\n",
        "    \"Accuracy\" : lambda y,y_pred: 100*accuracy_score(y,y_pred),\n",
        "    \"Kappa\"    : cohen_kappa_score,\n",
        "    \"Precision\": precision_score,\n",
        "    \"Recall\"   : recall_score\n",
        "}\n",
        "\n",
        "# Choose a metric to optimize over\n",
        "metric_to_optimize = 'Accuracy'\n",
        "\n",
        "# Pick Features to Use\n",
        "date_features = [\"day\", \"month_str\", \"year\", \"weekday_str\", \"season\", \"holiday\", \"workingday\"]\n",
        "time_features = [\"hour\"]\n",
        "weather_features = [\"weather\", \"temp\", \"atemp\", \"humidity\", \"windspeed\"]\n",
        "\n",
        "feature_set = date_features + time_features + weather_features\n",
        "\n",
        "# Set up our dataset and cross validation split\n",
        "X = bikeshare.loc[:, feature_set]\n",
        "X = pd.get_dummies(X)\n",
        "y = bikeshare[\"high_traffic\"]\n",
        "kf = KFold(n_splits=10, shuffle=True)\n",
        "\n",
        "# Initialize variables to store results\n",
        "best = 0\n",
        "best_name = None\n",
        "\n",
        "classifier_comparison = {}\n",
        "\n",
        "# Compute and compare metrics for all classifiers\n",
        "for classifier_name, classifier in classifiers.items():\n",
        "\n",
        "    all_fold_metrics = {metric_name: [] for metric_name in metrics}\n",
        "\n",
        "    # Iterate over each fold\n",
        "    for fold_num, (train_index, test_index) in enumerate(kf.split(X)):\n",
        "        # Get the data subset for the current fold\n",
        "        X_train = X.iloc[train_index]\n",
        "        X_test = X.iloc[test_index]\n",
        "        y_train = y.iloc[train_index]\n",
        "        y_test = y.iloc[test_index]\n",
        "\n",
        "        # Train and Evaluate Model\n",
        "        model = classifier.fit(X_train, y_train)\n",
        "        y_pred = model.predict(X_test)\n",
        "        conf_matrix, model_metrics = evaluate(y_pred, y_test, metrics, model_name = classifier_name)\n",
        "\n",
        "        # Update our tracking variables\n",
        "        [all_fold_metrics[metric_name].append(metric_val) for metric_name, metric_val in model_metrics.items()]\n",
        "\n",
        "        # Display Results\n",
        "        print(f\"{classifier_name}: Fold {fold_num} Results\")\n",
        "        ConfusionMatrixDisplay(conf_matrix, [\"low traffic\", \"high traffic\"]).plot(values_format='.4g')\n",
        "        plt.show()\n",
        "        print(model_metrics)\n",
        "        print(\"------------------------\")\n",
        "    \n",
        "    # Compute the average result for the metric we are optimizing over\n",
        "    optimization_metric_avg = np.mean(all_fold_metrics[metric_to_optimize])\n",
        "    \n",
        "    # Update our tracking variables\n",
        "    classifier_comparison[classifier_name] = all_fold_metrics\n",
        "    \n",
        "    if optimization_metric_avg > best:\n",
        "        best = optimization_metric_avg\n",
        "        best_name = classifier_name\n",
        "    \n",
        "    # Display Results\n",
        "    print(f\"Mean {classifier_name} {metric_to_optimize}: {optimization_metric_avg}\")\n",
        "    print(\"------------------------\")\n",
        "\n",
        "# Display our final result\n",
        "print(f\"Best classifier is: {best_name} \\nWith: {best:.1f}% accuracy.\")    "
      ],
      "execution_count": 5,
      "outputs": [
        {
          "output_type": "stream",
          "text": [
            "Decision Tree: Fold 0 Results\n"
          ],
          "name": "stdout"
        },
        {
          "output_type": "display_data",
          "data": {
            "image/png": "[encoded data removed]",
            "text/plain": [
              "<Figure size 432x288 with 2 Axes>"
            ]
          },
          "metadata": {
            "tags": []
          }
        },
        {
          "output_type": "stream",
          "text": [
            "{'Accuracy': 91.82736455463728, 'Kappa': 0.8363514793558813, 'Precision': 0.9169611307420494, 'Recall': 0.9251336898395722}\n",
            "------------------------\n",
            "Decision Tree: Fold 1 Results\n"
          ],
          "name": "stdout"
        },
        {
          "output_type": "display_data",
          "data": {
            "image/png": "[encoded data removed]",
            "text/plain": [
              "<Figure size 432x288 with 2 Axes>"
            ]
          },
          "metadata": {
            "tags": []
          }
        },
        {
          "output_type": "stream",
          "text": [
            "{'Accuracy': 90.633608815427, 'Kappa': 0.8126732820204936, 'Precision': 0.9027522935779817, 'Recall': 0.9094269870609981}\n",
            "------------------------\n",
            "Decision Tree: Fold 2 Results\n"
          ],
          "name": "stdout"
        },
        {
          "output_type": "display_data",
          "data": {
            "image/png": "[encoded data removed]",
            "text/plain": [
              "<Figure size 432x288 with 2 Axes>"
            ]
          },
          "metadata": {
            "tags": []
          }
        },
        {
          "output_type": "stream",
          "text": [
            "{'Accuracy': 92.28650137741047, 'Kappa': 0.8457090810956687, 'Precision': 0.9287054409005628, 'Recall': 0.9149722735674677}\n",
            "------------------------\n",
            "Decision Tree: Fold 3 Results\n"
          ],
          "name": "stdout"
        },
        {
          "output_type": "display_data",
          "data": {
            "image/png": "[encoded data removed]",
            "text/plain": [
              "<Figure size 432x288 with 2 Axes>"
            ]
          },
          "metadata": {
            "tags": []
          }
        },
        {
          "output_type": "stream",
          "text": [
            "{'Accuracy': 90.633608815427, 'Kappa': 0.812740863619352, 'Precision': 0.925512104283054, 'Recall': 0.889087656529517}\n",
            "------------------------\n",
            "Decision Tree: Fold 4 Results\n"
          ],
          "name": "stdout"
        },
        {
          "output_type": "display_data",
          "data": {
            "image/png": "[encoded data removed]",
            "text/plain": [
              "<Figure size 432x288 with 2 Axes>"
            ]
          },
          "metadata": {
            "tags": []
          }
        },
        {
          "output_type": "stream",
          "text": [
            "{'Accuracy': 92.1028466483012, 'Kappa': 0.842055201583934, 'Precision': 0.9154411764705882, 'Recall': 0.9256505576208178}\n",
            "------------------------\n",
            "Decision Tree: Fold 5 Results\n"
          ],
          "name": "stdout"
        },
        {
          "output_type": "display_data",
          "data": {
            "image/png": "[encoded data removed]",
            "text/plain": [
              "<Figure size 432x288 with 2 Axes>"
            ]
          },
          "metadata": {
            "tags": []
          }
        },
        {
          "output_type": "stream",
          "text": [
            "{'Accuracy': 91.82736455463728, 'Kappa': 0.8360170072228248, 'Precision': 0.9106796116504854, 'Recall': 0.916015625}\n",
            "------------------------\n",
            "Decision Tree: Fold 6 Results\n"
          ],
          "name": "stdout"
        },
        {
          "output_type": "display_data",
          "data": {
            "image/png": "[encoded data removed]",
            "text/plain": [
              "<Figure size 432x288 with 2 Axes>"
            ]
          },
          "metadata": {
            "tags": []
          }
        },
        {
          "output_type": "stream",
          "text": [
            "{'Accuracy': 90.53308823529412, 'Kappa': 0.8106489679503643, 'Precision': 0.8918439716312057, 'Recall': 0.9229357798165138}\n",
            "------------------------\n",
            "Decision Tree: Fold 7 Results\n"
          ],
          "name": "stdout"
        },
        {
          "output_type": "display_data",
          "data": {
            "image/png": "[encoded data removed]",
            "text/plain": [
              "<Figure size 432x288 with 2 Axes>"
            ]
          },
          "metadata": {
            "tags": []
          }
        },
        {
          "output_type": "stream",
          "text": [
            "{'Accuracy': 92.55514705882352, 'Kappa': 0.851087845464438, 'Precision': 0.9323583180987203, 'Recall': 0.9205776173285198}\n",
            "------------------------\n",
            "Decision Tree: Fold 8 Results\n"
          ],
          "name": "stdout"
        },
        {
          "output_type": "display_data",
          "data": {
            "image/png": "[encoded data removed]",
            "text/plain": [
              "<Figure size 432x288 with 2 Axes>"
            ]
          },
          "metadata": {
            "tags": []
          }
        },
        {
          "output_type": "stream",
          "text": [
            "{'Accuracy': 91.36029411764706, 'Kappa': 0.8272088017544037, 'Precision': 0.908256880733945, 'Recall': 0.9183673469387755}\n",
            "------------------------\n",
            "Decision Tree: Fold 9 Results\n"
          ],
          "name": "stdout"
        },
        {
          "output_type": "display_data",
          "data": {
            "image/png": "[encoded data removed]",
            "text/plain": [
              "<Figure size 432x288 with 2 Axes>"
            ]
          },
          "metadata": {
            "tags": []
          }
        },
        {
          "output_type": "stream",
          "text": [
            "{'Accuracy': 90.99264705882352, 'Kappa': 0.8198529411764706, 'Precision': 0.9039855072463768, 'Recall': 0.9172794117647058}\n",
            "------------------------\n",
            "Mean Decision Tree Accuracy: 91.47524712364284\n",
            "------------------------\n",
            "Logistic Regression: Fold 0 Results\n"
          ],
          "name": "stdout"
        },
        {
          "output_type": "display_data",
          "data": {
            "image/png": "[encoded data removed]",
            "text/plain": [
              "<Figure size 432x288 with 2 Axes>"
            ]
          },
          "metadata": {
            "tags": []
          }
        },
        {
          "output_type": "stream",
          "text": [
            "{'Accuracy': 80.25711662075298, 'Kappa': 0.6052704782745767, 'Precision': 0.8178368121442126, 'Recall': 0.7836363636363637}\n",
            "------------------------\n",
            "Logistic Regression: Fold 1 Results\n"
          ],
          "name": "stdout"
        },
        {
          "output_type": "display_data",
          "data": {
            "image/png": "[encoded data removed]",
            "text/plain": [
              "<Figure size 432x288 with 2 Axes>"
            ]
          },
          "metadata": {
            "tags": []
          }
        },
        {
          "output_type": "stream",
          "text": [
            "{'Accuracy': 78.69605142332415, 'Kappa': 0.57398676675907, 'Precision': 0.8054474708171206, 'Recall': 0.7582417582417582}\n",
            "------------------------\n",
            "Logistic Regression: Fold 2 Results\n"
          ],
          "name": "stdout"
        },
        {
          "output_type": "display_data",
          "data": {
            "image/png": "[encoded data removed]",
            "text/plain": [
              "<Figure size 432x288 with 2 Axes>"
            ]
          },
          "metadata": {
            "tags": []
          }
        },
        {
          "output_type": "stream",
          "text": [
            "{'Accuracy': 79.15518824609734, 'Kappa': 0.5831139592731566, 'Precision': 0.8, 'Recall': 0.7779816513761468}\n",
            "------------------------\n",
            "Logistic Regression: Fold 3 Results\n"
          ],
          "name": "stdout"
        },
        {
          "output_type": "display_data",
          "data": {
            "image/png": "[encoded data removed]",
            "text/plain": [
              "<Figure size 432x288 with 2 Axes>"
            ]
          },
          "metadata": {
            "tags": []
          }
        },
        {
          "output_type": "stream",
          "text": [
            "{'Accuracy': 77.77777777777779, 'Kappa': 0.5549863053485128, 'Precision': 0.7709923664122137, 'Recall': 0.7680608365019012}\n",
            "------------------------\n",
            "Logistic Regression: Fold 4 Results\n"
          ],
          "name": "stdout"
        },
        {
          "output_type": "display_data",
          "data": {
            "image/png": "[encoded data removed]",
            "text/plain": [
              "<Figure size 432x288 with 2 Axes>"
            ]
          },
          "metadata": {
            "tags": []
          }
        },
        {
          "output_type": "stream",
          "text": [
            "{'Accuracy': 79.52249770431588, 'Kappa': 0.5903618725678226, 'Precision': 0.7974683544303798, 'Recall': 0.7989130434782609}\n",
            "------------------------\n",
            "Logistic Regression: Fold 5 Results\n"
          ],
          "name": "stdout"
        },
        {
          "output_type": "display_data",
          "data": {
            "image/png": "[encoded data removed]",
            "text/plain": [
              "<Figure size 432x288 with 2 Axes>"
            ]
          },
          "metadata": {
            "tags": []
          }
        },
        {
          "output_type": "stream",
          "text": [
            "{'Accuracy': 77.8696051423324, 'Kappa': 0.5571863637514025, 'Precision': 0.7700934579439253, 'Recall': 0.7773584905660378}\n",
            "------------------------\n",
            "Logistic Regression: Fold 6 Results\n"
          ],
          "name": "stdout"
        },
        {
          "output_type": "display_data",
          "data": {
            "image/png": "[encoded data removed]",
            "text/plain": [
              "<Figure size 432x288 with 2 Axes>"
            ]
          },
          "metadata": {
            "tags": []
          }
        },
        {
          "output_type": "stream",
          "text": [
            "{'Accuracy': 77.66544117647058, 'Kappa': 0.5531185558297556, 'Precision': 0.7894736842105263, 'Recall': 0.7740213523131673}\n",
            "------------------------\n",
            "Logistic Regression: Fold 7 Results\n"
          ],
          "name": "stdout"
        },
        {
          "output_type": "display_data",
          "data": {
            "image/png": "[encoded data removed]",
            "text/plain": [
              "<Figure size 432x288 with 2 Axes>"
            ]
          },
          "metadata": {
            "tags": []
          }
        },
        {
          "output_type": "stream",
          "text": [
            "{'Accuracy': 78.49264705882352, 'Kappa': 0.5694848875315794, 'Precision': 0.7869481765834933, 'Recall': 0.7692307692307693}\n",
            "------------------------\n",
            "Logistic Regression: Fold 8 Results\n"
          ],
          "name": "stdout"
        },
        {
          "output_type": "display_data",
          "data": {
            "image/png": "[encoded data removed]",
            "text/plain": [
              "<Figure size 432x288 with 2 Axes>"
            ]
          },
          "metadata": {
            "tags": []
          }
        },
        {
          "output_type": "stream",
          "text": [
            "{'Accuracy': 79.22794117647058, 'Kappa': 0.585014564860039, 'Precision': 0.8188824662813102, 'Recall': 0.7630161579892281}\n",
            "------------------------\n",
            "Logistic Regression: Fold 9 Results\n"
          ],
          "name": "stdout"
        },
        {
          "output_type": "display_data",
          "data": {
            "image/png": "[encoded data removed]",
            "text/plain": [
              "<Figure size 432x288 with 2 Axes>"
            ]
          },
          "metadata": {
            "tags": []
          }
        },
        {
          "output_type": "stream",
          "text": [
            "{'Accuracy': 80.23897058823529, 'Kappa': 0.6046618533841703, 'Precision': 0.7966417910447762, 'Recall': 0.801125703564728}\n",
            "------------------------\n",
            "Mean Logistic Regression Accuracy: 78.89032369146005\n",
            "------------------------\n",
            "Best classifier is: Decision Tree \n",
            "With: 91.5% accuracy.\n"
          ],
          "name": "stdout"
        }
      ]
    },
    {
      "cell_type": "markdown",
      "metadata": {
        "id": "TXhau1yQmobQ",
        "colab_type": "text"
      },
      "source": [
        "## Rewriting Our Comparisons as a Function\n",
        "We can also move this whole functionality into a function so we can call it in the future, moving the exact number of folds to a parameter in the function call."
      ]
    },
    {
      "cell_type": "code",
      "metadata": {
        "id": "M7LAP-x2mobS",
        "colab_type": "code",
        "colab": {}
      },
      "source": [
        "\"\"\"\n",
        "Options for noisy: \"loud\", \"quiet\", and other. Any other value prints nothing (silent).\n",
        "\"\"\"\n",
        "\n",
        "# Start by defining a function to evaluate a classifier's predictions\n",
        "def evaluate(y_pred, y_actual, metrics, model_name = 'model'):\n",
        "    # Compute Confusion Matrix\n",
        "    conf_matrix = confusion_matrix(y_actual, y_pred)\n",
        "\n",
        "    # Compute and store each metric\n",
        "    model_metrics = {}\n",
        "    for (metric_name, metric) in metrics.items():\n",
        "        result = metric(y_actual, y_pred)\n",
        "        model_metrics[metric_name] = result\n",
        "\n",
        "    return conf_matrix, model_metrics\n",
        "\n",
        "# Then define a function that trains a classifier and evaluates it on one fold\n",
        "def evaluate_one_fold(classifier_name, classifier, X_train, y_train, X_test, y_test, metrics, fold_num, noisy = 'loud'):\n",
        "\n",
        "    # Train and Evaluate Model\n",
        "    model = classifier.fit(X_train, y_train)\n",
        "    y_pred = model.predict(X_test)\n",
        "    conf_matrix, model_metrics = evaluate(y_pred, y_test, metrics, model_name = classifier_name)\n",
        "\n",
        "    # Display Results appropriately when noisy is set to 'loud' or 'quiet'\n",
        "    if noisy == 'quiet' and fold_num == 0:\n",
        "        print(f\"{classifier_name}: Fold {fold_num}\", end = '')\n",
        "    elif noisy == 'quiet':\n",
        "        print(f'...{fold_num}', end ='')\n",
        "    elif noisy == 'loud':\n",
        "        print(f\"{classifier_name}: Fold {fold_num} Results\")\n",
        "        ConfusionMatrixDisplay(conf_matrix, [\"low traffic\", \"high traffic\"]).plot(values_format='.4g')\n",
        "        plt.show()\n",
        "        print(model_metrics)\n",
        "        print(\"------------------------\")\n",
        "\n",
        "    return model_metrics\n",
        "\n",
        "# Then define a function to evaluate over all folds\n",
        "def evaluate_all_folds(classifier_name, classifier, X, y, kf, metrics, noisy = 'loud'):\n",
        "\n",
        "    # Initialize tracking variables\n",
        "    all_fold_metrics = {metric_name: [] for metric_name in metrics}\n",
        "\n",
        "    # Iterate over each fold\n",
        "    for fold_num, (train_index, test_index) in enumerate(kf.split(X)):\n",
        "        # Get the data subset for the current fold\n",
        "        X_train = X.iloc[train_index]\n",
        "        X_test = X.iloc[test_index]\n",
        "        y_train = y.iloc[train_index]\n",
        "        y_test = y.iloc[test_index]\n",
        "\n",
        "        # Train and Evaluate the Model\n",
        "        model_metrics =  evaluate_one_fold(classifier_name, classifier, X_train, y_train, X_test, y_test, metrics, fold_num, noisy)\n",
        "\n",
        "        # Update our tracking variables\n",
        "        [all_fold_metrics[metric_name].append(metric_val) for metric_name, metric_val in model_metrics.items()]\n",
        "\n",
        "    return all_fold_metrics\n",
        "\n",
        "#Dont worry about these two lines\n",
        "@ignore_warnings(category=ConvergenceWarning)\n",
        "@ignore_warnings(category=UndefinedMetricWarning)\n",
        "# Then define a function to compare different classifiers\n",
        "def compare_classifiers(classifiers, metrics, metric_to_optimize, df, feature_set,\n",
        "                        target, folds = 10, shuffle = True, noisy='loud'):\n",
        "    # Set up dataset and cross validation\n",
        "    X = df.loc[:, feature_set]\n",
        "    X = pd.get_dummies(X)\n",
        "    y = df[target]\n",
        "    kf = KFold(n_splits=folds, shuffle=shuffle)\n",
        "\n",
        "    # Initialize tracking variables\n",
        "    best = 0\n",
        "    best_name = None\n",
        "    classifier_comparison = {}\n",
        "\n",
        "    # For each classifier\n",
        "    for classifier_name, classifier in classifiers.items():\n",
        "        # Evaluate on all metrics for all folds\n",
        "        all_fold_metrics = evaluate_all_folds(classifier_name, classifier, X, y, kf, metrics, noisy = noisy)\n",
        "\n",
        "        # Compute average performance on metric to optimize over\n",
        "        optimization_metric_avg = np.mean(all_fold_metrics[metric_to_optimize])\n",
        "\n",
        "        # Update Tracking Variables\n",
        "        if optimization_metric_avg > best:\n",
        "            best = optimization_metric_avg\n",
        "            best_name = classifier_name\n",
        "        classifier_comparison[classifier_name] = all_fold_metrics\n",
        "        if noisy == 'quiet': \n",
        "            print()\n",
        "            print(f\"Average {metric_to_optimize}: {optimization_metric_avg}\")\n",
        "            print('-------------')\n",
        "    # Return our results\n",
        "    return best, best_name, classifier_comparison\n",
        "    "
      ],
      "execution_count": 0,
      "outputs": []
    },
    {
      "cell_type": "code",
      "metadata": {
        "id": "2ZzPc4sZ-H3u",
        "colab_type": "code",
        "outputId": "9ca1518f-14a4-4900-8ba3-3d131ff8b2c6",
        "colab": {
          "base_uri": "https://localhost:8080/",
          "height": 0
        }
      },
      "source": [
        "# Pick Classifiers to Compare\n",
        "classifiers = {\n",
        "    \"Decision Tree\": DecisionTreeClassifier(criterion=\"entropy\", random_state=123),\n",
        "    \"Logistic Regression\": LogisticRegression(penalty=\"none\", solver=\"lbfgs\", multi_class='ovr', max_iter=10000, random_state=123),\n",
        "}\n",
        "\n",
        "# Set a list of metrics we want to use to compare our classifiers \n",
        "metrics = {\n",
        "    \"Accuracy\" : lambda y,y_pred: 100*accuracy_score(y,y_pred),\n",
        "    \"Kappa\"    : cohen_kappa_score,\n",
        "    \"Precision\": precision_score,\n",
        "    \"Recall\"   : recall_score\n",
        "}\n",
        "\n",
        "# Choose a metric to optimize over\n",
        "metric_to_optimize = 'Accuracy'\n",
        "\n",
        "# Pick features to use\n",
        "date_features = [\"day\", \"month_str\", \"year\", \"weekday_str\", \"season\", \"holiday\", \"workingday\"]\n",
        "time_features = [\"hour\"]\n",
        "weather_features = [\"weather\", \"temp\", \"atemp\", \"humidity\", \"windspeed\"]\n",
        "\n",
        "feature_set = date_features + time_features + weather_features\n",
        "\n",
        "# Compare models and display final result\n",
        "best, best_name, classifier_comparison = compare_classifiers(classifiers, metrics, metric_to_optimize, bikeshare, feature_set, \"high_traffic\", noisy = 'quiet')\n",
        "\n",
        "print(f\"Best classifier is: {best_name} \\nWith: {best:.1f}% accuracy.\")    "
      ],
      "execution_count": 7,
      "outputs": [
        {
          "output_type": "stream",
          "text": [
            "Decision Tree: Fold 0...1...2...3...4...5...6...7...8...9\n",
            "Average Accuracy: 91.35604879003944\n",
            "-------------\n",
            "Logistic Regression: Fold 0...1...2...3...4...5...6...7...8...9\n",
            "Average Accuracy: 78.9364230540701\n",
            "-------------\n",
            "Best classifier is: Decision Tree \n",
            "With: 91.4% accuracy.\n"
          ],
          "name": "stdout"
        }
      ]
    },
    {
      "cell_type": "markdown",
      "metadata": {
        "id": "0ueR7GSgmoba",
        "colab_type": "text"
      },
      "source": [
        "## Plotting variation in performance, by fold\n",
        "\n",
        "We can use visualization to see just how much of our performance is likely coming from random variation in which instances landed in our test set, instead of real variation in the accuracy of the classifier."
      ]
    },
    {
      "cell_type": "code",
      "metadata": {
        "scrolled": true,
        "id": "UwIZ3oEbmobc",
        "colab_type": "code",
        "outputId": "3c0d3f68-718c-4a88-824f-b85617d3e27d",
        "colab": {
          "base_uri": "https://localhost:8080/",
          "height": 0
        }
      },
      "source": [
        "# Set Up Plotting\n",
        "plt.xlim(0.5,1)\n",
        "plt.xlabel(\"Precision\")\n",
        "plt.ylim(0,1)\n",
        "plt.ylabel(\"Recall\")\n",
        "\n",
        "# Plot Data\n",
        "for classifier in classifier_comparison:\n",
        "    x = classifier_comparison[classifier][\"Precision\"]\n",
        "    y = classifier_comparison[classifier][\"Recall\"]\n",
        "    plt.scatter(x, y)\n",
        "    plt.text(np.mean(x)-.06, np.mean(y)-.08, classifier, fontsize=9)"
      ],
      "execution_count": 8,
      "outputs": [
        {
          "output_type": "display_data",
          "data": {
            "image/png": "[encoded data removed]",
            "text/plain": [
              "<Figure size 432x288 with 1 Axes>"
            ]
          },
          "metadata": {
            "tags": []
          }
        }
      ]
    },
    {
      "cell_type": "markdown",
      "metadata": {
        "id": "JhcKLb5xmobh",
        "colab_type": "text"
      },
      "source": [
        "## Statistical significance of differences in cross-validation\n",
        "\n",
        "Testing differences between models gets a lot easier than working with once we have multiple estimates! Now we have genuine paired comparisons and we can run a simple t-test on the resulting data from each fold."
      ]
    },
    {
      "cell_type": "code",
      "metadata": {
        "id": "ch5N4WROmobj",
        "colab_type": "code",
        "outputId": "41811874-c098-4b53-d641-90d0f7a4ffa7",
        "colab": {
          "base_uri": "https://localhost:8080/",
          "height": 0
        }
      },
      "source": [
        "metric_to_compare = \"Accuracy\"\n",
        "trees_results = classifier_comparison[\"Decision Tree\"][metric_to_compare]\n",
        "regression_results = classifier_comparison[\"Logistic Regression\"][metric_to_compare]\n",
        "\n",
        "trees_mean = np.mean(trees_results)\n",
        "regression_mean = np.mean(regression_results)\n",
        "t, p = stats.ttest_rel(trees_results, regression_results)\n",
        "\n",
        "print(f\"Is {trees_mean:.3f} statistically different than {regression_mean:.3f}?\")\n",
        "if p < 0.01:\n",
        "    print(\"Yes\", end=', ')\n",
        "else:\n",
        "    print(\"No\", end=', ')\n",
        "print(f\"t={t:.3f}, p={p:.4f}\")\n"
      ],
      "execution_count": 9,
      "outputs": [
        {
          "output_type": "stream",
          "text": [
            "Is 91.356 statistically different than 78.936?\n",
            "Yes, t=28.902, p=0.0000\n"
          ],
          "name": "stdout"
        }
      ]
    },
    {
      "cell_type": "markdown",
      "metadata": {
        "id": "_QVF8Gz8mobo",
        "colab_type": "text"
      },
      "source": [
        "## The impact of small data\n",
        "\n",
        "So far we've been working on a single dataset at a time, mostly fixed in place. By introducing cross-validation we show that different, equally-sized sets of similar data can produce different results. But often in a real-world context we'll find that _gathering_ the data in the first place is part of our job (we'll cover this more in weekend 2). \n",
        "\n",
        "One thing we might want to know is just how fast our learning rate is improving as we add more and more data. Crucially, we're also going to have to answer a key question: How much data do we need?"
      ]
    },
    {
      "cell_type": "code",
      "metadata": {
        "id": "SurU6pifdDOv",
        "colab_type": "code",
        "colab": {}
      },
      "source": [
        "def evaluate_overfitting(df, min_split, noisy=True):\n",
        "    \n",
        "    # Prep Data\n",
        "    X = df.loc[:, feature_set]\n",
        "    X = pd.get_dummies(X)\n",
        "    y = df[\"high_traffic\"]\n",
        "    X_train, X_test, y_train, y_test = train_test_split(X,y,test_size=0.20, random_state=123)\n",
        "\n",
        "    # Train Model\n",
        "    model = DecisionTreeClassifier(criterion=\"entropy\", min_samples_split=min_split, random_state=123).fit(X_train, y_train)\n",
        "\n",
        "    # Evaluate on Train Set\n",
        "    overfit_pred = model.predict(X_train)\n",
        "    overfit_accuracy = 100*accuracy_score(y_train, overfit_pred)\n",
        "\n",
        "    # Evaluate on Test Set\n",
        "    y_pred = model.predict(X_test)\n",
        "    accuracy = 100*accuracy_score(y_test, y_pred)\n",
        "    tree_size = model.get_n_leaves()\n",
        "\n",
        "    # Print outputs if necessary\n",
        "    if noisy:\n",
        "        print(f\"   Training Accuracy: {overfit_accuracy:.1f}%\")\n",
        "        print(f\"   Testing Accuracy: {accuracy:.1f}%\")\n",
        "        print(f\"   Tree contains {tree_size} leaves\")\n",
        "        print('-----------------')\n",
        "\n",
        "    return tree_size, accuracy, overfit_accuracy"
      ],
      "execution_count": 0,
      "outputs": []
    },
    {
      "cell_type": "code",
      "metadata": {
        "scrolled": true,
        "id": "sN3dsyg7mobq",
        "colab_type": "code",
        "outputId": "b24f8920-aa37-4b88-8025-b24fc46c7a60",
        "colab": {
          "base_uri": "https://localhost:8080/",
          "height": 0
        }
      },
      "source": [
        "accuracies = []\n",
        "overfit_accuracies = []\n",
        "\n",
        "# For different Sized Data sets\n",
        "for i in range(100):\n",
        "    bikeshare_small = bikeshare.iloc[bikeshare.index % 100 <= i]\n",
        "    # Evaluate and store how much the tree overfits\n",
        "    tree_size, accuracy, overfit_accuracy = evaluate_overfitting(bikeshare_small, 5, noisy=False)\n",
        "    accuracies.append(accuracy)\n",
        "    overfit_accuracies.append(overfit_accuracy)\n",
        "\n",
        "# Plot the Results\n",
        "ax = plt.gca()\n",
        "x_index = [x * (len(bikeshare)/100) for x in range(100)]\n",
        "ax.scatter(x_index, overfit_accuracies)\n",
        "ax.scatter(x_index, accuracies)\n",
        "plt.ylabelbest = 0\n",
        "plt.ylabel(\"Accuracy on Example Data\")\n",
        "plt.xlabel(\"Dataset Size\")\n",
        "plt.legend([\"Training Accuracy\", \"Testing Accuracy\"])\n",
        "plt.show()"
      ],
      "execution_count": 11,
      "outputs": [
        {
          "output_type": "display_data",
          "data": {
            "image/png": "[encoded data removed]",
            "text/plain": [
              "<Figure size 432x288 with 1 Axes>"
            ]
          },
          "metadata": {
            "tags": []
          }
        }
      ]
    },
    {
      "cell_type": "markdown",
      "metadata": {
        "id": "E3dsIpIcmobw",
        "colab_type": "text"
      },
      "source": [
        "# Hyperparameter Optimization\n",
        "\n",
        "If you look through the [documentation](https://scikit-learn.org/stable/modules/generated/sklearn.tree.DecisionTreeClassifier.html) for any of the scikit-learn models, you'll quickly notice that there are a TON of potential inputs you can give to the model. These are the \"hyperparameters\" of the model. Whereas the model parameters are the things learned by the model during training, you can think of the hyperparameters as the \"settings\" of the model that you decide on BEFORE training. These are important, because there are many different ways that we can perform the same tasks and, instead of having a different model type for each of these different subtle variants, it makes more sense to have one base model with different settings for these variants. \n",
        "\n",
        "While having this flexibility is useful, it also means that we have a lot of decisions to make every time we train a model as a data scientist. The more often we have to make decisions, the more often there is potential for us do to something incorrectly. Therefore, it makes sense that we may want to come up with a procedure to pick the best hyperparameters for our model type and data. We call this process hyperparameter optimization, and we will spend the rest of the note book exploring it.  \n",
        "\n",
        "- [Awesome resource on hyperparameter optimization with great visuals](https://www.jeremyjordan.me/hyperparameter-tuning/)\n",
        "- [Common problems with hyperparameter optimization](https://sigopt.com/blog/common-problems-in-hyperparameter-optimization)\n",
        "\n",
        "DANGER: When you perform hyperparameter optimization, make sure you use a Train/Validation/Test Split! If you optimize your hyperparameter on test set performance, this results in you inadvertently feeding information about the test set to your model during the hyperparameter optimization process. This will result in you overfitting to the test set and you will likely see a drop in performance when you try to deploy your model on new data!\n",
        "\n",
        "\n"
      ]
    },
    {
      "cell_type": "markdown",
      "metadata": {
        "id": "BJ9B1WaKmob2",
        "colab_type": "text"
      },
      "source": [
        "## Decision Tree Hyperparameters\n",
        "\n",
        "Lets start our exploration of hyperparameters with decision trees. Some of the parameters that we often tune in decision trees are the criteria used to measure leaf purity, the size of our tree, and the definition of what constitutes a \"pure\" leaf. [However, there are many other interesting parameters as well.](https://towardsdatascience.com/how-to-tune-a-decision-tree-f03721801680) While we may not have time to explore many of them in class, I would definitely recommended you to explore them as they will provide you with even more tools in your data science tool kit for tackling new problems. "
      ]
    },
    {
      "cell_type": "code",
      "metadata": {
        "id": "2u5oQLnMmob3",
        "colab_type": "code",
        "colab": {}
      },
      "source": [
        "# Parameters to tune:\n",
        "# - Measurement of leaf purity (gini vs. information gain)\n",
        "# - Size of splits (tree size)\n",
        "# - Definition of purity\n",
        "\n",
        "criteria = [\"gini\", \"entropy\"]\n",
        "\n",
        "size_of_splits = range(2, 150, 2)\n",
        "\n",
        "purity = [0, 0.0001, 0.001, 0.01, 0.1]"
      ],
      "execution_count": 0,
      "outputs": []
    },
    {
      "cell_type": "markdown",
      "metadata": {
        "id": "RVRcczBK6uis",
        "colab_type": "text"
      },
      "source": [
        "### Tuning the Minimum Split Size \n",
        "One hyperparameter to tune, based on the quantity of data available and the homogeneity of your domain, is the complexity of the trees that you want to learn. Here we'll show how a more and more complex tree doesn't necessarily result in generalization to new data that we've never seen before, even as performance on the training set improves! We call this phenomenon of growing disparity between train and test set results \"overfitting\". \n",
        "\n",
        "We'll start by tuning the minimum split size. This parameter adds a constraint that only allows the tree to split a node if there are at least N samples involved in the split. This prevents us ending up with a bunch of extra nodes and a different leaf for every datapoint -- which often means our model is overfitted. Basically, increasing this parameter helps us go from the tree on the right to the one on the left:\n",
        "![](https://alanjeffares.files.wordpress.com/2018/07/overfitting-001.png?w=996)"
      ]
    },
    {
      "cell_type": "code",
      "metadata": {
        "id": "uLbf_7fVf54Q",
        "colab_type": "code",
        "colab": {}
      },
      "source": [
        "def evaluate_overfitting(df, min_split, noisy=True):\n",
        "    \n",
        "    # Prep Data\n",
        "    X = df.loc[:, feature_set]\n",
        "    X = pd.get_dummies(X)\n",
        "    y = df[\"high_traffic\"]\n",
        "    X_train, X_test, y_train, y_test = train_test_split(X,y,test_size=0.20, random_state=123)\n",
        "\n",
        "    # Train Model\n",
        "    model = DecisionTreeClassifier(criterion=\"entropy\", min_samples_split=min_split, random_state=123).fit(X_train, y_train)\n",
        "\n",
        "    # Evaluate on Train Set\n",
        "    overfit_pred = model.predict(X_train)\n",
        "    overfit_accuracy = 100*accuracy_score(y_train, overfit_pred)\n",
        "\n",
        "    # Evaluate on Test Set\n",
        "    y_pred = model.predict(X_test)\n",
        "    accuracy = 100*accuracy_score(y_test, y_pred)\n",
        "    tree_size = model.get_n_leaves()\n",
        "\n",
        "    # Print outputs if necessary\n",
        "    if noisy:\n",
        "        print(f\"   Training Accuracy: {overfit_accuracy:.1f}%\")\n",
        "        print(f\"   Testing Accuracy: {accuracy:.1f}%\")\n",
        "        print(f\"   Tree contains {tree_size} leaves\")\n",
        "        print('-----------------')\n",
        "\n",
        "    return tree_size, accuracy, overfit_accuracy"
      ],
      "execution_count": 0,
      "outputs": []
    },
    {
      "cell_type": "code",
      "metadata": {
        "scrolled": false,
        "id": "6UKij_Jjmob8",
        "colab_type": "code",
        "outputId": "1bad6f34-6576-492f-e9ea-7a59609795a9",
        "colab": {
          "base_uri": "https://localhost:8080/",
          "height": 0
        }
      },
      "source": [
        "size_of_splits = range(2, 150, 2)\n",
        "\n",
        "# Initialize Storage Variables\n",
        "leaves = []\n",
        "accuracies = []\n",
        "overfit_accuracies = []\n",
        "\n",
        "best = 0\n",
        "best_size = None\n",
        "best_name = []\n",
        "\n",
        "# For each split size\n",
        "for i in size_of_splits:\n",
        "\n",
        "    # Compute the tree_size, train, and test accuracy for the tree\n",
        "    tree_size, accuracy, overfit_accuracy = evaluate_overfitting(bikeshare, i, noisy=False)\n",
        "\n",
        "    # Update our tracking variables\n",
        "    leaves.append(tree_size)\n",
        "    accuracies.append(accuracy)\n",
        "    overfit_accuracies.append(overfit_accuracy)\n",
        "\n",
        "    if accuracy > best:\n",
        "        best = accuracy\n",
        "        best_size = tree_size\n",
        "        best_name = i\n",
        "\n",
        "# Plot the effect of tree size on Accuracy    \n",
        "ax = plt.gca()\n",
        "ax.plot(size_of_splits, overfit_accuracies)\n",
        "ax.plot(size_of_splits, accuracies)\n",
        "\n",
        "plt.ylabel(\"Accuracy on Example Data\")\n",
        "plt.xlabel(\"Minimum split size (# examples)\")\n",
        "plt.legend([\"Training Accuracy\", \"Testing Accuracy\"])\n",
        "\n",
        "right_ax = ax.twinx()\n",
        "right_ax.scatter(size_of_splits, leaves, s=5, color=\"red\")\n",
        "plt.ylabel(\"Number of Leaves\")\n",
        "plt.show()\n",
        "\n",
        "# Print the info on the best classifier\n",
        "print(f'The best minimum split size is {best_name} with a tree size of {best_size} and accuracy of {best}')"
      ],
      "execution_count": 14,
      "outputs": [
        {
          "output_type": "display_data",
          "data": {
            "image/png": "[encoded data removed]",
            "text/plain": [
              "<Figure size 432x288 with 2 Axes>"
            ]
          },
          "metadata": {
            "tags": []
          }
        },
        {
          "output_type": "stream",
          "text": [
            "The best minimum split size is 6 with a tree size of 492 and accuracy of 91.09274563820018\n"
          ],
          "name": "stdout"
        }
      ]
    },
    {
      "cell_type": "markdown",
      "metadata": {
        "id": "WLgT120umocB",
        "colab_type": "text"
      },
      "source": [
        "We see, then, that our most fine-grained model with 2-instance splits allowed gets us a model with over 600 leaves and 90% accuracy on testing data, but if we limit our tree drastically (for instance, to minimum split size between 50-100 instances), we see a reduction in accuracy as small as 1% while the model complexity drops down to only 100 leaves. \n",
        "\n",
        "In many cases, you may find that performance on the test set actually increases when model complexity goes down! Further, these smaller models are much easier to understand and interpret, which can be very valuable in safety-critical applications. \n",
        "\n",
        "We can also notice that this training loop is very similar to what we were doing when we were comparing different models. This is because, we are essentially comparing many different models -- they just happen to all be trees. Let's try to compare these different hyperparameters in the workflow we used before. "
      ]
    },
    {
      "cell_type": "markdown",
      "metadata": {
        "id": "HRan4g7emocN",
        "colab_type": "text"
      },
      "source": [
        "### Tuning purity threshold\n",
        "\n",
        "The purity threshold is another method we can use to limit the size of the tree. Basically it says \"only create a split if the split makes the new leaves at least this much more pure\". Remember impurity is a measure of how homogenous any particular leaf of our tree is. Look at the following visual to see what we mean by a better or \"purer\" split and a worse or \"more impure\" split:\n",
        "![](https://dimensionless.in/wp-content/uploads/RandomForest_blog_files/figure-html/gini.png)"
      ]
    },
    {
      "cell_type": "code",
      "metadata": {
        "id": "txCkUVtRcFFv",
        "colab_type": "code",
        "outputId": "791680f0-4bb0-4545-feb7-b3f73ac4de26",
        "colab": {
          "base_uri": "https://localhost:8080/",
          "height": 0
        }
      },
      "source": [
        "# Pick Classifiers to Compare\n",
        "classifiers = {\n",
        "    f'Decision Tree with Purity Threshold = {pur}': DecisionTreeClassifier(criterion=\"entropy\", min_impurity_decrease=pur, random_state=123)\n",
        "    for pur in purity\n",
        "}\n",
        "\n",
        "# Set a list of metrics we want to use to compare our classifiers \n",
        "metrics = {\n",
        "    \"Accuracy\" : lambda y,y_pred: 100*accuracy_score(y,y_pred),\n",
        "    \"Kappa\"    : cohen_kappa_score\n",
        "}\n",
        "\n",
        "# Choose a metric to optimize over\n",
        "metric_to_optimize = 'Accuracy'\n",
        "\n",
        "# Pick features to use\n",
        "date_features = [\"day\", \"month_str\", \"year\", \"weekday_str\", \"season\", \"holiday\", \"workingday\"]\n",
        "time_features = [\"hour\"]\n",
        "weather_features = [\"weather\", \"temp\", \"atemp\", \"humidity\", \"windspeed\"]\n",
        "\n",
        "feature_set = date_features + time_features + weather_features\n",
        "\n",
        "# Compare models and display final result\n",
        "best, best_name, classifier_comparison = compare_classifiers(classifiers, metrics, metric_to_optimize, bikeshare, feature_set, \"high_traffic\", noisy = 'quiet')\n",
        "\n",
        "print(f\"Best classifier is: {best_name} \\nWith: {best:.1f}% accuracy.\") \n",
        "\n",
        "# Compute the average accuracy for each model\n",
        "accuracies = [np.mean(classifier_comparison[classifier]['Accuracy']) for classifier in classifier_comparison]\n",
        "\n",
        "# Plot the relation between purity and accuracy\n",
        "plt.title('Test Set Accuracy vs. Model Purity')\n",
        "plt.plot(purity, accuracies)\n",
        "plt.xlabel(\"Minimum purity increase\")\n",
        "plt.xscale(\"log\")\n",
        "plt.ylabel(\"Test set accuracy\")\n",
        "plt.show()"
      ],
      "execution_count": 15,
      "outputs": [
        {
          "output_type": "stream",
          "text": [
            "Decision Tree with Purity Threshold = 0: Fold 0...1...2...3...4...5...6...7...8...9\n",
            "Average Accuracy: 91.40183587208988\n",
            "-------------\n",
            "Decision Tree with Purity Threshold = 0.0001: Fold 0...1...2...3...4...5...6...7...8...9\n",
            "Average Accuracy: 91.53048702263274\n",
            "-------------\n",
            "Decision Tree with Purity Threshold = 0.001: Fold 0...1...2...3...4...5...6...7...8...9\n",
            "Average Accuracy: 90.16159252957382\n",
            "-------------\n",
            "Decision Tree with Purity Threshold = 0.01: Fold 0...1...2...3...4...5...6...7...8...9\n",
            "Average Accuracy: 85.83465841570788\n",
            "-------------\n",
            "Decision Tree with Purity Threshold = 0.1: Fold 0...1...2...3...4...5...6...7...8...9\n",
            "Average Accuracy: 77.2643969777994\n",
            "-------------\n",
            "Best classifier is: Decision Tree with Purity Threshold = 0.0001 \n",
            "With: 91.5% accuracy.\n"
          ],
          "name": "stdout"
        },
        {
          "output_type": "display_data",
          "data": {
            "image/png": "[encoded data removed]",
            "text/plain": [
              "<Figure size 432x288 with 1 Axes>"
            ]
          },
          "metadata": {
            "tags": []
          }
        }
      ]
    },
    {
      "cell_type": "markdown",
      "metadata": {
        "id": "Mq7lxlZrhciy",
        "colab_type": "text"
      },
      "source": [
        "Here we can see that increasing the purity threshold past 0.0001 significantly hurts our model's performance. "
      ]
    },
    {
      "cell_type": "markdown",
      "metadata": {
        "id": "9NVpwMrZmocV",
        "colab_type": "text"
      },
      "source": [
        "### Tuning purity criterion\n",
        "\n",
        "There are several ways we can compute how \"pure\" a given leaf node is. Let's see if adjust this hyperparameter has any large effects on our model. If you feel like it, [you can read more on how gini and entropy are different here.](https://towardsdatascience.com/gini-index-vs-information-entropy-7a7e4fed3fcb)"
      ]
    },
    {
      "cell_type": "code",
      "metadata": {
        "id": "18kJfhquiCkP",
        "colab_type": "code",
        "outputId": "71f349f2-ade5-4e87-8f07-5ae8be45a54a",
        "colab": {
          "base_uri": "https://localhost:8080/",
          "height": 0
        }
      },
      "source": [
        "# Pick Classifiers to Compare\n",
        "classifiers = {\n",
        "    f'Decision Tree with Purity Criterion = {crit}': DecisionTreeClassifier(criterion=crit, random_state=123)\n",
        "    for crit in criteria\n",
        "}\n",
        "\n",
        "# Set a list of metrics we want to use to compare our classifiers \n",
        "metrics = {\n",
        "    \"Accuracy\" : lambda y,y_pred: 100*accuracy_score(y,y_pred),\n",
        "    \"Kappa\"    : cohen_kappa_score\n",
        "}\n",
        "\n",
        "# Choose a metric to optimize over\n",
        "metric_to_optimize = 'Accuracy'\n",
        "\n",
        "# Pick features to use\n",
        "date_features = [\"day\", \"month_str\", \"year\", \"weekday_str\", \"season\", \"holiday\", \"workingday\"]\n",
        "time_features = [\"hour\"]\n",
        "weather_features = [\"weather\", \"temp\", \"atemp\", \"humidity\", \"windspeed\"]\n",
        "\n",
        "feature_set = date_features + time_features + weather_features\n",
        "\n",
        "# Compare models and display final result\n",
        "best, best_name, classifier_comparison = compare_classifiers(classifiers, metrics, metric_to_optimize, bikeshare, feature_set, \"high_traffic\", noisy = 'quiet')\n",
        "\n",
        "print(f\"Best classifier is: {best_name} \\nWith: {best:.1f}% accuracy.\") \n",
        "\n",
        "# Compute the average accuracy for each model\n",
        "accuracies = [np.mean(classifier_comparison[classifier]['Accuracy']) for classifier in classifier_comparison]"
      ],
      "execution_count": 16,
      "outputs": [
        {
          "output_type": "stream",
          "text": [
            "Decision Tree with Purity Criterion = gini: Fold 0...1...2...3...4...5...6...7...8...9\n",
            "Average Accuracy: 90.78646592934695\n",
            "-------------\n",
            "Decision Tree with Purity Criterion = entropy: Fold 0...1...2...3...4...5...6...7...8...9\n",
            "Average Accuracy: 91.25489520877221\n",
            "-------------\n",
            "Best classifier is: Decision Tree with Purity Criterion = entropy \n",
            "With: 91.3% accuracy.\n"
          ],
          "name": "stdout"
        }
      ]
    },
    {
      "cell_type": "markdown",
      "metadata": {
        "id": "7iqNkVuzi8Gx",
        "colab_type": "text"
      },
      "source": [
        "Here we can see that, in this case, purity criterion does not have a large affect on our resulting output. "
      ]
    },
    {
      "cell_type": "markdown",
      "metadata": {
        "id": "E2RR3hEVjX2F",
        "colab_type": "text"
      },
      "source": [
        "### Combining hyperparameters for tuning\n",
        "\n",
        "We can also optimize over two (or more) different hyperparameters at the same time. In this example, we perform a type of search called \"Exhaustive Grid Search\". In Exhaustive Grid Search, we create a list of options for each hyperparameter. Then we create a \"grid\" of all possible combinations of the hyperparameters and test every element of the grid. This search is called \"exhaustive\" because we check every possible. In general, this can be a very expensive operation, because the number of grid points grows exponentially with the number of hyperparameters! [There are many clever alternatives that have been developed to make hyperparameter optimization more practical.](https://medium.com/criteo-labs/hyper-parameter-optimization-algorithms-2fe447525903) This is what gridsearch would look like if we were optimizing for z based on x and y -- notice how we are systematically checking each point in the grid of possibilities:\n",
        "\n",
        "![](https://thumbs.gfycat.com/ScholarlyAnxiousAdeliepenguin-size_restricted.gif)"
      ]
    },
    {
      "cell_type": "code",
      "metadata": {
        "id": "fTRBK7Vwj7yU",
        "colab_type": "code",
        "outputId": "8dd39bfa-6190-481e-f063-1a6ffe369c0a",
        "colab": {
          "base_uri": "https://localhost:8080/",
          "height": 0
        }
      },
      "source": [
        "# This code creates a list containing every different combination of criterion and split_size\n",
        "hyperparameters = itertools.product(criteria, size_of_splits)\n",
        "\n",
        "# Pick Classifiers to Compare\n",
        "classifiers = {\n",
        "    f'Decision Tree with Purity Criterion = {crit}, split_size = {size}': DecisionTreeClassifier(criterion=crit, min_samples_split = size, random_state=123)\n",
        "    for crit,size in hyperparameters\n",
        "}\n",
        "\n",
        "# Set a list of metrics we want to use to compare our classifiers \n",
        "metrics = {\n",
        "    \"Accuracy\" : lambda y,y_pred: 100*accuracy_score(y,y_pred),\n",
        "    \"Kappa\"    : cohen_kappa_score\n",
        "}\n",
        "\n",
        "# Choose a metric to optimize over\n",
        "metric_to_optimize = 'Accuracy'\n",
        "\n",
        "# Pick features to use\n",
        "date_features = [\"day\", \"month_str\", \"year\", \"weekday_str\", \"season\", \"holiday\", \"workingday\"]\n",
        "time_features = [\"hour\"]\n",
        "weather_features = [\"weather\", \"temp\", \"atemp\", \"humidity\", \"windspeed\"]\n",
        "\n",
        "feature_set = date_features + time_features + weather_features\n",
        "\n",
        "# Compare models and display final result\n",
        "best, best_name, classifier_comparison = compare_classifiers(classifiers, metrics, metric_to_optimize, bikeshare, feature_set, \"high_traffic\", noisy = 'quiet')\n",
        "\n",
        "print(f\"Best classifier is: {best_name} \\nWith: {best:.1f}% accuracy.\") \n",
        "\n",
        "# Compute the average accuracy for each model\n",
        "accuracies = [np.mean(classifier_comparison[classifier]['Accuracy']) for classifier in classifier_comparison]"
      ],
      "execution_count": 17,
      "outputs": [
        {
          "output_type": "stream",
          "text": [
            "Decision Tree with Purity Criterion = gini, split_size = 2: Fold 0...1...2...3...4...5...6...7...8...9\n",
            "Average Accuracy: 91.14460109112517\n",
            "-------------\n",
            "Decision Tree with Purity Criterion = gini, split_size = 4: Fold 0...1...2...3...4...5...6...7...8...9\n",
            "Average Accuracy: 90.92432513639065\n",
            "-------------\n",
            "Decision Tree with Purity Criterion = gini, split_size = 6: Fold 0...1...2...3...4...5...6...7...8...9\n",
            "Average Accuracy: 91.04339686976718\n",
            "-------------\n",
            "Decision Tree with Purity Criterion = gini, split_size = 8: Fold 0...1...2...3...4...5...6...7...8...9\n",
            "Average Accuracy: 91.29144047426132\n",
            "-------------\n",
            "Decision Tree with Purity Criterion = gini, split_size = 10: Fold 0...1...2...3...4...5...6...7...8...9\n",
            "Average Accuracy: 91.08031349592179\n",
            "-------------\n",
            "Decision Tree with Purity Criterion = gini, split_size = 12: Fold 0...1...2...3...4...5...6...7...8...9\n",
            "Average Accuracy: 91.41108612866634\n",
            "-------------\n",
            "Decision Tree with Purity Criterion = gini, split_size = 14: Fold 0...1...2...3...4...5...6...7...8...9\n",
            "Average Accuracy: 91.28227461783611\n",
            "-------------\n",
            "Decision Tree with Purity Criterion = gini, split_size = 16: Fold 0...1...2...3...4...5...6...7...8...9\n",
            "Average Accuracy: 91.55795927186301\n",
            "-------------\n",
            "Decision Tree with Purity Criterion = gini, split_size = 18: Fold 0...1...2...3...4...5...6...7...8...9\n",
            "Average Accuracy: 91.42011694484957\n",
            "-------------\n",
            "Decision Tree with Purity Criterion = gini, split_size = 20: Fold 0...1...2...3...4...5...6...7...8...9\n",
            "Average Accuracy: 91.39245901528656\n",
            "-------------\n",
            "Decision Tree with Purity Criterion = gini, split_size = 22: Fold 0...1...2...3...4...5...6...7...8...9\n",
            "Average Accuracy: 91.30986502727812\n",
            "-------------\n",
            "Decision Tree with Purity Criterion = gini, split_size = 24: Fold 0...1...2...3...4...5...6...7...8...9\n",
            "Average Accuracy: 90.76798229622428\n",
            "-------------\n",
            "Decision Tree with Purity Criterion = gini, split_size = 26: Fold 0...1...2...3...4...5...6...7...8...9\n",
            "Average Accuracy: 90.76789789607302\n",
            "-------------\n",
            "Decision Tree with Purity Criterion = gini, split_size = 28: Fold 0...1...2...3...4...5...6...7...8...9\n",
            "Average Accuracy: 91.09875492896883\n",
            "-------------\n",
            "Decision Tree with Purity Criterion = gini, split_size = 30: Fold 0...1...2...3...4...5...6...7...8...9\n",
            "Average Accuracy: 90.85061004429319\n",
            "-------------\n",
            "Decision Tree with Purity Criterion = gini, split_size = 32: Fold 0...1...2...3...4...5...6...7...8...9\n",
            "Average Accuracy: 90.69460480473181\n",
            "-------------\n",
            "Decision Tree with Purity Criterion = gini, split_size = 34: Fold 0...1...2...3...4...5...6...7...8...9\n",
            "Average Accuracy: 90.98857053151839\n",
            "-------------\n",
            "Decision Tree with Purity Criterion = gini, split_size = 36: Fold 0...1...2...3...4...5...6...7...8...9\n",
            "Average Accuracy: 90.80481452222763\n",
            "-------------\n",
            "Decision Tree with Purity Criterion = gini, split_size = 38: Fold 0...1...2...3...4...5...6...7...8...9\n",
            "Average Accuracy: 91.02519175714363\n",
            "-------------\n",
            "Decision Tree with Purity Criterion = gini, split_size = 40: Fold 0...1...2...3...4...5...6...7...8...9\n",
            "Average Accuracy: 90.75885019985955\n",
            "-------------\n",
            "Decision Tree with Purity Criterion = gini, split_size = 42: Fold 0...1...2...3...4...5...6...7...8...9\n",
            "Average Accuracy: 90.77735071301247\n",
            "-------------\n",
            "Decision Tree with Purity Criterion = gini, split_size = 44: Fold 0...1...2...3...4...5...6...7...8...9\n",
            "Average Accuracy: 90.35460723545617\n",
            "-------------\n",
            "Decision Tree with Purity Criterion = gini, split_size = 46: Fold 0...1...2...3...4...5...6...7...8...9\n",
            "Average Accuracy: 90.57509419056879\n",
            "-------------\n",
            "Decision Tree with Purity Criterion = gini, split_size = 48: Fold 0...1...2...3...4...5...6...7...8...9\n",
            "Average Accuracy: 90.24422871765786\n",
            "-------------\n",
            "Decision Tree with Purity Criterion = gini, split_size = 50: Fold 0...1...2...3...4...5...6...7...8...9\n",
            "Average Accuracy: 90.54743626100579\n",
            "-------------\n",
            "Decision Tree with Purity Criterion = gini, split_size = 52: Fold 0...1...2...3...4...5...6...7...8...9\n",
            "Average Accuracy: 90.4738477691352\n",
            "-------------\n",
            "Decision Tree with Purity Criterion = gini, split_size = 54: Fold 0...1...2...3...4...5...6...7...8...9\n",
            "Average Accuracy: 90.2536815345973\n",
            "-------------\n",
            "Decision Tree with Purity Criterion = gini, split_size = 56: Fold 0...1...2...3...4...5...6...7...8...9\n",
            "Average Accuracy: 90.44623203964782\n",
            "-------------\n",
            "Decision Tree with Purity Criterion = gini, split_size = 58: Fold 0...1...2...3...4...5...6...7...8...9\n",
            "Average Accuracy: 90.39145634148977\n",
            "-------------\n",
            "Decision Tree with Purity Criterion = gini, split_size = 60: Fold 0...1...2...3...4...5...6...7...8...9\n",
            "Average Accuracy: 90.34540761897047\n",
            "-------------\n",
            "Decision Tree with Purity Criterion = gini, split_size = 62: Fold 0...1...2...3...4...5...6...7...8...9\n",
            "Average Accuracy: 90.15224099281585\n",
            "-------------\n",
            "Decision Tree with Purity Criterion = gini, split_size = 64: Fold 0...1...2...3...4...5...6...7...8...9\n",
            "Average Accuracy: 90.31778344946794\n",
            "-------------\n",
            "Decision Tree with Purity Criterion = gini, split_size = 66: Fold 0...1...2...3...4...5...6...7...8...9\n",
            "Average Accuracy: 89.86770276292336\n",
            "-------------\n",
            "Decision Tree with Purity Criterion = gini, split_size = 68: Fold 0...1...2...3...4...5...6...7...8...9\n",
            "Average Accuracy: 89.92286670177712\n",
            "-------------\n",
            "Decision Tree with Purity Criterion = gini, split_size = 70: Fold 0...1...2...3...4...5...6...7...8...9\n",
            "Average Accuracy: 90.00538472964944\n",
            "-------------\n",
            "Decision Tree with Purity Criterion = gini, split_size = 72: Fold 0...1...2...3...4...5...6...7...8...9\n",
            "Average Accuracy: 89.71163844325608\n",
            "-------------\n",
            "Decision Tree with Purity Criterion = gini, split_size = 74: Fold 0...1...2...3...4...5...6...7...8...9\n",
            "Average Accuracy: 89.78505813482418\n",
            "-------------\n",
            "Decision Tree with Purity Criterion = gini, split_size = 76: Fold 0...1...2...3...4...5...6...7...8...9\n",
            "Average Accuracy: 89.55518588289308\n",
            "-------------\n",
            "Decision Tree with Purity Criterion = gini, split_size = 78: Fold 0...1...2...3...4...5...6...7...8...9\n",
            "Average Accuracy: 89.44521248582078\n",
            "-------------\n",
            "Decision Tree with Purity Criterion = gini, split_size = 80: Fold 0...1...2...3...4...5...6...7...8...9\n",
            "Average Accuracy: 89.22477617079889\n",
            "-------------\n",
            "Decision Tree with Purity Criterion = gini, split_size = 82: Fold 0...1...2...3...4...5...6...7...8...9\n",
            "Average Accuracy: 89.0963529006644\n",
            "-------------\n",
            "Decision Tree with Purity Criterion = gini, split_size = 84: Fold 0...1...2...3...4...5...6...7...8...9\n",
            "Average Accuracy: 89.30737015880733\n",
            "-------------\n",
            "Decision Tree with Purity Criterion = gini, split_size = 86: Fold 0...1...2...3...4...5...6...7...8...9\n",
            "Average Accuracy: 89.21557655431319\n",
            "-------------\n",
            "Decision Tree with Purity Criterion = gini, split_size = 88: Fold 0...1...2...3...4...5...6...7...8...9\n",
            "Average Accuracy: 89.23402642737535\n",
            "-------------\n",
            "Decision Tree with Purity Criterion = gini, split_size = 90: Fold 0...1...2...3...4...5...6...7...8...9\n",
            "Average Accuracy: 89.15101043861071\n",
            "-------------\n",
            "Decision Tree with Purity Criterion = gini, split_size = 92: Fold 0...1...2...3...4...5...6...7...8...9\n",
            "Average Accuracy: 89.41774867660563\n",
            "-------------\n",
            "Decision Tree with Purity Criterion = gini, split_size = 94: Fold 0...1...2...3...4...5...6...7...8...9\n",
            "Average Accuracy: 89.05942783449467\n",
            "-------------\n",
            "Decision Tree with Purity Criterion = gini, split_size = 96: Fold 0...1...2...3...4...5...6...7...8...9\n",
            "Average Accuracy: 89.28914816615352\n",
            "-------------\n",
            "Decision Tree with Purity Criterion = gini, split_size = 98: Fold 0...1...2...3...4...5...6...7...8...9\n",
            "Average Accuracy: 89.041011721493\n",
            "-------------\n",
            "Decision Tree with Purity Criterion = gini, split_size = 100: Fold 0...1...2...3...4...5...6...7...8...9\n",
            "Average Accuracy: 88.93993410036191\n",
            "-------------\n",
            "Decision Tree with Purity Criterion = gini, split_size = 102: Fold 0...1...2...3...4...5...6...7...8...9\n",
            "Average Accuracy: 88.9949967590342\n",
            "-------------\n",
            "Decision Tree with Purity Criterion = gini, split_size = 104: Fold 0...1...2...3...4...5...6...7...8...9\n",
            "Average Accuracy: 89.02266312861232\n",
            "-------------\n",
            "Decision Tree with Purity Criterion = gini, split_size = 106: Fold 0...1...2...3...4...5...6...7...8...9\n",
            "Average Accuracy: 88.89409637822071\n",
            "-------------\n",
            "Decision Tree with Purity Criterion = gini, split_size = 108: Fold 0...1...2...3...4...5...6...7...8...9\n",
            "Average Accuracy: 88.41610456165937\n",
            "-------------\n",
            "Decision Tree with Purity Criterion = gini, split_size = 110: Fold 0...1...2...3...4...5...6...7...8...9\n",
            "Average Accuracy: 88.56328998541565\n",
            "-------------\n",
            "Decision Tree with Purity Criterion = gini, split_size = 112: Fold 0...1...2...3...4...5...6...7...8...9\n",
            "Average Accuracy: 88.75618653108626\n",
            "-------------\n",
            "Decision Tree with Purity Criterion = gini, split_size = 114: Fold 0...1...2...3...4...5...6...7...8...9\n",
            "Average Accuracy: 88.24173384918706\n",
            "-------------\n",
            "Decision Tree with Purity Criterion = gini, split_size = 116: Fold 0...1...2...3...4...5...6...7...8...9\n",
            "Average Accuracy: 88.34281147031817\n",
            "-------------\n",
            "Decision Tree with Purity Criterion = gini, split_size = 118: Fold 0...1...2...3...4...5...6...7...8...9\n",
            "Average Accuracy: 88.81133358990978\n",
            "-------------\n",
            "Decision Tree with Purity Criterion = gini, split_size = 120: Fold 0...1...2...3...4...5...6...7...8...9\n",
            "Average Accuracy: 88.24177604926268\n",
            "-------------\n",
            "Decision Tree with Purity Criterion = gini, split_size = 122: Fold 0...1...2...3...4...5...6...7...8...9\n",
            "Average Accuracy: 88.70108167233838\n",
            "-------------\n",
            "Decision Tree with Purity Criterion = gini, split_size = 124: Fold 0...1...2...3...4...5...6...7...8...9\n",
            "Average Accuracy: 88.91240277102577\n",
            "-------------\n",
            "Decision Tree with Purity Criterion = gini, split_size = 126: Fold 0...1...2...3...4...5...6...7...8...9\n",
            "Average Accuracy: 88.71021376870307\n",
            "-------------\n",
            "Decision Tree with Purity Criterion = gini, split_size = 128: Fold 0...1...2...3...4...5...6...7...8...9\n",
            "Average Accuracy: 88.49902771025765\n",
            "-------------\n",
            "Decision Tree with Purity Criterion = gini, split_size = 130: Fold 0...1...2...3...4...5...6...7...8...9\n",
            "Average Accuracy: 88.51741850321396\n",
            "-------------\n",
            "Decision Tree with Purity Criterion = gini, split_size = 132: Fold 0...1...2...3...4...5...6...7...8...9\n",
            "Average Accuracy: 88.62751006049804\n",
            "-------------\n",
            "Decision Tree with Purity Criterion = gini, split_size = 134: Fold 0...1...2...3...4...5...6...7...8...9\n",
            "Average Accuracy: 88.4989433101064\n",
            "-------------\n",
            "Decision Tree with Purity Criterion = gini, split_size = 136: Fold 0...1...2...3...4...5...6...7...8...9\n",
            "Average Accuracy: 87.9936480446173\n",
            "-------------\n",
            "Decision Tree with Purity Criterion = gini, split_size = 138: Fold 0...1...2...3...4...5...6...7...8...9\n",
            "Average Accuracy: 88.19569356668286\n",
            "-------------\n",
            "Decision Tree with Purity Criterion = gini, split_size = 140: Fold 0...1...2...3...4...5...6...7...8...9\n",
            "Average Accuracy: 88.1128126181602\n",
            "-------------\n",
            "Decision Tree with Purity Criterion = gini, split_size = 142: Fold 0...1...2...3...4...5...6...7...8...9\n",
            "Average Accuracy: 88.38861543239885\n",
            "-------------\n",
            "Decision Tree with Purity Criterion = gini, split_size = 144: Fold 0...1...2...3...4...5...6...7...8...9\n",
            "Average Accuracy: 88.14074062820721\n",
            "-------------\n",
            "Decision Tree with Purity Criterion = gini, split_size = 146: Fold 0...1...2...3...4...5...6...7...8...9\n",
            "Average Accuracy: 88.25112758602063\n",
            "-------------\n",
            "Decision Tree with Purity Criterion = gini, split_size = 148: Fold 0...1...2...3...4...5...6...7...8...9\n",
            "Average Accuracy: 88.1590892210879\n",
            "-------------\n",
            "Decision Tree with Purity Criterion = entropy, split_size = 2: Fold 0...1...2...3...4...5...6...7...8...9\n",
            "Average Accuracy: 91.3374385566899\n",
            "-------------\n",
            "Decision Tree with Purity Criterion = entropy, split_size = 4: Fold 0...1...2...3...4...5...6...7...8...9\n",
            "Average Accuracy: 91.63122704315887\n",
            "-------------\n",
            "Decision Tree with Purity Criterion = entropy, split_size = 6: Fold 0...1...2...3...4...5...6...7...8...9\n",
            "Average Accuracy: 91.59468177766973\n",
            "-------------\n",
            "Decision Tree with Purity Criterion = entropy, split_size = 8: Fold 0...1...2...3...4...5...6...7...8...9\n",
            "Average Accuracy: 91.29124635391346\n",
            "-------------\n",
            "Decision Tree with Purity Criterion = entropy, split_size = 10: Fold 0...1...2...3...4...5...6...7...8...9\n",
            "Average Accuracy: 91.53027602225464\n",
            "-------------\n",
            "Decision Tree with Purity Criterion = entropy, split_size = 12: Fold 0...1...2...3...4...5...6...7...8...9\n",
            "Average Accuracy: 91.70496745530167\n",
            "-------------\n",
            "Decision Tree with Purity Criterion = entropy, split_size = 14: Fold 0...1...2...3...4...5...6...7...8...9\n",
            "Average Accuracy: 91.4294262815319\n",
            "-------------\n",
            "Decision Tree with Purity Criterion = entropy, split_size = 16: Fold 0...1...2...3...4...5...6...7...8...9\n",
            "Average Accuracy: 91.44797743477555\n",
            "-------------\n",
            "Decision Tree with Purity Criterion = entropy, split_size = 18: Fold 0...1...2...3...4...5...6...7...8...9\n",
            "Average Accuracy: 91.50260121266138\n",
            "-------------\n",
            "Decision Tree with Purity Criterion = entropy, split_size = 20: Fold 0...1...2...3...4...5...6...7...8...9\n",
            "Average Accuracy: 91.41087512828821\n",
            "-------------\n",
            "Decision Tree with Purity Criterion = entropy, split_size = 22: Fold 0...1...2...3...4...5...6...7...8...9\n",
            "Average Accuracy: 91.36531592664615\n",
            "-------------\n",
            "Decision Tree with Purity Criterion = entropy, split_size = 24: Fold 0...1...2...3...4...5...6...7...8...9\n",
            "Average Accuracy: 91.37410198239075\n",
            "-------------\n",
            "Decision Tree with Purity Criterion = entropy, split_size = 26: Fold 0...1...2...3...4...5...6...7...8...9\n",
            "Average Accuracy: 91.63165748393021\n",
            "-------------\n",
            "Decision Tree with Purity Criterion = entropy, split_size = 28: Fold 0...1...2...3...4...5...6...7...8...9\n",
            "Average Accuracy: 91.58540620104792\n",
            "-------------\n",
            "Decision Tree with Purity Criterion = entropy, split_size = 30: Fold 0...1...2...3...4...5...6...7...8...9\n",
            "Average Accuracy: 91.40165019175716\n",
            "-------------\n",
            "Decision Tree with Purity Criterion = entropy, split_size = 32: Fold 0...1...2...3...4...5...6...7...8...9\n",
            "Average Accuracy: 91.48445518014367\n",
            "-------------\n",
            "Decision Tree with Purity Criterion = entropy, split_size = 34: Fold 0...1...2...3...4...5...6...7...8...9\n",
            "Average Accuracy: 91.19985787014532\n",
            "-------------\n",
            "Decision Tree with Purity Criterion = entropy, split_size = 36: Fold 0...1...2...3...4...5...6...7...8...9\n",
            "Average Accuracy: 91.16284840382434\n",
            "-------------\n",
            "Decision Tree with Purity Criterion = entropy, split_size = 38: Fold 0...1...2...3...4...5...6...7...8...9\n",
            "Average Accuracy: 91.29160083454869\n",
            "-------------\n",
            "Decision Tree with Purity Criterion = entropy, split_size = 40: Fold 0...1...2...3...4...5...6...7...8...9\n",
            "Average Accuracy: 91.1078026251823\n",
            "-------------\n",
            "Decision Tree with Purity Criterion = entropy, split_size = 42: Fold 0...1...2...3...4...5...6...7...8...9\n",
            "Average Accuracy: 91.05279060660075\n",
            "-------------\n",
            "Decision Tree with Purity Criterion = entropy, split_size = 44: Fold 0...1...2...3...4...5...6...7...8...9\n",
            "Average Accuracy: 90.75852947928482\n",
            "-------------\n",
            "Decision Tree with Purity Criterion = entropy, split_size = 46: Fold 0...1...2...3...4...5...6...7...8...9\n",
            "Average Accuracy: 90.65775569869821\n",
            "-------------\n",
            "Decision Tree with Purity Criterion = entropy, split_size = 48: Fold 0...1...2...3...4...5...6...7...8...9\n",
            "Average Accuracy: 90.6575446983201\n",
            "-------------\n",
            "Decision Tree with Purity Criterion = entropy, split_size = 50: Fold 0...1...2...3...4...5...6...7...8...9\n",
            "Average Accuracy: 90.83227833144277\n",
            "-------------\n",
            "Decision Tree with Purity Criterion = entropy, split_size = 52: Fold 0...1...2...3...4...5...6...7...8...9\n",
            "Average Accuracy: 90.93330531248313\n",
            "-------------\n",
            "Decision Tree with Purity Criterion = entropy, split_size = 54: Fold 0...1...2...3...4...5...6...7...8...9\n",
            "Average Accuracy: 90.37309086857883\n",
            "-------------\n",
            "Decision Tree with Purity Criterion = entropy, split_size = 56: Fold 0...1...2...3...4...5...6...7...8...9\n",
            "Average Accuracy: 90.26296555123426\n",
            "-------------\n",
            "Decision Tree with Purity Criterion = entropy, split_size = 58: Fold 0...1...2...3...4...5...6...7...8...9\n",
            "Average Accuracy: 90.1615165694377\n",
            "-------------\n",
            "Decision Tree with Purity Criterion = entropy, split_size = 60: Fold 0...1...2...3...4...5...6...7...8...9\n",
            "Average Accuracy: 90.47408408955869\n",
            "-------------\n",
            "Decision Tree with Purity Criterion = entropy, split_size = 62: Fold 0...1...2...3...4...5...6...7...8...9\n",
            "Average Accuracy: 89.97796312050991\n",
            "-------------\n",
            "Decision Tree with Purity Criterion = entropy, split_size = 64: Fold 0...1...2...3...4...5...6...7...8...9\n",
            "Average Accuracy: 90.03287385890995\n",
            "-------------\n",
            "Decision Tree with Purity Criterion = entropy, split_size = 66: Fold 0...1...2...3...4...5...6...7...8...9\n",
            "Average Accuracy: 90.07894790147465\n",
            "-------------\n",
            "Decision Tree with Purity Criterion = entropy, split_size = 68: Fold 0...1...2...3...4...5...6...7...8...9\n",
            "Average Accuracy: 89.95969048776536\n",
            "-------------\n",
            "Decision Tree with Purity Criterion = entropy, split_size = 70: Fold 0...1...2...3...4...5...6...7...8...9\n",
            "Average Accuracy: 89.99646363366284\n",
            "-------------\n",
            "Decision Tree with Purity Criterion = entropy, split_size = 72: Fold 0...1...2...3...4...5...6...7...8...9\n",
            "Average Accuracy: 89.56424201912169\n",
            "-------------\n",
            "Decision Tree with Purity Criterion = entropy, split_size = 74: Fold 0...1...2...3...4...5...6...7...8...9\n",
            "Average Accuracy: 89.4173266758494\n",
            "-------------\n",
            "Decision Tree with Purity Criterion = entropy, split_size = 76: Fold 0...1...2...3...4...5...6...7...8...9\n",
            "Average Accuracy: 89.66570788094853\n",
            "-------------\n",
            "Decision Tree with Purity Criterion = entropy, split_size = 78: Fold 0...1...2...3...4...5...6...7...8...9\n",
            "Average Accuracy: 89.40848998001404\n",
            "-------------\n",
            "Decision Tree with Purity Criterion = entropy, split_size = 80: Fold 0...1...2...3...4...5...6...7...8...9\n",
            "Average Accuracy: 89.40852374007453\n",
            "-------------\n",
            "Decision Tree with Purity Criterion = entropy, split_size = 82: Fold 0...1...2...3...4...5...6...7...8...9\n",
            "Average Accuracy: 88.9764709258359\n",
            "-------------\n",
            "Decision Tree with Purity Criterion = entropy, split_size = 84: Fold 0...1...2...3...4...5...6...7...8...9\n",
            "Average Accuracy: 89.27971222924431\n",
            "-------------\n",
            "Decision Tree with Purity Criterion = entropy, split_size = 86: Fold 0...1...2...3...4...5...6...7...8...9\n",
            "Average Accuracy: 88.91256313131312\n",
            "-------------\n",
            "Decision Tree with Purity Criterion = entropy, split_size = 88: Fold 0...1...2...3...4...5...6...7...8...9\n",
            "Average Accuracy: 89.38084049046617\n",
            "-------------\n",
            "Decision Tree with Purity Criterion = entropy, split_size = 90: Fold 0...1...2...3...4...5...6...7...8...9\n",
            "Average Accuracy: 88.97643716577541\n",
            "-------------\n",
            "Decision Tree with Purity Criterion = entropy, split_size = 92: Fold 0...1...2...3...4...5...6...7...8...9\n",
            "Average Accuracy: 88.93995942040728\n",
            "-------------\n",
            "Decision Tree with Purity Criterion = entropy, split_size = 94: Fold 0...1...2...3...4...5...6...7...8...9\n",
            "Average Accuracy: 88.59079599470643\n",
            "-------------\n",
            "Decision Tree with Purity Criterion = entropy, split_size = 96: Fold 0...1...2...3...4...5...6...7...8...9\n",
            "Average Accuracy: 88.88482080159888\n",
            "-------------\n",
            "Decision Tree with Purity Criterion = entropy, split_size = 98: Fold 0...1...2...3...4...5...6...7...8...9\n",
            "Average Accuracy: 88.65504138983418\n",
            "-------------\n",
            "Decision Tree with Purity Criterion = entropy, split_size = 100: Fold 0...1...2...3...4...5...6...7...8...9\n",
            "Average Accuracy: 88.82038128612326\n",
            "-------------\n",
            "Decision Tree with Purity Criterion = entropy, split_size = 102: Fold 0...1...2...3...4...5...6...7...8...9\n",
            "Average Accuracy: 88.8295555825636\n",
            "-------------\n",
            "Decision Tree with Purity Criterion = entropy, split_size = 104: Fold 0...1...2...3...4...5...6...7...8...9\n",
            "Average Accuracy: 88.3245050775131\n",
            "-------------\n",
            "Decision Tree with Purity Criterion = entropy, split_size = 106: Fold 0...1...2...3...4...5...6...7...8...9\n",
            "Average Accuracy: 88.3888011127316\n",
            "-------------\n",
            "Decision Tree with Purity Criterion = entropy, split_size = 108: Fold 0...1...2...3...4...5...6...7...8...9\n",
            "Average Accuracy: 88.69174701561067\n",
            "-------------\n",
            "Decision Tree with Purity Criterion = entropy, split_size = 110: Fold 0...1...2...3...4...5...6...7...8...9\n",
            "Average Accuracy: 88.72846952141738\n",
            "-------------\n",
            "Decision Tree with Purity Criterion = entropy, split_size = 112: Fold 0...1...2...3...4...5...6...7...8...9\n",
            "Average Accuracy: 88.535927456382\n",
            "-------------\n",
            "Decision Tree with Purity Criterion = entropy, split_size = 114: Fold 0...1...2...3...4...5...6...7...8...9\n",
            "Average Accuracy: 88.46244024469294\n",
            "-------------\n",
            "Decision Tree with Purity Criterion = entropy, split_size = 116: Fold 0...1...2...3...4...5...6...7...8...9\n",
            "Average Accuracy: 88.6456476530006\n",
            "-------------\n",
            "Decision Tree with Purity Criterion = entropy, split_size = 118: Fold 0...1...2...3...4...5...6...7...8...9\n",
            "Average Accuracy: 88.37936517582239\n",
            "-------------\n",
            "Decision Tree with Purity Criterion = entropy, split_size = 120: Fold 0...1...2...3...4...5...6...7...8...9\n",
            "Average Accuracy: 88.48050187705937\n",
            "-------------\n",
            "Decision Tree with Purity Criterion = entropy, split_size = 122: Fold 0...1...2...3...4...5...6...7...8...9\n",
            "Average Accuracy: 88.3152041808459\n",
            "-------------\n",
            "Decision Tree with Purity Criterion = entropy, split_size = 124: Fold 0...1...2...3...4...5...6...7...8...9\n",
            "Average Accuracy: 88.21411811969968\n",
            "-------------\n",
            "Decision Tree with Purity Criterion = entropy, split_size = 126: Fold 0...1...2...3...4...5...6...7...8...9\n",
            "Average Accuracy: 88.31534766110302\n",
            "-------------\n",
            "Decision Tree with Purity Criterion = entropy, split_size = 128: Fold 0...1...2...3...4...5...6...7...8...9\n",
            "Average Accuracy: 88.48073819748285\n",
            "-------------\n",
            "Decision Tree with Purity Criterion = entropy, split_size = 130: Fold 0...1...2...3...4...5...6...7...8...9\n",
            "Average Accuracy: 88.26942553881057\n",
            "-------------\n",
            "Decision Tree with Purity Criterion = entropy, split_size = 132: Fold 0...1...2...3...4...5...6...7...8...9\n",
            "Average Accuracy: 88.46237272457192\n",
            "-------------\n",
            "Decision Tree with Purity Criterion = entropy, split_size = 134: Fold 0...1...2...3...4...5...6...7...8...9\n",
            "Average Accuracy: 88.12200379463081\n",
            "-------------\n",
            "Decision Tree with Purity Criterion = entropy, split_size = 136: Fold 0...1...2...3...4...5...6...7...8...9\n",
            "Average Accuracy: 88.30589484416356\n",
            "-------------\n",
            "Decision Tree with Purity Criterion = entropy, split_size = 138: Fold 0...1...2...3...4...5...6...7...8...9\n",
            "Average Accuracy: 88.25998960190137\n",
            "-------------\n",
            "Decision Tree with Purity Criterion = entropy, split_size = 140: Fold 0...1...2...3...4...5...6...7...8...9\n",
            "Average Accuracy: 87.77326236968618\n",
            "-------------\n",
            "Decision Tree with Purity Criterion = entropy, split_size = 142: Fold 0...1...2...3...4...5...6...7...8...9\n",
            "Average Accuracy: 87.96634459568952\n",
            "-------------\n",
            "Decision Tree with Purity Criterion = entropy, split_size = 144: Fold 0...1...2...3...4...5...6...7...8...9\n",
            "Average Accuracy: 88.04877822341058\n",
            "-------------\n",
            "Decision Tree with Purity Criterion = entropy, split_size = 146: Fold 0...1...2...3...4...5...6...7...8...9\n",
            "Average Accuracy: 87.78221722573326\n",
            "-------------\n",
            "Decision Tree with Purity Criterion = entropy, split_size = 148: Fold 0...1...2...3...4...5...6...7...8...9\n",
            "Average Accuracy: 87.99372400475343\n",
            "-------------\n",
            "Best classifier is: Decision Tree with Purity Criterion = entropy, split_size = 12 \n",
            "With: 91.7% accuracy.\n"
          ],
          "name": "stdout"
        }
      ]
    },
    {
      "cell_type": "code",
      "metadata": {
        "scrolled": false,
        "id": "-t-PHWoMmocb",
        "colab_type": "code",
        "outputId": "50b97d8d-0b70-4aa7-feb7-745be19d12ab",
        "colab": {
          "base_uri": "https://localhost:8080/",
          "height": 0
        }
      },
      "source": [
        "entropys = []\n",
        "ginis = []\n",
        "\n",
        "# Separate classifiers using entropy from classifiers using gini\n",
        "entropys = [np.mean(classifier_comparison[classifier]['Accuracy']) for classifier in classifier_comparison if 'entropy' in classifier]\n",
        "ginis = [np.mean(classifier_comparison[classifier]['Accuracy']) for classifier in classifier_comparison if 'gini' in classifier]\n",
        "\n",
        "# Plot both as a function of the minimum split size\n",
        "plt.plot(size_of_splits, entropys)\n",
        "plt.plot(size_of_splits, ginis)\n",
        "\n",
        "plt.legend(['entropy', 'gini'])\n",
        "plt.show()"
      ],
      "execution_count": 18,
      "outputs": [
        {
          "output_type": "display_data",
          "data": {
            "image/png": "[encoded data removed]",
            "text/plain": [
              "<Figure size 432x288 with 1 Axes>"
            ]
          },
          "metadata": {
            "tags": []
          }
        }
      ]
    },
    {
      "cell_type": "markdown",
      "metadata": {
        "id": "hGsuhpmfmoce",
        "colab_type": "text"
      },
      "source": [
        "So on this dataset, it looks like we don't have a *lot* of tuning we can do with decision trees - the entropy criterion we started with is slightly better in performance compared to the gini criterion, and reducing the number of splits only starts hurting accuracy once you've really shrunk the tree. Interestingly, on this dataset the enropy criterion worsens faster than gini as the tree size gets smaller, so for smaller trees the difference between the two appears to be minimal. "
      ]
    },
    {
      "cell_type": "markdown",
      "metadata": {
        "id": "aGp_2Tyzmocg",
        "colab_type": "text"
      },
      "source": [
        "## Tuning Logistic Regression\n",
        "\n",
        "Now lets see if we can apply these same hyperparameter ideas to logistic regression by exploring different amounts/types of regularization. Remember, regularization in logistic regression acts very similarly to restricting tree complexity -- it is a way we can try to avoid overfitting in our models. Two commonly used methods are L1 and L2 Regression, which involve adding a penalty term to the cost function that penalizes the model for having large parameter values: \n",
        "\n",
        "$$Unregularized \\space Regression \\space Cost = \\sum_{y_i \\in Y} y_ilog(\\hat{y}_i) + (1-y_i)log(1-\\hat{y}_i)$$\n",
        "\n",
        "$$L1 \\space Regularized \\space Regression \\space Cost = \\sum_{y_i \\in Y} y_ilog(\\hat{y}_i) + (1-y_i)log(1-\\hat{y}_i) + \\lambda \\sum_j^p||\\beta_j||$$\n",
        "\n",
        "$$L2 \\space Regularized \\space Regression \\space Cost = \\sum_{y_i \\in Y} y_ilog(\\hat{y}_i) + (1-y_i)log(1-\\hat{y}_i) + \\lambda \\sum_j^p \\beta_j^2$$\n",
        "\n",
        "We call the parameter $\\lambda$ the \"strength\" of the regularization as it controls the weight between the regularization term and the normal cross entropy term that we optimize in logistic regression. There is also a third commonly used type of regularization called \"elasticnet\" which is basically just a combination of L1 and L2 regularization. It has an additional hyperparameter that controls the ratio of L1 to L2 regularization used by the model. When training our model with any of these regularized costs, we still use gradient descent as usual, but we just use it with this new cost function. "
      ]
    },
    {
      "cell_type": "code",
      "metadata": {
        "id": "R1k9e8Ddmoch",
        "colab_type": "code",
        "colab": {}
      },
      "source": [
        "# Here are some hyperparameters we could potentially optimize over\n",
        "\n",
        "# Types of Regularization\n",
        "cost_type = [\"l1\", \"l2\", \"elasticnet\", \"none\"]\n",
        "\n",
        "# Types of elasticnet mix ratio\n",
        "elastic_net_mixes = np.arange(0,1,0.1)\n",
        "\n",
        "# Strength of regularization\n",
        "strengths = [0.0001, 0.001, 0.01, 0.1, 1, 10, 1000]"
      ],
      "execution_count": 0,
      "outputs": []
    },
    {
      "cell_type": "markdown",
      "metadata": {
        "id": "YYPbC71mmocn",
        "colab_type": "text"
      },
      "source": [
        "### Tuning regularization strength\n",
        "\n",
        "Let's see how much regularization is enough (and how much is too much)!\n"
      ]
    },
    {
      "cell_type": "code",
      "metadata": {
        "id": "RXBiipZP34DQ",
        "colab_type": "code",
        "outputId": "821a877e-1aeb-45ad-e79a-32259d1d00e0",
        "colab": {
          "base_uri": "https://localhost:8080/",
          "height": 0
        }
      },
      "source": [
        "# Pick Classifiers to Compare\n",
        "classifiers = {\n",
        "    f'Logistic Regression with C = {strength}': LogisticRegression(penalty=\"l1\", C=strength, solver=\"saga\", max_iter=1000, random_state=123)\n",
        "    for strength in strengths\n",
        "}\n",
        "\n",
        "# Set a list of metrics we want to use to compare our classifiers \n",
        "metrics = {\n",
        "    \"Accuracy\" : lambda y,y_pred: 100*accuracy_score(y,y_pred),\n",
        "    \"Kappa\"    : cohen_kappa_score\n",
        "}\n",
        "\n",
        "# Choose a metric to optimize over\n",
        "metric_to_optimize = 'Accuracy'\n",
        "\n",
        "# Pick features to use\n",
        "date_features = [\"day\", \"month_str\", \"year\", \"weekday_str\", \"season\", \"holiday\", \"workingday\"]\n",
        "time_features = [\"hour\"]\n",
        "weather_features = [\"weather\", \"temp\", \"atemp\", \"humidity\", \"windspeed\"]\n",
        "\n",
        "feature_set = date_features + time_features + weather_features\n",
        "\n",
        "# Compare models and display final result\n",
        "best, best_name, classifier_comparison = compare_classifiers(classifiers, metrics, metric_to_optimize, bikeshare, feature_set, \"high_traffic\", noisy = 'quiet')\n",
        "\n",
        "print(f\"Best classifier is: {best_name} \\nWith: {best:.1f}% accuracy.\") \n",
        "\n",
        "# Compute the average accuracy for each model\n",
        "accuracies = [np.mean(classifier_comparison[classifier]['Accuracy']) for classifier in classifier_comparison]\n",
        "\n",
        "# Plot the relation between regularization strength and accuracy\n",
        "plt.title('Test Set Accuracy vs. Strength of Regularization')\n",
        "plt.plot(strengths, accuracies)\n",
        "plt.xlabel(\"Strength of Regularization\")\n",
        "plt.xscale(\"log\")\n",
        "plt.ylabel(\"Test set accuracy\")\n",
        "plt.show()"
      ],
      "execution_count": 20,
      "outputs": [
        {
          "output_type": "stream",
          "text": [
            "Logistic Regression with C = 0.0001: Fold 0...1...2...3...4...5...6...7...8...9\n",
            "Average Accuracy: 74.1227701480041\n",
            "-------------\n",
            "Logistic Regression with C = 0.001: Fold 0...1...2...3...4...5...6...7...8...9\n",
            "Average Accuracy: 76.40995516663966\n",
            "-------------\n",
            "Logistic Regression with C = 0.01: Fold 0...1...2...3...4...5...6...7...8...9\n",
            "Average Accuracy: 77.23664620807\n",
            "-------------\n",
            "Logistic Regression with C = 0.1: Fold 0...1...2...3...4...5...6...7...8...9\n",
            "Average Accuracy: 77.42980439420947\n",
            "-------------\n",
            "Logistic Regression with C = 1: Fold 0...1...2...3...4...5...6...7...8...9\n",
            "Average Accuracy: 77.54929812834224\n",
            "-------------\n",
            "Logistic Regression with C = 10: Fold 0...1...2...3...4...5...6...7...8...9\n",
            "Average Accuracy: 77.48455477232216\n",
            "-------------\n",
            "Logistic Regression with C = 1000: Fold 0...1...2...3...4...5...6...7...8...9\n",
            "Average Accuracy: 77.5766944174364\n",
            "-------------\n",
            "Best classifier is: Logistic Regression with C = 1000 \n",
            "With: 77.6% accuracy.\n"
          ],
          "name": "stdout"
        },
        {
          "output_type": "display_data",
          "data": {
            "image/png": "[encoded data removed]",
            "text/plain": [
              "<Figure size 432x288 with 1 Axes>"
            ]
          },
          "metadata": {
            "tags": []
          }
        }
      ]
    },
    {
      "cell_type": "markdown",
      "metadata": {
        "id": "igAOok8W5MK_",
        "colab_type": "text"
      },
      "source": [
        "We can see that adding some regularization definitely helps our model performance on the test set! But also, notice that, after some point, regularization begins to have some slight negative effects on our accuracy. If you push it even further, eventually the penalty will be too strong for your model to learn and it will break your model. "
      ]
    },
    {
      "cell_type": "markdown",
      "metadata": {
        "id": "t_LoUh_z6TMR",
        "colab_type": "text"
      },
      "source": [
        "### Tuning ElasticNet Ratio\n",
        "Lets also try using elasticnet regularization and tune the ratio between L1 and L2 regularization!"
      ]
    },
    {
      "cell_type": "code",
      "metadata": {
        "id": "FDRPARnn9jr-",
        "colab_type": "code",
        "outputId": "b427859f-ce01-4b87-84a1-05ea8ab3521f",
        "colab": {
          "base_uri": "https://localhost:8080/",
          "height": 839
        }
      },
      "source": [
        "# Pick Classifiers to Compare\n",
        "classifiers = {\n",
        "    f'Logistic Regression with elasticnet ratio = {mix}': LogisticRegression(penalty=\"elasticnet\", C=1, l1_ratio=mix, solver=\"saga\", max_iter=1000, random_state=123)\n",
        "    for mix in elastic_net_mixes\n",
        "}\n",
        "\n",
        "# Set a list of metrics we want to use to compare our classifiers \n",
        "metrics = {\n",
        "    \"Accuracy\" : lambda y,y_pred: 100*accuracy_score(y,y_pred),\n",
        "    \"Kappa\"    : cohen_kappa_score\n",
        "}\n",
        "\n",
        "# Choose a metric to optimize over\n",
        "metric_to_optimize = 'Accuracy'\n",
        "\n",
        "# Pick features to use\n",
        "date_features = [\"day\", \"month_str\", \"year\", \"weekday_str\", \"season\", \"holiday\", \"workingday\"]\n",
        "time_features = [\"hour\"]\n",
        "weather_features = [\"weather\", \"temp\", \"atemp\", \"humidity\", \"windspeed\"]\n",
        "\n",
        "feature_set = date_features + time_features + weather_features\n",
        "\n",
        "# Compare models and display final result\n",
        "best, best_name, classifier_comparison = compare_classifiers(classifiers, metrics, metric_to_optimize, bikeshare, feature_set, \"high_traffic\", noisy = 'quiet')\n",
        "\n",
        "print(f\"Best classifier is: {best_name} \\nWith: {best:.1f}% accuracy.\") \n",
        "\n",
        "# Compute the average accuracy for each model\n",
        "accuracies = [np.mean(classifier_comparison[classifier]['Accuracy']) for classifier in classifier_comparison]\n",
        "\n",
        "# Plot the relation between regularization strength and accuracy\n",
        "plt.title('Test Set Accuracy vs. elasticnet mix')\n",
        "plt.plot(elastic_net_mixes, accuracies)\n",
        "plt.xlabel(\"elasticnet mix\")\n",
        "plt.ylabel(\"Test set accuracy\")\n",
        "plt.show()"
      ],
      "execution_count": 21,
      "outputs": [
        {
          "output_type": "stream",
          "text": [
            "Logistic Regression with elasticnet ratio = 0.0: Fold 0...1...2...3...4...5...6...7...8...9\n",
            "Average Accuracy: 77.58575055366498\n",
            "-------------\n",
            "Logistic Regression with elasticnet ratio = 0.1: Fold 0...1...2...3...4...5...6...7...8...9\n",
            "Average Accuracy: 77.65958380597418\n",
            "-------------\n",
            "Logistic Regression with elasticnet ratio = 0.2: Fold 0...1...2...3...4...5...6...7...8...9\n",
            "Average Accuracy: 77.57657625722466\n",
            "-------------\n",
            "Logistic Regression with elasticnet ratio = 0.30000000000000004: Fold 0...1...2...3...4...5...6...7...8...9\n",
            "Average Accuracy: 77.52174147896072\n",
            "-------------\n",
            "Logistic Regression with elasticnet ratio = 0.4: Fold 0...1...2...3...4...5...6...7...8...9\n",
            "Average Accuracy: 77.55820234429859\n",
            "-------------\n",
            "Logistic Regression with elasticnet ratio = 0.5: Fold 0...1...2...3...4...5...6...7...8...9\n",
            "Average Accuracy: 77.54902804785827\n",
            "-------------\n",
            "Logistic Regression with elasticnet ratio = 0.6000000000000001: Fold 0...1...2...3...4...5...6...7...8...9\n",
            "Average Accuracy: 77.51279506292875\n",
            "-------------\n",
            "Logistic Regression with elasticnet ratio = 0.7000000000000001: Fold 0...1...2...3...4...5...6...7...8...9\n",
            "Average Accuracy: 77.56745260087506\n",
            "-------------\n",
            "Logistic Regression with elasticnet ratio = 0.8: Fold 0...1...2...3...4...5...6...7...8...9\n",
            "Average Accuracy: 77.44811078701453\n",
            "-------------\n",
            "Logistic Regression with elasticnet ratio = 0.9: Fold 0...1...2...3...4...5...6...7...8...9\n",
            "Average Accuracy: 77.49388942904986\n",
            "-------------\n",
            "Best classifier is: Logistic Regression with elasticnet ratio = 0.1 \n",
            "With: 77.7% accuracy.\n"
          ],
          "name": "stdout"
        },
        {
          "output_type": "display_data",
          "data": {
            "image/png": "[encoded data removed]",
            "text/plain": [
              "<Figure size 432x288 with 1 Axes>"
            ]
          },
          "metadata": {
            "tags": []
          }
        }
      ]
    },
    {
      "cell_type": "markdown",
      "metadata": {
        "id": "oAnYpfeY3iMQ",
        "colab_type": "text"
      },
      "source": [
        "From this, we can see that the elasticnet mix doesn't seem to have a big effect on the fit for this dataset."
      ]
    },
    {
      "cell_type": "markdown",
      "metadata": {
        "id": "8TC0S59ywNXe",
        "colab_type": "text"
      },
      "source": [
        "### Changing the prediction threshold\n",
        "\n",
        "Right now we are just saying that if our model outputs more than 0.5 that counts as a prediction for \"1\" and less than 0.5 counts for a prediction for \"0\". While this value of 0.5 is commonly used because it treats each class equally, it is actually itself a hyperparameter that we can tune for our own uses. Unfortunately, optimizing this hyperparameter doesn't fit in the framework we built before so we will have to write the code from scratch again. "
      ]
    },
    {
      "cell_type": "code",
      "metadata": {
        "id": "kknD8mL94m-1",
        "colab_type": "code",
        "colab": {}
      },
      "source": [
        "# Pick features to use\n",
        "date_features = [\"day\", \"month_str\", \"year\", \"weekday_str\", \"season\", \"holiday\", \"workingday\"]\n",
        "time_features = [\"hour\"]\n",
        "weather_features = [\"weather\", \"temp\", \"atemp\", \"humidity\", \"windspeed\"]\n",
        "\n",
        "feature_set = date_features + time_features + weather_features\n",
        "\n",
        "# Prep the data\n",
        "X = bikeshare.loc[:, feature_set]\n",
        "X = pd.get_dummies(X)\n",
        "y = bikeshare[\"high_traffic\"]\n",
        "\n",
        "X_train, X_test, y_train, y_test = train_test_split(X,y,test_size=0.20, random_state=123)\n",
        "\n",
        "# Initialize and Train our model\n",
        "model = LogisticRegression(penalty=\"elasticnet\", C=1, l1_ratio=0.5, solver=\"saga\", max_iter=5000, random_state=123)\n",
        "model.fit(X_train, y_train)\n",
        "\n",
        "# Get our predictions on the test set\n",
        "predicts = model.predict_proba(X_test)\n",
        "all_probabilities = [x[1] for x in predicts]\n",
        "all_actuals = list(y_test)\n",
        "\n",
        "# Initialize storage variables\n",
        "true_positive_rates = []\n",
        "false_positive_rates = []\n",
        "precisions = []\n",
        "recalls = []\n",
        "\n",
        "# For several different thresholds\n",
        "for threshold in np.arange(0, 0.99, 0.01):\n",
        "    # Compute/store precision and recall\n",
        "    all_predictions = [x > threshold for x in all_probabilities]\n",
        "    precision = precision_score(all_predictions, all_actuals, pos_label=True)\n",
        "    recall = recall_score(all_predictions, all_actuals, pos_label=True, zero_division=1) \n",
        "    precisions.append(precision)\n",
        "    recalls.append(recall)\n",
        "\n",
        "    # Compute/store true/false positives\n",
        "    count_positives = np.sum([int(all_actuals[i] == True) for i in range(len(all_actuals))])\n",
        "    count_negatives = np.sum([int(all_actuals[i] == False) for i in range(len(all_actuals))])\n",
        "    \n",
        "    true_positive = np.sum([all_predictions[i] == True and all_actuals[i] == True for i in range(len(all_predictions))])\n",
        "    false_positive = np.sum([all_predictions[i] == True and all_actuals[i] == False for i in range(len(all_predictions))])\n",
        "\n",
        "    true_positive_rates.append(true_positive / count_positives)\n",
        "    false_positive_rates.append(false_positive / count_negatives)\n"
      ],
      "execution_count": 0,
      "outputs": []
    },
    {
      "cell_type": "code",
      "metadata": {
        "scrolled": true,
        "id": "1dtRigtQmodD",
        "colab_type": "code",
        "colab": {
          "base_uri": "https://localhost:8080/",
          "height": 279
        },
        "outputId": "d1b6b836-d5e2-4448-ea17-f15a50657d90"
      },
      "source": [
        "# Lets examine the relationship between recall and precision\n",
        "plt.xlabel(\"Recall\")\n",
        "plt.ylabel(\"Precision\")\n",
        "plt.scatter(recalls, precisions)\n",
        "plt.show()"
      ],
      "execution_count": 23,
      "outputs": [
        {
          "output_type": "display_data",
          "data": {
            "image/png": "[encoded data removed]",
            "text/plain": [
              "<Figure size 432x288 with 1 Axes>"
            ]
          },
          "metadata": {
            "tags": []
          }
        }
      ]
    },
    {
      "cell_type": "code",
      "metadata": {
        "scrolled": false,
        "id": "pDAsrhk0modJ",
        "colab_type": "code",
        "colab": {
          "base_uri": "https://localhost:8080/",
          "height": 279
        },
        "outputId": "6f1e7910-5785-434b-c07c-10f7c38a10f7"
      },
      "source": [
        "# Lets examine the relationship between true and false positives\n",
        "plt.xlabel(\"False Positive Rate\")\n",
        "plt.ylabel(\"True Positive Rate\")\n",
        "plt.scatter(false_positive_rates, true_positive_rates)\n",
        "plt.show()"
      ],
      "execution_count": 24,
      "outputs": [
        {
          "output_type": "display_data",
          "data": {
            "image/png": "[encoded data removed]",
            "text/plain": [
              "<Figure size 432x288 with 1 Axes>"
            ]
          },
          "metadata": {
            "tags": []
          }
        }
      ]
    },
    {
      "cell_type": "markdown",
      "metadata": {
        "id": "aqzj51gbmodO",
        "colab_type": "text"
      },
      "source": [
        "With these charts, we see that a single logistic regression actually gives us a fairly wide, flexible range of classifiers: \n",
        "   - We can build a model that has 20% false positives but correctly identifies around 80% of true positive cases.\n",
        "   - Or we can build a model that successfully finds about 90% of true positives while filtering out about 50% of false cases.\n",
        "\n",
        "By default the model will find a balance between the two metrics. But there might be value in this tuning for your application!"
      ]
    },
    {
      "cell_type": "markdown",
      "metadata": {
        "id": "6EDxp5g6modO",
        "colab_type": "text"
      },
      "source": [
        "## Hyperparameter tuning with Scikit-learn\n",
        "\n",
        "One of the key advantages of working in Python is that much of the unwieldy work we've been doing this weekend is either built into the language by the default, or is available in the form of libraries. If all you're looking for is to train an optimal classifier with simple code, Scikit-learn has given us tools to get a lot done with built-in library tools. \n",
        "\n",
        "Here's a sample that sets aside a test set, does hyperparameter tuning within our training set using cross-validation, model quality reporting, and final training of the full training set using our best parameters all in one place."
      ]
    },
    {
      "cell_type": "code",
      "metadata": {
        "id": "9jYnAKpxmodP",
        "colab_type": "code",
        "colab": {
          "base_uri": "https://localhost:8080/",
          "height": 153
        },
        "outputId": "18276d6b-7310-4dc2-8fca-83facec693f0"
      },
      "source": [
        "# Decide on our features from the data\n",
        "date_features = [\"day\", \"month_str\", \"year\", \"weekday_str\", \"season\", \"holiday\", \"workingday\"]\n",
        "time_features = [\"hour\"]\n",
        "weather_features = [\"weather\", \"temp\", \"atemp\", \"humidity\", \"windspeed\"]\n",
        "\n",
        "feature_set = date_features + time_features + weather_features\n",
        "\n",
        "# Prepare our dataset\n",
        "X = bikeshare.loc[:, feature_set]\n",
        "X = pd.get_dummies(X)\n",
        "y = bikeshare[\"high_traffic\"]\n",
        "X_train, X_test, y_train, y_test = train_test_split(X,y,test_size=0.20, random_state=123, shuffle=True)\n",
        "\n",
        "# Decide on the hyperparameters we would like to compare\n",
        "hyperparameters = {\n",
        "    \"criterion\":[\"gini\", \"entropy\"],\n",
        "    \"min_impurity_decrease\":[0, 0.0001, 0.001],\n",
        "    \"min_samples_split\":range(2, 20, 2)\n",
        "}\n",
        "\n",
        "# Decide on our number of folds for cross validation in the hyerparameter search\n",
        "kfolds = 5\n",
        "\n",
        "# Initialize a search using cross validation in sklearn\n",
        "search = GridSearchCV(estimator=DecisionTreeClassifier(random_state=123),\n",
        "                            param_grid=hyperparameters, cv=kfolds, scoring=\"accuracy\")\n",
        "\n",
        "# Train a classifier with each combination of hyperparameters and take the best one\n",
        "# and print out the results\n",
        "classifier = search.fit(X_train, y_train)\n",
        "accuracy = classifier.best_score_\n",
        "best_fit = classifier.best_estimator_\n",
        "print(f\"Best fit when training was {best_fit}\\nWith {100*accuracy:.1f}% accuracy.\")\n",
        "\n",
        "# Evaluate our best model's performance on the test set and print the results\n",
        "y_pred = classifier.predict(X_test)\n",
        "accuracy = 100*accuracy_score(y_test, y_pred)\n",
        "print(f\"Accuracy on held-out test set: {accuracy:.1f}%\")"
      ],
      "execution_count": 25,
      "outputs": [
        {
          "output_type": "stream",
          "text": [
            "Best fit when training was DecisionTreeClassifier(ccp_alpha=0.0, class_weight=None, criterion='entropy',\n",
            "                       max_depth=None, max_features=None, max_leaf_nodes=None,\n",
            "                       min_impurity_decrease=0.0001, min_impurity_split=None,\n",
            "                       min_samples_leaf=1, min_samples_split=4,\n",
            "                       min_weight_fraction_leaf=0.0, presort='deprecated',\n",
            "                       random_state=123, splitter='best')\n",
            "With 91.3% accuracy.\n",
            "Accuracy on held-out test set: 90.9%\n"
          ],
          "name": "stdout"
        }
      ]
    },
    {
      "cell_type": "markdown",
      "metadata": {
        "id": "8sdKwzZOn-jf",
        "colab_type": "text"
      },
      "source": [
        "Here is some more information on GridSearchCV in scikit-learn as well as some other types of search algorithms implemented in the library:\n",
        "- [GridSearchCV and Search Algotrithms in Scikit-Learn](https://scikit-learn.org/stable/modules/grid_search.html)\n"
      ]
    },
    {
      "cell_type": "code",
      "metadata": {
        "id": "pWChYoqfmodY",
        "colab_type": "code",
        "colab": {
          "base_uri": "https://localhost:8080/",
          "height": 1000
        },
        "outputId": "1e9ff1f8-5a40-4eb8-ece0-ee0631e41d9c"
      },
      "source": [
        "# You can get more detailed results if necessary with the following command\n",
        "classifier.cv_results_"
      ],
      "execution_count": 26,
      "outputs": [
        {
          "output_type": "execute_result",
          "data": {
            "text/plain": [
              "{'mean_fit_time': array([0.03296766, 0.03219523, 0.0324439 , 0.03210187, 0.03395252,\n",
              "        0.03416204, 0.03151388, 0.0311831 , 0.03121648, 0.03050041,\n",
              "        0.0314342 , 0.03039241, 0.0301105 , 0.02948222, 0.02975788,\n",
              "        0.02965593, 0.02914658, 0.02910566, 0.02157907, 0.0228755 ,\n",
              "        0.02183018, 0.02147107, 0.02140627, 0.02150126, 0.02160988,\n",
              "        0.0220778 , 0.02167587, 0.03430123, 0.03375669, 0.03336792,\n",
              "        0.03328424, 0.03285131, 0.03239436, 0.03211255, 0.03213158,\n",
              "        0.03159823, 0.03404188, 0.0337986 , 0.03338914, 0.03300066,\n",
              "        0.03298941, 0.03207955, 0.03209758, 0.03168731, 0.03156705,\n",
              "        0.02868986, 0.02815499, 0.02813129, 0.02813048, 0.02843223,\n",
              "        0.02931781, 0.02881331, 0.02861476, 0.02810149]),\n",
              " 'mean_score_time': array([0.00219188, 0.002174  , 0.00219107, 0.00221491, 0.00236659,\n",
              "        0.00258141, 0.00222259, 0.00219831, 0.00223203, 0.00263381,\n",
              "        0.00219398, 0.00221591, 0.00215807, 0.00216627, 0.00219102,\n",
              "        0.00215497, 0.00220451, 0.00219212, 0.00209913, 0.00231419,\n",
              "        0.00214243, 0.00215583, 0.00215549, 0.00212793, 0.00210538,\n",
              "        0.00221329, 0.00213342, 0.00222273, 0.00219936, 0.0022141 ,\n",
              "        0.00225172, 0.00220971, 0.00222225, 0.0022037 , 0.00219278,\n",
              "        0.00217929, 0.00221715, 0.00220628, 0.00221171, 0.00218358,\n",
              "        0.00218973, 0.00218277, 0.00219426, 0.00219059, 0.0022089 ,\n",
              "        0.00217581, 0.0021328 , 0.0021421 , 0.00215402, 0.00219254,\n",
              "        0.00231662, 0.00215759, 0.00217671, 0.00219841]),\n",
              " 'mean_test_score': array([0.90181468, 0.90250374, 0.9038818 , 0.90744191, 0.90526012,\n",
              "        0.90675272, 0.90675338, 0.90629348, 0.90480035, 0.91146088,\n",
              "        0.90916381, 0.90721157, 0.91031244, 0.90652244, 0.90801551,\n",
              "        0.90709656, 0.90686707, 0.9068676 , 0.88608273, 0.88608273,\n",
              "        0.88608273, 0.88608273, 0.88608273, 0.88608273, 0.88608273,\n",
              "        0.88608273, 0.88608273, 0.91134402, 0.91260714, 0.91122875,\n",
              "        0.91226231, 0.90950672, 0.91088465, 0.90881634, 0.90927592,\n",
              "        0.91054022, 0.91122921, 0.91295157, 0.91122875, 0.91226231,\n",
              "        0.90950672, 0.91088465, 0.90881634, 0.90927592, 0.91054022,\n",
              "        0.90525847, 0.9056031 , 0.90525847, 0.90525847, 0.90514359,\n",
              "        0.90537341, 0.90514359, 0.90502872, 0.90502865]),\n",
              " 'param_criterion': masked_array(data=['gini', 'gini', 'gini', 'gini', 'gini', 'gini', 'gini',\n",
              "                    'gini', 'gini', 'gini', 'gini', 'gini', 'gini', 'gini',\n",
              "                    'gini', 'gini', 'gini', 'gini', 'gini', 'gini', 'gini',\n",
              "                    'gini', 'gini', 'gini', 'gini', 'gini', 'gini',\n",
              "                    'entropy', 'entropy', 'entropy', 'entropy', 'entropy',\n",
              "                    'entropy', 'entropy', 'entropy', 'entropy', 'entropy',\n",
              "                    'entropy', 'entropy', 'entropy', 'entropy', 'entropy',\n",
              "                    'entropy', 'entropy', 'entropy', 'entropy', 'entropy',\n",
              "                    'entropy', 'entropy', 'entropy', 'entropy', 'entropy',\n",
              "                    'entropy', 'entropy'],\n",
              "              mask=[False, False, False, False, False, False, False, False,\n",
              "                    False, False, False, False, False, False, False, False,\n",
              "                    False, False, False, False, False, False, False, False,\n",
              "                    False, False, False, False, False, False, False, False,\n",
              "                    False, False, False, False, False, False, False, False,\n",
              "                    False, False, False, False, False, False, False, False,\n",
              "                    False, False, False, False, False, False],\n",
              "        fill_value='?',\n",
              "             dtype=object),\n",
              " 'param_min_impurity_decrease': masked_array(data=[0, 0, 0, 0, 0, 0, 0, 0, 0, 0.0001, 0.0001, 0.0001,\n",
              "                    0.0001, 0.0001, 0.0001, 0.0001, 0.0001, 0.0001, 0.001,\n",
              "                    0.001, 0.001, 0.001, 0.001, 0.001, 0.001, 0.001, 0.001,\n",
              "                    0, 0, 0, 0, 0, 0, 0, 0, 0, 0.0001, 0.0001, 0.0001,\n",
              "                    0.0001, 0.0001, 0.0001, 0.0001, 0.0001, 0.0001, 0.001,\n",
              "                    0.001, 0.001, 0.001, 0.001, 0.001, 0.001, 0.001, 0.001],\n",
              "              mask=[False, False, False, False, False, False, False, False,\n",
              "                    False, False, False, False, False, False, False, False,\n",
              "                    False, False, False, False, False, False, False, False,\n",
              "                    False, False, False, False, False, False, False, False,\n",
              "                    False, False, False, False, False, False, False, False,\n",
              "                    False, False, False, False, False, False, False, False,\n",
              "                    False, False, False, False, False, False],\n",
              "        fill_value='?',\n",
              "             dtype=object),\n",
              " 'param_min_samples_split': masked_array(data=[2, 4, 6, 8, 10, 12, 14, 16, 18, 2, 4, 6, 8, 10, 12, 14,\n",
              "                    16, 18, 2, 4, 6, 8, 10, 12, 14, 16, 18, 2, 4, 6, 8, 10,\n",
              "                    12, 14, 16, 18, 2, 4, 6, 8, 10, 12, 14, 16, 18, 2, 4,\n",
              "                    6, 8, 10, 12, 14, 16, 18],\n",
              "              mask=[False, False, False, False, False, False, False, False,\n",
              "                    False, False, False, False, False, False, False, False,\n",
              "                    False, False, False, False, False, False, False, False,\n",
              "                    False, False, False, False, False, False, False, False,\n",
              "                    False, False, False, False, False, False, False, False,\n",
              "                    False, False, False, False, False, False, False, False,\n",
              "                    False, False, False, False, False, False],\n",
              "        fill_value='?',\n",
              "             dtype=object),\n",
              " 'params': [{'criterion': 'gini',\n",
              "   'min_impurity_decrease': 0,\n",
              "   'min_samples_split': 2},\n",
              "  {'criterion': 'gini', 'min_impurity_decrease': 0, 'min_samples_split': 4},\n",
              "  {'criterion': 'gini', 'min_impurity_decrease': 0, 'min_samples_split': 6},\n",
              "  {'criterion': 'gini', 'min_impurity_decrease': 0, 'min_samples_split': 8},\n",
              "  {'criterion': 'gini', 'min_impurity_decrease': 0, 'min_samples_split': 10},\n",
              "  {'criterion': 'gini', 'min_impurity_decrease': 0, 'min_samples_split': 12},\n",
              "  {'criterion': 'gini', 'min_impurity_decrease': 0, 'min_samples_split': 14},\n",
              "  {'criterion': 'gini', 'min_impurity_decrease': 0, 'min_samples_split': 16},\n",
              "  {'criterion': 'gini', 'min_impurity_decrease': 0, 'min_samples_split': 18},\n",
              "  {'criterion': 'gini',\n",
              "   'min_impurity_decrease': 0.0001,\n",
              "   'min_samples_split': 2},\n",
              "  {'criterion': 'gini',\n",
              "   'min_impurity_decrease': 0.0001,\n",
              "   'min_samples_split': 4},\n",
              "  {'criterion': 'gini',\n",
              "   'min_impurity_decrease': 0.0001,\n",
              "   'min_samples_split': 6},\n",
              "  {'criterion': 'gini',\n",
              "   'min_impurity_decrease': 0.0001,\n",
              "   'min_samples_split': 8},\n",
              "  {'criterion': 'gini',\n",
              "   'min_impurity_decrease': 0.0001,\n",
              "   'min_samples_split': 10},\n",
              "  {'criterion': 'gini',\n",
              "   'min_impurity_decrease': 0.0001,\n",
              "   'min_samples_split': 12},\n",
              "  {'criterion': 'gini',\n",
              "   'min_impurity_decrease': 0.0001,\n",
              "   'min_samples_split': 14},\n",
              "  {'criterion': 'gini',\n",
              "   'min_impurity_decrease': 0.0001,\n",
              "   'min_samples_split': 16},\n",
              "  {'criterion': 'gini',\n",
              "   'min_impurity_decrease': 0.0001,\n",
              "   'min_samples_split': 18},\n",
              "  {'criterion': 'gini',\n",
              "   'min_impurity_decrease': 0.001,\n",
              "   'min_samples_split': 2},\n",
              "  {'criterion': 'gini',\n",
              "   'min_impurity_decrease': 0.001,\n",
              "   'min_samples_split': 4},\n",
              "  {'criterion': 'gini',\n",
              "   'min_impurity_decrease': 0.001,\n",
              "   'min_samples_split': 6},\n",
              "  {'criterion': 'gini',\n",
              "   'min_impurity_decrease': 0.001,\n",
              "   'min_samples_split': 8},\n",
              "  {'criterion': 'gini',\n",
              "   'min_impurity_decrease': 0.001,\n",
              "   'min_samples_split': 10},\n",
              "  {'criterion': 'gini',\n",
              "   'min_impurity_decrease': 0.001,\n",
              "   'min_samples_split': 12},\n",
              "  {'criterion': 'gini',\n",
              "   'min_impurity_decrease': 0.001,\n",
              "   'min_samples_split': 14},\n",
              "  {'criterion': 'gini',\n",
              "   'min_impurity_decrease': 0.001,\n",
              "   'min_samples_split': 16},\n",
              "  {'criterion': 'gini',\n",
              "   'min_impurity_decrease': 0.001,\n",
              "   'min_samples_split': 18},\n",
              "  {'criterion': 'entropy', 'min_impurity_decrease': 0, 'min_samples_split': 2},\n",
              "  {'criterion': 'entropy', 'min_impurity_decrease': 0, 'min_samples_split': 4},\n",
              "  {'criterion': 'entropy', 'min_impurity_decrease': 0, 'min_samples_split': 6},\n",
              "  {'criterion': 'entropy', 'min_impurity_decrease': 0, 'min_samples_split': 8},\n",
              "  {'criterion': 'entropy',\n",
              "   'min_impurity_decrease': 0,\n",
              "   'min_samples_split': 10},\n",
              "  {'criterion': 'entropy',\n",
              "   'min_impurity_decrease': 0,\n",
              "   'min_samples_split': 12},\n",
              "  {'criterion': 'entropy',\n",
              "   'min_impurity_decrease': 0,\n",
              "   'min_samples_split': 14},\n",
              "  {'criterion': 'entropy',\n",
              "   'min_impurity_decrease': 0,\n",
              "   'min_samples_split': 16},\n",
              "  {'criterion': 'entropy',\n",
              "   'min_impurity_decrease': 0,\n",
              "   'min_samples_split': 18},\n",
              "  {'criterion': 'entropy',\n",
              "   'min_impurity_decrease': 0.0001,\n",
              "   'min_samples_split': 2},\n",
              "  {'criterion': 'entropy',\n",
              "   'min_impurity_decrease': 0.0001,\n",
              "   'min_samples_split': 4},\n",
              "  {'criterion': 'entropy',\n",
              "   'min_impurity_decrease': 0.0001,\n",
              "   'min_samples_split': 6},\n",
              "  {'criterion': 'entropy',\n",
              "   'min_impurity_decrease': 0.0001,\n",
              "   'min_samples_split': 8},\n",
              "  {'criterion': 'entropy',\n",
              "   'min_impurity_decrease': 0.0001,\n",
              "   'min_samples_split': 10},\n",
              "  {'criterion': 'entropy',\n",
              "   'min_impurity_decrease': 0.0001,\n",
              "   'min_samples_split': 12},\n",
              "  {'criterion': 'entropy',\n",
              "   'min_impurity_decrease': 0.0001,\n",
              "   'min_samples_split': 14},\n",
              "  {'criterion': 'entropy',\n",
              "   'min_impurity_decrease': 0.0001,\n",
              "   'min_samples_split': 16},\n",
              "  {'criterion': 'entropy',\n",
              "   'min_impurity_decrease': 0.0001,\n",
              "   'min_samples_split': 18},\n",
              "  {'criterion': 'entropy',\n",
              "   'min_impurity_decrease': 0.001,\n",
              "   'min_samples_split': 2},\n",
              "  {'criterion': 'entropy',\n",
              "   'min_impurity_decrease': 0.001,\n",
              "   'min_samples_split': 4},\n",
              "  {'criterion': 'entropy',\n",
              "   'min_impurity_decrease': 0.001,\n",
              "   'min_samples_split': 6},\n",
              "  {'criterion': 'entropy',\n",
              "   'min_impurity_decrease': 0.001,\n",
              "   'min_samples_split': 8},\n",
              "  {'criterion': 'entropy',\n",
              "   'min_impurity_decrease': 0.001,\n",
              "   'min_samples_split': 10},\n",
              "  {'criterion': 'entropy',\n",
              "   'min_impurity_decrease': 0.001,\n",
              "   'min_samples_split': 12},\n",
              "  {'criterion': 'entropy',\n",
              "   'min_impurity_decrease': 0.001,\n",
              "   'min_samples_split': 14},\n",
              "  {'criterion': 'entropy',\n",
              "   'min_impurity_decrease': 0.001,\n",
              "   'min_samples_split': 16},\n",
              "  {'criterion': 'entropy',\n",
              "   'min_impurity_decrease': 0.001,\n",
              "   'min_samples_split': 18}],\n",
              " 'rank_test_score': array([45, 44, 43, 23, 34, 29, 28, 31, 42,  5, 19, 24, 14, 30, 22, 25, 27,\n",
              "        26, 46, 46, 46, 46, 46, 46, 46, 46, 46,  6,  2,  8,  3, 15, 10, 20,\n",
              "        17, 12,  7,  1,  8,  3, 15, 10, 20, 17, 12, 35, 32, 35, 35, 38, 33,\n",
              "        39, 40, 41], dtype=int32),\n",
              " 'split0_test_score': array([0.90470723, 0.90298507, 0.90413318, 0.91159587, 0.90987371,\n",
              "        0.91618829, 0.91216992, 0.91331803, 0.91446613, 0.91791045,\n",
              "        0.91331803, 0.91159587, 0.91791045, 0.91389208, 0.91618829,\n",
              "        0.91618829, 0.91446613, 0.91504018, 0.8783008 , 0.8783008 ,\n",
              "        0.8783008 , 0.8783008 , 0.8783008 , 0.8783008 , 0.8783008 ,\n",
              "        0.8783008 , 0.8783008 , 0.92307692, 0.92307692, 0.92479908,\n",
              "        0.92537313, 0.92307692, 0.92365098, 0.92537313, 0.92250287,\n",
              "        0.91963261, 0.92307692, 0.92307692, 0.92479908, 0.92537313,\n",
              "        0.92307692, 0.92365098, 0.92537313, 0.92250287, 0.91963261,\n",
              "        0.90355913, 0.90355913, 0.90355913, 0.90355913, 0.90355913,\n",
              "        0.90355913, 0.90355913, 0.90355913, 0.90355913]),\n",
              " 'split1_test_score': array([0.89207807, 0.89380023, 0.89150402, 0.89035591, 0.8880597 ,\n",
              "        0.88978186, 0.88863375, 0.89035591, 0.88920781, 0.90068886,\n",
              "        0.90126292, 0.89609644, 0.8978186 , 0.89265212, 0.89150402,\n",
              "        0.89207807, 0.89437428, 0.88978186, 0.87657865, 0.87657865,\n",
              "        0.87657865, 0.87657865, 0.87657865, 0.87657865, 0.87657865,\n",
              "        0.87657865, 0.87657865, 0.90585534, 0.90987371, 0.91102181,\n",
              "        0.90700344, 0.90183697, 0.90528129, 0.90700344, 0.9087256 ,\n",
              "        0.90815155, 0.9087256 , 0.91102181, 0.91102181, 0.90700344,\n",
              "        0.90183697, 0.90528129, 0.90700344, 0.9087256 , 0.90815155,\n",
              "        0.91274397, 0.91274397, 0.91274397, 0.91274397, 0.91274397,\n",
              "        0.91216992, 0.91274397, 0.91274397, 0.91274397]),\n",
              " 'split2_test_score': array([0.90642939, 0.90815155, 0.91331803, 0.91618829, 0.91274397,\n",
              "        0.91159587, 0.91102181, 0.91159587, 0.90929966, 0.91446613,\n",
              "        0.91446613, 0.91561424, 0.91446613, 0.91561424, 0.91733639,\n",
              "        0.91618829, 0.91331803, 0.91274397, 0.89494834, 0.89494834,\n",
              "        0.89494834, 0.89494834, 0.89494834, 0.89494834, 0.89494834,\n",
              "        0.89494834, 0.89494834, 0.92135476, 0.92192882, 0.91791045,\n",
              "        0.92422503, 0.91905855, 0.92020666, 0.92135476, 0.92192882,\n",
              "        0.91963261, 0.91791045, 0.92250287, 0.91791045, 0.92422503,\n",
              "        0.91905855, 0.92020666, 0.92135476, 0.92192882, 0.91963261,\n",
              "        0.9087256 , 0.9087256 , 0.9087256 , 0.9087256 , 0.9087256 ,\n",
              "        0.9087256 , 0.9087256 , 0.9087256 , 0.90929966]),\n",
              " 'split3_test_score': array([0.90350373, 0.90407812, 0.90407812, 0.90924756, 0.90292935,\n",
              "        0.90005744, 0.90178059, 0.90005744, 0.89833429, 0.91039632,\n",
              "        0.90752441, 0.90637565, 0.90924756, 0.90178059, 0.89833429,\n",
              "        0.90005744, 0.9012062 , 0.90005744, 0.88569787, 0.88569787,\n",
              "        0.88569787, 0.88569787, 0.88569787, 0.88569787, 0.88569787,\n",
              "        0.88569787, 0.88569787, 0.90924756, 0.90924756, 0.90407812,\n",
              "        0.90867318, 0.9046525 , 0.90235497, 0.89201608, 0.89603676,\n",
              "        0.90407812, 0.90924756, 0.90924756, 0.90407812, 0.90867318,\n",
              "        0.9046525 , 0.90235497, 0.89201608, 0.89603676, 0.90407812,\n",
              "        0.89373923, 0.89546238, 0.89373923, 0.89373923, 0.89373923,\n",
              "        0.894888  , 0.894888  , 0.89431361, 0.89431361]),\n",
              " 'split4_test_score': array([0.90235497, 0.90350373, 0.90637565, 0.90982194, 0.91269385,\n",
              "        0.91614015, 0.92016083, 0.91614015, 0.91269385, 0.91384262,\n",
              "        0.90924756, 0.90637565, 0.91211947, 0.90867318, 0.91671453,\n",
              "        0.91097071, 0.91097071, 0.91671453, 0.894888  , 0.894888  ,\n",
              "        0.894888  , 0.894888  , 0.894888  , 0.894888  , 0.894888  ,\n",
              "        0.894888  , 0.894888  , 0.89718553, 0.89890867, 0.89833429,\n",
              "        0.89603676, 0.89890867, 0.90292935, 0.89833429, 0.89718553,\n",
              "        0.9012062 , 0.89718553, 0.89890867, 0.89833429, 0.89603676,\n",
              "        0.89890867, 0.90292935, 0.89833429, 0.89718553, 0.9012062 ,\n",
              "        0.90752441, 0.90752441, 0.90752441, 0.90752441, 0.90695003,\n",
              "        0.90752441, 0.90580126, 0.90580126, 0.90522688]),\n",
              " 'std_fit_time': array([0.00105871, 0.00137224, 0.00150395, 0.0017568 , 0.0023649 ,\n",
              "        0.00342137, 0.00118287, 0.00137834, 0.00113798, 0.00107404,\n",
              "        0.0020994 , 0.00161163, 0.00145826, 0.00127995, 0.00144664,\n",
              "        0.00120069, 0.00118216, 0.00152743, 0.00065991, 0.00088753,\n",
              "        0.00070817, 0.00055497, 0.00046298, 0.00031909, 0.00066105,\n",
              "        0.00082642, 0.00055973, 0.00096007, 0.00050799, 0.00056138,\n",
              "        0.00045445, 0.00076327, 0.00062027, 0.0006829 , 0.00072728,\n",
              "        0.00022646, 0.00029224, 0.0008077 , 0.00070265, 0.00087709,\n",
              "        0.00121714, 0.00049808, 0.00056738, 0.00053004, 0.00059082,\n",
              "        0.00051778, 0.00028852, 0.00034075, 0.00041228, 0.00044345,\n",
              "        0.00141886, 0.00112513, 0.00049431, 0.00043975]),\n",
              " 'std_score_time': array([3.89834718e-05, 2.80462143e-05, 2.13477179e-05, 6.23946478e-05,\n",
              "        2.05802188e-04, 5.72034958e-04, 2.35189506e-05, 2.81158490e-05,\n",
              "        1.13070890e-04, 8.28973658e-04, 1.49192891e-05, 1.39782062e-04,\n",
              "        1.97496948e-05, 2.12890570e-05, 4.10743111e-05, 2.41161778e-05,\n",
              "        8.58839982e-05, 6.63490420e-05, 2.02863811e-05, 3.19619953e-04,\n",
              "        4.72085644e-05, 9.12232480e-05, 9.65641044e-05, 4.15793799e-05,\n",
              "        3.22979657e-05, 8.12134176e-05, 4.32240193e-05, 5.12349045e-05,\n",
              "        1.56213483e-05, 7.93018472e-05, 1.19093896e-04, 5.36748798e-05,\n",
              "        7.75424898e-05, 2.71177422e-05, 3.31164694e-05, 3.27867072e-05,\n",
              "        5.48032163e-05, 3.69779146e-05, 3.29016257e-05, 2.14548109e-05,\n",
              "        2.68982653e-05, 1.66895730e-05, 5.63163862e-05, 2.61596359e-05,\n",
              "        2.88722438e-05, 4.85501255e-05, 2.03808703e-05, 1.21650495e-05,\n",
              "        2.68042717e-05, 1.49316773e-04, 2.60876803e-04, 4.35312370e-05,\n",
              "        3.37422184e-05, 1.02860904e-04]),\n",
              " 'std_test_score': array([0.00505191, 0.0047193 , 0.00705086, 0.00888381, 0.00931494,\n",
              "        0.01032905, 0.01077374, 0.00966758, 0.00960121, 0.00589017,\n",
              "        0.00470087, 0.00655394, 0.00686263, 0.00844356, 0.01091514,\n",
              "        0.00954392, 0.00780148, 0.0103594 , 0.00783793, 0.00783793,\n",
              "        0.00783793, 0.00783793, 0.00783793, 0.00783793, 0.00783793,\n",
              "        0.00783793, 0.00783793, 0.00972481, 0.00897682, 0.00944712,\n",
              "        0.0111248 , 0.00969634, 0.00913585, 0.01285883, 0.01146127,\n",
              "        0.00774508, 0.0088592 , 0.00903766, 0.00944712, 0.0111248 ,\n",
              "        0.00969634, 0.00913585, 0.01285883, 0.01146127, 0.00774508,\n",
              "        0.00646172, 0.00585569, 0.00646172, 0.00646172, 0.00642542,\n",
              "        0.00592101, 0.00597858, 0.00617676, 0.00624145])}"
            ]
          },
          "metadata": {
            "tags": []
          },
          "execution_count": 26
        }
      ]
    },
    {
      "cell_type": "markdown",
      "metadata": {
        "id": "TLVCFTRbBlrP",
        "colab_type": "text"
      },
      "source": [
        "# Homework 1 is available now!\n",
        "\n",
        "Now you know everything you'll need to know for homeworks 1-3. Get started on homework 1 early so you can ask questions of piazza if necessary! You've got this!"
      ]
    }
  ]
}