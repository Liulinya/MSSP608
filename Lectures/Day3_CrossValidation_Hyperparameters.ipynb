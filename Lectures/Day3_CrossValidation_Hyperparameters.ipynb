{
  "nbformat": 4,
  "nbformat_minor": 0,
  "metadata": {
    "kernelspec": {
      "display_name": "Python 3",
      "language": "python",
      "name": "python3"
    },
    "language_info": {
      "codemirror_mode": {
        "name": "ipython",
        "version": 3
      },
      "file_extension": ".py",
      "mimetype": "text/x-python",
      "name": "python",
      "nbconvert_exporter": "python",
      "pygments_lexer": "ipython3",
      "version": "3.7.4"
    },
    "colab": {
      "name": "Day3-CrossValidation-Hyperparameters.ipynb",
      "provenance": [],
      "include_colab_link": true
    }
  },
  "cells": [
    {
      "cell_type": "markdown",
      "metadata": {
        "id": "view-in-github",
        "colab_type": "text"
      },
      "source": [
        "<a href=\"https://colab.research.google.com/github/chetan-parthiban/MSSP608/blob/master/Lectures/Day3_CrossValidation_Hyperparameters.ipynb\" target=\"_parent\"><img src=\"https://colab.research.google.com/assets/colab-badge.svg\" alt=\"Open In Colab\"/></a>"
      ]
    },
    {
      "cell_type": "code",
      "metadata": {
        "id": "7wla1R_1moa1",
        "colab_type": "code",
        "outputId": "c1c19ddc-bd6a-4f89-d247-c182ea0ae602",
        "colab": {
          "base_uri": "https://localhost:8080/",
          "height": 71
        }
      },
      "source": [
        "import math\n",
        "import pandas as pd\n",
        "import numpy as np\n",
        "import statsmodels.formula.api as smf\n",
        "import matplotlib.pyplot as plt\n",
        "import calendar\n",
        "from scipy import stats\n",
        "from matplotlib import dates\n",
        "from datetime import datetime\n",
        "\n",
        "from sklearn.metrics import accuracy_score, precision_score, recall_score, cohen_kappa_score, confusion_matrix, ConfusionMatrixDisplay\n",
        "from sklearn.linear_model import LogisticRegression\n",
        "from sklearn.tree import DecisionTreeClassifier\n",
        "from sklearn import tree\n",
        "from sklearn.naive_bayes import MultinomialNB\n",
        "from sklearn.model_selection import train_test_split, KFold, GridSearchCV\n",
        "from sklearn.utils.testing import ignore_warnings\n",
        "from sklearn.exceptions import ConvergenceWarning, UndefinedMetricWarning"
      ],
      "execution_count": 0,
      "outputs": [
        {
          "output_type": "stream",
          "text": [
            "/usr/local/lib/python3.6/dist-packages/sklearn/utils/deprecation.py:144: FutureWarning: The sklearn.utils.testing module is  deprecated in version 0.22 and will be removed in version 0.24. The corresponding classes / functions should instead be imported from sklearn.utils. Anything that cannot be imported from sklearn.utils is now part of the private API.\n",
            "  warnings.warn(message, FutureWarning)\n"
          ],
          "name": "stderr"
        }
      ]
    },
    {
      "cell_type": "markdown",
      "metadata": {
        "id": "b7kxmmRSnEZK",
        "colab_type": "text"
      },
      "source": [
        "# Downloading and Preprocessing the Data (Same as in Days 1/2)\n",
        "\n",
        "If you understand this part of the Day 1 and Day 2 notebooks, then feel free to skip over reading this part of the notebook since it is exactly the same. "
      ]
    },
    {
      "cell_type": "code",
      "metadata": {
        "id": "sOP9zyzGm3OV",
        "colab_type": "code",
        "outputId": "5fdacaf9-44e5-44fb-d4e7-af19b083af98",
        "colab": {
          "base_uri": "https://localhost:8080/"
        }
      },
      "source": [
        "# Download the data\n",
        "!wget --no-check-certificate 'https://docs.google.com/uc?export=download&id=0B5qTk6DHjanhY2ZaOENiUnROQVZld1lQVXNVNzh0dnZodFdJ' -O bikeshare_train.csv"
      ],
      "execution_count": 0,
      "outputs": [
        {
          "output_type": "stream",
          "text": [
            "--2020-01-21 23:19:33--  https://docs.google.com/uc?export=download&id=0B5qTk6DHjanhY2ZaOENiUnROQVZld1lQVXNVNzh0dnZodFdJ\n",
            "Resolving docs.google.com (docs.google.com)... 74.125.20.102, 74.125.20.100, 74.125.20.138, ...\n",
            "Connecting to docs.google.com (docs.google.com)|74.125.20.102|:443... connected.\n",
            "HTTP request sent, awaiting response... 302 Moved Temporarily\n",
            "Location: https://doc-0s-5c-docs.googleusercontent.com/docs/securesc/ha0ro937gcuc7l7deffksulhg5h7mbp1/3bau92p1uve88hhmhdef5pqm81qkga6b/1579644000000/09819396713149841370/*/0B5qTk6DHjanhY2ZaOENiUnROQVZld1lQVXNVNzh0dnZodFdJ?e=download [following]\n",
            "Warning: wildcards not supported in HTTP.\n",
            "--2020-01-21 23:19:34--  https://doc-0s-5c-docs.googleusercontent.com/docs/securesc/ha0ro937gcuc7l7deffksulhg5h7mbp1/3bau92p1uve88hhmhdef5pqm81qkga6b/1579644000000/09819396713149841370/*/0B5qTk6DHjanhY2ZaOENiUnROQVZld1lQVXNVNzh0dnZodFdJ?e=download\n",
            "Resolving doc-0s-5c-docs.googleusercontent.com (doc-0s-5c-docs.googleusercontent.com)... 74.125.195.132, 2607:f8b0:400e:c09::84\n",
            "Connecting to doc-0s-5c-docs.googleusercontent.com (doc-0s-5c-docs.googleusercontent.com)|74.125.195.132|:443... connected.\n",
            "HTTP request sent, awaiting response... 200 OK\n",
            "Length: 648353 (633K) [text/csv]\n",
            "Saving to: ‘bikeshare_train.csv’\n",
            "\n",
            "bikeshare_train.csv 100%[===================>] 633.16K  --.-KB/s    in 0.008s  \n",
            "\n",
            "2020-01-21 23:19:34 (81.4 MB/s) - ‘bikeshare_train.csv’ saved [648353/648353]\n",
            "\n"
          ],
          "name": "stdout"
        }
      ]
    },
    {
      "cell_type": "code",
      "metadata": {
        "scrolled": true,
        "id": "FmF2tNC4mobC",
        "colab_type": "code",
        "outputId": "52040902-f5b6-4a7f-a753-5f8996f0d224",
        "colab": {
          "base_uri": "https://localhost:8080/"
        }
      },
      "source": [
        "bikeshare = pd.read_csv(\"bikeshare_train.csv\")\n",
        "bikeshare[\"date_objs\"] = bikeshare[\"datetime\"].apply(lambda x: datetime.strptime(x, '%Y-%m-%d %H:%M:%S'))\n",
        "bikeshare[\"hour\"] = bikeshare[\"date_objs\"].apply(lambda x: x.hour)\n",
        "bikeshare[\"day\"] = bikeshare[\"date_objs\"].apply(lambda x: x.day)\n",
        "bikeshare[\"month\"] = bikeshare[\"date_objs\"].apply(lambda x: x.month)\n",
        "bikeshare[\"year\"] = bikeshare[\"date_objs\"].apply(lambda x: x.year)\n",
        "bikeshare[\"weekday\"] = bikeshare[\"date_objs\"].apply(lambda x: x.weekday())\n",
        "bikeshare[\"plot_time\"] = bikeshare[\"datetime\"].apply(dates.datestr2num)\n",
        "\n",
        "bikeshare[\"month_str\"] = bikeshare[\"month\"].apply(lambda x: calendar.month_name[x])\n",
        "bikeshare[\"weekday_str\"] = bikeshare[\"weekday\"].apply(lambda x: calendar.day_name[x])\n",
        "bikeshare[\"high_traffic\"] = bikeshare[\"count\"] > 145\n",
        "\n",
        "def weather_norm(x):\n",
        "    if x == 1:\n",
        "        return \"clear\"\n",
        "    if x == 2:\n",
        "        return \"overcast\"\n",
        "    if x > 2:\n",
        "        return \"gross\"\n",
        "    \n",
        "bikeshare[\"weather_norm\"] = bikeshare[\"weather\"].apply(weather_norm)\n",
        "print(bikeshare[\"weather_norm\"].value_counts())\n",
        "bikeshare.head()"
      ],
      "execution_count": 0,
      "outputs": [
        {
          "output_type": "stream",
          "text": [
            "clear       7192\n",
            "overcast    2834\n",
            "gross        860\n",
            "Name: weather_norm, dtype: int64\n"
          ],
          "name": "stdout"
        },
        {
          "output_type": "execute_result",
          "data": {
            "text/html": [
              "<div>\n",
              "<style scoped>\n",
              "    .dataframe tbody tr th:only-of-type {\n",
              "        vertical-align: middle;\n",
              "    }\n",
              "\n",
              "    .dataframe tbody tr th {\n",
              "        vertical-align: top;\n",
              "    }\n",
              "\n",
              "    .dataframe thead th {\n",
              "        text-align: right;\n",
              "    }\n",
              "</style>\n",
              "<table border=\"1\" class=\"dataframe\">\n",
              "  <thead>\n",
              "    <tr style=\"text-align: right;\">\n",
              "      <th></th>\n",
              "      <th>datetime</th>\n",
              "      <th>season</th>\n",
              "      <th>holiday</th>\n",
              "      <th>workingday</th>\n",
              "      <th>weather</th>\n",
              "      <th>temp</th>\n",
              "      <th>atemp</th>\n",
              "      <th>humidity</th>\n",
              "      <th>windspeed</th>\n",
              "      <th>casual</th>\n",
              "      <th>registered</th>\n",
              "      <th>count</th>\n",
              "      <th>date_objs</th>\n",
              "      <th>hour</th>\n",
              "      <th>day</th>\n",
              "      <th>month</th>\n",
              "      <th>year</th>\n",
              "      <th>weekday</th>\n",
              "      <th>plot_time</th>\n",
              "      <th>month_str</th>\n",
              "      <th>weekday_str</th>\n",
              "      <th>high_traffic</th>\n",
              "      <th>weather_norm</th>\n",
              "    </tr>\n",
              "  </thead>\n",
              "  <tbody>\n",
              "    <tr>\n",
              "      <th>0</th>\n",
              "      <td>2011-01-01 00:00:00</td>\n",
              "      <td>1</td>\n",
              "      <td>0</td>\n",
              "      <td>0</td>\n",
              "      <td>1</td>\n",
              "      <td>9.84</td>\n",
              "      <td>14.395</td>\n",
              "      <td>81</td>\n",
              "      <td>0.0</td>\n",
              "      <td>3</td>\n",
              "      <td>13</td>\n",
              "      <td>16</td>\n",
              "      <td>2011-01-01 00:00:00</td>\n",
              "      <td>0</td>\n",
              "      <td>1</td>\n",
              "      <td>1</td>\n",
              "      <td>2011</td>\n",
              "      <td>5</td>\n",
              "      <td>734138.000000</td>\n",
              "      <td>January</td>\n",
              "      <td>Saturday</td>\n",
              "      <td>False</td>\n",
              "      <td>clear</td>\n",
              "    </tr>\n",
              "    <tr>\n",
              "      <th>1</th>\n",
              "      <td>2011-01-01 01:00:00</td>\n",
              "      <td>1</td>\n",
              "      <td>0</td>\n",
              "      <td>0</td>\n",
              "      <td>1</td>\n",
              "      <td>9.02</td>\n",
              "      <td>13.635</td>\n",
              "      <td>80</td>\n",
              "      <td>0.0</td>\n",
              "      <td>8</td>\n",
              "      <td>32</td>\n",
              "      <td>40</td>\n",
              "      <td>2011-01-01 01:00:00</td>\n",
              "      <td>1</td>\n",
              "      <td>1</td>\n",
              "      <td>1</td>\n",
              "      <td>2011</td>\n",
              "      <td>5</td>\n",
              "      <td>734138.041667</td>\n",
              "      <td>January</td>\n",
              "      <td>Saturday</td>\n",
              "      <td>False</td>\n",
              "      <td>clear</td>\n",
              "    </tr>\n",
              "    <tr>\n",
              "      <th>2</th>\n",
              "      <td>2011-01-01 02:00:00</td>\n",
              "      <td>1</td>\n",
              "      <td>0</td>\n",
              "      <td>0</td>\n",
              "      <td>1</td>\n",
              "      <td>9.02</td>\n",
              "      <td>13.635</td>\n",
              "      <td>80</td>\n",
              "      <td>0.0</td>\n",
              "      <td>5</td>\n",
              "      <td>27</td>\n",
              "      <td>32</td>\n",
              "      <td>2011-01-01 02:00:00</td>\n",
              "      <td>2</td>\n",
              "      <td>1</td>\n",
              "      <td>1</td>\n",
              "      <td>2011</td>\n",
              "      <td>5</td>\n",
              "      <td>734138.083333</td>\n",
              "      <td>January</td>\n",
              "      <td>Saturday</td>\n",
              "      <td>False</td>\n",
              "      <td>clear</td>\n",
              "    </tr>\n",
              "    <tr>\n",
              "      <th>3</th>\n",
              "      <td>2011-01-01 03:00:00</td>\n",
              "      <td>1</td>\n",
              "      <td>0</td>\n",
              "      <td>0</td>\n",
              "      <td>1</td>\n",
              "      <td>9.84</td>\n",
              "      <td>14.395</td>\n",
              "      <td>75</td>\n",
              "      <td>0.0</td>\n",
              "      <td>3</td>\n",
              "      <td>10</td>\n",
              "      <td>13</td>\n",
              "      <td>2011-01-01 03:00:00</td>\n",
              "      <td>3</td>\n",
              "      <td>1</td>\n",
              "      <td>1</td>\n",
              "      <td>2011</td>\n",
              "      <td>5</td>\n",
              "      <td>734138.125000</td>\n",
              "      <td>January</td>\n",
              "      <td>Saturday</td>\n",
              "      <td>False</td>\n",
              "      <td>clear</td>\n",
              "    </tr>\n",
              "    <tr>\n",
              "      <th>4</th>\n",
              "      <td>2011-01-01 04:00:00</td>\n",
              "      <td>1</td>\n",
              "      <td>0</td>\n",
              "      <td>0</td>\n",
              "      <td>1</td>\n",
              "      <td>9.84</td>\n",
              "      <td>14.395</td>\n",
              "      <td>75</td>\n",
              "      <td>0.0</td>\n",
              "      <td>0</td>\n",
              "      <td>1</td>\n",
              "      <td>1</td>\n",
              "      <td>2011-01-01 04:00:00</td>\n",
              "      <td>4</td>\n",
              "      <td>1</td>\n",
              "      <td>1</td>\n",
              "      <td>2011</td>\n",
              "      <td>5</td>\n",
              "      <td>734138.166667</td>\n",
              "      <td>January</td>\n",
              "      <td>Saturday</td>\n",
              "      <td>False</td>\n",
              "      <td>clear</td>\n",
              "    </tr>\n",
              "  </tbody>\n",
              "</table>\n",
              "</div>"
            ],
            "text/plain": [
              "              datetime  season  holiday  ...  weekday_str  high_traffic  weather_norm\n",
              "0  2011-01-01 00:00:00       1        0  ...     Saturday         False         clear\n",
              "1  2011-01-01 01:00:00       1        0  ...     Saturday         False         clear\n",
              "2  2011-01-01 02:00:00       1        0  ...     Saturday         False         clear\n",
              "3  2011-01-01 03:00:00       1        0  ...     Saturday         False         clear\n",
              "4  2011-01-01 04:00:00       1        0  ...     Saturday         False         clear\n",
              "\n",
              "[5 rows x 23 columns]"
            ]
          },
          "metadata": {
            "tags": []
          },
          "execution_count": 4
        }
      ]
    },
    {
      "cell_type": "markdown",
      "metadata": {
        "id": "q5ppjYk2mobI",
        "colab_type": "text"
      },
      "source": [
        "# Cross-Validation\n",
        "\n",
        "Here we'll move from having a single train-test split to instead having a single large training set that we split into folds to get multiple estimates of performance."
      ]
    },
    {
      "cell_type": "code",
      "metadata": {
        "id": "OiE60-rmpTtY",
        "colab_type": "code",
        "colab": {}
      },
      "source": [
        "# Define a function that takes in the predictions of a classifier, the true labels,\n",
        "# and a set of metrics and displays the model's performance on the metrics. This is\n",
        "# very similar to the function we used in the Day 2 notebook!\n",
        "\n",
        "def evaluate(y_pred, y_actual, metrics, model_name = 'model'):\n",
        "    # Compute Metrics\n",
        "    conf_matrix = confusion_matrix(y_actual, y_pred)\n",
        "    model_metrics = {}\n",
        "    for (metric_name, metric) in metrics.items():\n",
        "        result = metric(y_actual, y_pred)\n",
        "        model_metrics[metric_name] = result\n",
        "\n",
        "    return conf_matrix, model_metrics"
      ],
      "execution_count": 0,
      "outputs": []
    },
    {
      "cell_type": "code",
      "metadata": {
        "id": "GXRHK0XYmobK",
        "colab_type": "code",
        "outputId": "727e4b06-0f91-4176-de23-7dd32000f5fa",
        "colab": {
          "base_uri": "https://localhost:8080/",
          "height": 1000
        }
      },
      "source": [
        "# Pick Classifiers to Compare\n",
        "classifiers = {\n",
        "    \"Decision Tree\": DecisionTreeClassifier(criterion=\"entropy\", random_state=123),\n",
        "    \"Logistic Regression\": LogisticRegression(penalty=\"none\", solver=\"lbfgs\", multi_class='ovr', max_iter=10000, random_state=123),\n",
        "}\n",
        "\n",
        "# Set a list of metrics we want to use to compare our classifiers \n",
        "metrics = {\n",
        "    \"Accuracy\" : lambda y,y_pred: 100*accuracy_score(y,y_pred),\n",
        "    \"Kappa\"    : cohen_kappa_score,\n",
        "    \"Precision\": precision_score,\n",
        "    \"Recall\"   : recall_score\n",
        "}\n",
        "\n",
        "# Choose a metric to optimize over\n",
        "metric_to_optimize = 'Accuracy'\n",
        "\n",
        "# Pick Features to Use\n",
        "date_features = [\"day\", \"month_str\", \"year\", \"weekday_str\", \"season\", \"holiday\", \"workingday\"]\n",
        "time_features = [\"hour\"]\n",
        "weather_features = [\"weather\", \"temp\", \"atemp\", \"humidity\", \"windspeed\"]\n",
        "\n",
        "feature_set = date_features + time_features + weather_features\n",
        "\n",
        "# Set up our dataset and cross validation split\n",
        "X = bikeshare.loc[:, feature_set]\n",
        "X = pd.get_dummies(X)\n",
        "y = bikeshare[\"high_traffic\"]\n",
        "kf = KFold(n_splits=10, shuffle=True)\n",
        "\n",
        "# Initialize variables to store results\n",
        "best = 0\n",
        "best_name = None\n",
        "\n",
        "classifier_comparison = {}\n",
        "\n",
        "# Compute and compare metrics for all classifiers\n",
        "for classifier_name, classifier in classifiers.items():\n",
        "\n",
        "    all_fold_metrics = {metric_name: [] for metric_name in metrics}\n",
        "\n",
        "    # Iterate over each fold\n",
        "    for fold_num, (train_index, test_index) in enumerate(kf.split(X)):\n",
        "        # Get the data subset for the current fold\n",
        "        X_train = X.iloc[train_index]\n",
        "        X_test = X.iloc[test_index]\n",
        "        y_train = y.iloc[train_index]\n",
        "        y_test = y.iloc[test_index]\n",
        "\n",
        "        # Train and Evaluate Model\n",
        "        model = classifier.fit(X_train, y_train)\n",
        "        y_pred = model.predict(X_test)\n",
        "        conf_matrix, model_metrics = evaluate(y_pred, y_test, metrics, model_name = classifier_name)\n",
        "\n",
        "        # Update our tracking variables\n",
        "        [all_fold_metrics[metric_name].append(metric_val) for metric_name, metric_val in model_metrics.items()]\n",
        "\n",
        "        # Display Results\n",
        "        print(f\"{classifier_name}: Fold {fold_num} Results\")\n",
        "        ConfusionMatrixDisplay(conf_matrix, [\"low traffic\", \"high traffic\"]).plot(values_format='.4g')\n",
        "        plt.show()\n",
        "        print(model_metrics)\n",
        "        print(\"------------------------\")\n",
        "    \n",
        "    # Compute the average result for the metric we are optimizing over\n",
        "    optimization_metric_avg = np.mean(all_fold_metrics[metric_to_optimize])\n",
        "    \n",
        "    # Update our tracking variables\n",
        "    classifier_comparison[classifier_name] = all_fold_metrics\n",
        "    \n",
        "    if optimization_metric_avg > best:\n",
        "        best = optimization_metric_avg\n",
        "        best_name = classifier_name\n",
        "    \n",
        "    # Display Results\n",
        "    print(f\"Mean {classifier_name} {metric_to_optimize}: {optimization_metric_avg}\")\n",
        "    print(\"------------------------\")\n",
        "\n",
        "# Display our final result\n",
        "print(f\"Best classifier is: {best_name} \\nWith: {best:.1f}% accuracy.\")    "
      ],
      "execution_count": 0,
      "outputs": [
        {
          "output_type": "stream",
          "text": [
            "Decision Tree: Fold 0 Results\n"
          ],
          "name": "stdout"
        },
        {
          "output_type": "display_data",
          "data": {
            "image/png": "[encoded data removed]",
            "text/plain": [
              "<Figure size 432x288 with 2 Axes>"
            ]
          },
          "metadata": {
            "tags": []
          }
        },
        {
          "output_type": "stream",
          "text": [
            "{'Accuracy': 93.5720844811754, 'Kappa': 0.8711595471738932, 'Precision': 0.9402460456942003, 'Recall': 0.9369527145359019}\n",
            "------------------------\n",
            "Decision Tree: Fold 1 Results\n"
          ],
          "name": "stdout"
        },
        {
          "output_type": "display_data",
          "data": {
            "image/png": "[encoded data removed]",
            "text/plain": [
              "<Figure size 432x288 with 2 Axes>"
            ]
          },
          "metadata": {
            "tags": []
          }
        },
        {
          "output_type": "stream",
          "text": [
            "{'Accuracy': 91.643709825528, 'Kappa': 0.8326321602829238, 'Precision': 0.9070208728652751, 'Recall': 0.9192307692307692}\n",
            "------------------------\n",
            "Decision Tree: Fold 2 Results\n"
          ],
          "name": "stdout"
        },
        {
          "output_type": "display_data",
          "data": {
            "image/png": "[encoded data removed]",
            "text/plain": [
              "<Figure size 432x288 with 2 Axes>"
            ]
          },
          "metadata": {
            "tags": []
          }
        },
        {
          "output_type": "stream",
          "text": [
            "{'Accuracy': 92.3783287419651, 'Kappa': 0.8472730775014743, 'Precision': 0.9247104247104247, 'Recall': 0.9158699808795411}\n",
            "------------------------\n",
            "Decision Tree: Fold 3 Results\n"
          ],
          "name": "stdout"
        },
        {
          "output_type": "display_data",
          "data": {
            "image/png": "[encoded data removed]",
            "text/plain": [
              "<Figure size 432x288 with 2 Axes>"
            ]
          },
          "metadata": {
            "tags": []
          }
        },
        {
          "output_type": "stream",
          "text": [
            "{'Accuracy': 90.17447199265382, 'Kappa': 0.8035021981487321, 'Precision': 0.8945454545454545, 'Recall': 0.9094269870609981}\n",
            "------------------------\n",
            "Decision Tree: Fold 4 Results\n"
          ],
          "name": "stdout"
        },
        {
          "output_type": "display_data",
          "data": {
            "image/png": "[encoded data removed]",
            "text/plain": [
              "<Figure size 432x288 with 2 Axes>"
            ]
          },
          "metadata": {
            "tags": []
          }
        },
        {
          "output_type": "stream",
          "text": [
            "{'Accuracy': 91.27640036730946, 'Kappa': 0.8254198075238823, 'Precision': 0.9207207207207208, 'Recall': 0.9092526690391459}\n",
            "------------------------\n",
            "Decision Tree: Fold 5 Results\n"
          ],
          "name": "stdout"
        },
        {
          "output_type": "display_data",
          "data": {
            "image/png": "[encoded data removed]",
            "text/plain": [
              "<Figure size 432x288 with 2 Axes>"
            ]
          },
          "metadata": {
            "tags": []
          }
        },
        {
          "output_type": "stream",
          "text": [
            "{'Accuracy': 91.3682277318641, 'Kappa': 0.8273632444903163, 'Precision': 0.9139194139194139, 'Recall': 0.9139194139194139}\n",
            "------------------------\n",
            "Decision Tree: Fold 6 Results\n"
          ],
          "name": "stdout"
        },
        {
          "output_type": "display_data",
          "data": {
            "image/png": "[encoded data removed]",
            "text/plain": [
              "<Figure size 432x288 with 2 Axes>"
            ]
          },
          "metadata": {
            "tags": []
          }
        },
        {
          "output_type": "stream",
          "text": [
            "{'Accuracy': 91.26838235294117, 'Kappa': 0.8251868890166763, 'Precision': 0.9145907473309609, 'Recall': 0.9162210338680927}\n",
            "------------------------\n",
            "Decision Tree: Fold 7 Results\n"
          ],
          "name": "stdout"
        },
        {
          "output_type": "display_data",
          "data": {
            "image/png": "[encoded data removed]",
            "text/plain": [
              "<Figure size 432x288 with 2 Axes>"
            ]
          },
          "metadata": {
            "tags": []
          }
        },
        {
          "output_type": "stream",
          "text": [
            "{'Accuracy': 92.00367647058823, 'Kappa': 0.8400540723217302, 'Precision': 0.9266917293233082, 'Recall': 0.911275415896488}\n",
            "------------------------\n",
            "Decision Tree: Fold 8 Results\n"
          ],
          "name": "stdout"
        },
        {
          "output_type": "display_data",
          "data": {
            "image/png": "[encoded data removed]",
            "text/plain": [
              "<Figure size 432x288 with 2 Axes>"
            ]
          },
          "metadata": {
            "tags": []
          }
        },
        {
          "output_type": "stream",
          "text": [
            "{'Accuracy': 90.25735294117648, 'Kappa': 0.8051701011247724, 'Precision': 0.8925318761384335, 'Recall': 0.9124767225325885}\n",
            "------------------------\n",
            "Decision Tree: Fold 9 Results\n"
          ],
          "name": "stdout"
        },
        {
          "output_type": "display_data",
          "data": {
            "image/png": "[encoded data removed]",
            "text/plain": [
              "<Figure size 432x288 with 2 Axes>"
            ]
          },
          "metadata": {
            "tags": []
          }
        },
        {
          "output_type": "stream",
          "text": [
            "{'Accuracy': 92.27941176470588, 'Kappa': 0.8455005274404264, 'Precision': 0.9226415094339623, 'Recall': 0.9191729323308271}\n",
            "------------------------\n",
            "Mean Decision Tree Accuracy: 91.62220466699077\n",
            "------------------------\n",
            "Logistic Regression: Fold 0 Results\n"
          ],
          "name": "stdout"
        },
        {
          "output_type": "display_data",
          "data": {
            "image/png": "[encoded data removed]",
            "text/plain": [
              "<Figure size 432x288 with 2 Axes>"
            ]
          },
          "metadata": {
            "tags": []
          }
        },
        {
          "output_type": "stream",
          "text": [
            "{'Accuracy': 78.0532598714417, 'Kappa': 0.5592623637887678, 'Precision': 0.7838383838383839, 'Recall': 0.7461538461538462}\n",
            "------------------------\n",
            "Logistic Regression: Fold 1 Results\n"
          ],
          "name": "stdout"
        },
        {
          "output_type": "display_data",
          "data": {
            "image/png": "[encoded data removed]",
            "text/plain": [
              "<Figure size 432x288 with 2 Axes>"
            ]
          },
          "metadata": {
            "tags": []
          }
        },
        {
          "output_type": "stream",
          "text": [
            "{'Accuracy': 79.7979797979798, 'Kappa': 0.5960437307362869, 'Precision': 0.8104089219330854, 'Recall': 0.7870036101083032}\n",
            "------------------------\n",
            "Logistic Regression: Fold 2 Results\n"
          ],
          "name": "stdout"
        },
        {
          "output_type": "display_data",
          "data": {
            "image/png": "[encoded data removed]",
            "text/plain": [
              "<Figure size 432x288 with 2 Axes>"
            ]
          },
          "metadata": {
            "tags": []
          }
        },
        {
          "output_type": "stream",
          "text": [
            "{'Accuracy': 78.0532598714417, 'Kappa': 0.56105964553683, 'Precision': 0.782051282051282, 'Recall': 0.7806215722120659}\n",
            "------------------------\n",
            "Logistic Regression: Fold 3 Results\n"
          ],
          "name": "stdout"
        },
        {
          "output_type": "display_data",
          "data": {
            "image/png": "[encoded data removed]",
            "text/plain": [
              "<Figure size 432x288 with 2 Axes>"
            ]
          },
          "metadata": {
            "tags": []
          }
        },
        {
          "output_type": "stream",
          "text": [
            "{'Accuracy': 79.24701561065197, 'Kappa': 0.5848195307597319, 'Precision': 0.7858472998137802, 'Recall': 0.7917448405253283}\n",
            "------------------------\n",
            "Logistic Regression: Fold 4 Results\n"
          ],
          "name": "stdout"
        },
        {
          "output_type": "display_data",
          "data": {
            "image/png": "[encoded data removed]",
            "text/plain": [
              "<Figure size 432x288 with 2 Axes>"
            ]
          },
          "metadata": {
            "tags": []
          }
        },
        {
          "output_type": "stream",
          "text": [
            "{'Accuracy': 79.98163452708907, 'Kappa': 0.5997794928335172, 'Precision': 0.8150943396226416, 'Recall': 0.782608695652174}\n",
            "------------------------\n",
            "Logistic Regression: Fold 5 Results\n"
          ],
          "name": "stdout"
        },
        {
          "output_type": "display_data",
          "data": {
            "image/png": "[encoded data removed]",
            "text/plain": [
              "<Figure size 432x288 with 2 Axes>"
            ]
          },
          "metadata": {
            "tags": []
          }
        },
        {
          "output_type": "stream",
          "text": [
            "{'Accuracy': 78.60422405876952, 'Kappa': 0.5716673165840344, 'Precision': 0.7784090909090909, 'Recall': 0.7798861480075902}\n",
            "------------------------\n",
            "Logistic Regression: Fold 6 Results\n"
          ],
          "name": "stdout"
        },
        {
          "output_type": "display_data",
          "data": {
            "image/png": "[encoded data removed]",
            "text/plain": [
              "<Figure size 432x288 with 2 Axes>"
            ]
          },
          "metadata": {
            "tags": []
          }
        },
        {
          "output_type": "stream",
          "text": [
            "{'Accuracy': 78.40073529411765, 'Kappa': 0.5680584932053006, 'Precision': 0.773308957952468, 'Recall': 0.7921348314606742}\n",
            "------------------------\n",
            "Logistic Regression: Fold 7 Results\n"
          ],
          "name": "stdout"
        },
        {
          "output_type": "display_data",
          "data": {
            "image/png": "[encoded data removed]",
            "text/plain": [
              "<Figure size 432x288 with 2 Axes>"
            ]
          },
          "metadata": {
            "tags": []
          }
        },
        {
          "output_type": "stream",
          "text": [
            "{'Accuracy': 78.58455882352942, 'Kappa': 0.5712043301759133, 'Precision': 0.7964285714285714, 'Recall': 0.7893805309734513}\n",
            "------------------------\n",
            "Logistic Regression: Fold 8 Results\n"
          ],
          "name": "stdout"
        },
        {
          "output_type": "display_data",
          "data": {
            "image/png": "[encoded data removed]",
            "text/plain": [
              "<Figure size 432x288 with 2 Axes>"
            ]
          },
          "metadata": {
            "tags": []
          }
        },
        {
          "output_type": "stream",
          "text": [
            "{'Accuracy': 79.87132352941177, 'Kappa': 0.5977961432506886, 'Precision': 0.8235294117647058, 'Recall': 0.775}\n",
            "------------------------\n",
            "Logistic Regression: Fold 9 Results\n"
          ],
          "name": "stdout"
        },
        {
          "output_type": "display_data",
          "data": {
            "image/png": "[encoded data removed]",
            "text/plain": [
              "<Figure size 432x288 with 2 Axes>"
            ]
          },
          "metadata": {
            "tags": []
          }
        },
        {
          "output_type": "stream",
          "text": [
            "{'Accuracy': 78.86029411764706, 'Kappa': 0.5771601600519087, 'Precision': 0.7954545454545454, 'Recall': 0.7749077490774908}\n",
            "------------------------\n",
            "Mean Logistic Regression Accuracy: 78.94542855020795\n",
            "------------------------\n",
            "Best classifier is: Decision Tree \n",
            "With: 91.6% accuracy.\n"
          ],
          "name": "stdout"
        }
      ]
    },
    {
      "cell_type": "markdown",
      "metadata": {
        "id": "TXhau1yQmobQ",
        "colab_type": "text"
      },
      "source": [
        "## Rewriting Our Comparisons as a Function\n",
        "We can also move this whole functionality into a function so we can call it in the future, moving the exact number of folds to a parameter in the function call."
      ]
    },
    {
      "cell_type": "code",
      "metadata": {
        "id": "M7LAP-x2mobS",
        "colab_type": "code",
        "colab": {}
      },
      "source": [
        "\"\"\"\n",
        "Options for noisy: \"loud\", \"quiet\", and other. Any other value prints nothing (silent).\n",
        "\"\"\"\n",
        "\n",
        "# Start by defining a function to evaluate a classifier's predictions\n",
        "def evaluate(y_pred, y_actual, metrics, model_name = 'model'):\n",
        "    # Compute Confusion Matrix\n",
        "    conf_matrix = confusion_matrix(y_actual, y_pred)\n",
        "\n",
        "    # Compute and store each metric\n",
        "    model_metrics = {}\n",
        "    for (metric_name, metric) in metrics.items():\n",
        "        result = metric(y_actual, y_pred)\n",
        "        model_metrics[metric_name] = result\n",
        "\n",
        "    return conf_matrix, model_metrics\n",
        "\n",
        "# Then define a function that trains a classifier and evaluates it on one fold\n",
        "def evaluate_one_fold(classifier_name, classifier, X_train, y_train, X_test, y_test, metrics, fold_num, noisy = 'loud'):\n",
        "\n",
        "    # Train and Evaluate Model\n",
        "    model = classifier.fit(X_train, y_train)\n",
        "    y_pred = model.predict(X_test)\n",
        "    conf_matrix, model_metrics = evaluate(y_pred, y_test, metrics, model_name = classifier_name)\n",
        "\n",
        "    # Display Results appropriately when noisy is set to 'loud' or 'quiet'\n",
        "    if noisy == 'quiet':\n",
        "        print(f\"{classifier_name}: Fold {fold_num}\")\n",
        "    elif noisy == 'loud':\n",
        "        print(f\"{classifier_name}: Fold {fold_num} Results\")\n",
        "        ConfusionMatrixDisplay(conf_matrix, [\"low traffic\", \"high traffic\"]).plot(values_format='.4g')\n",
        "        plt.show()\n",
        "        print(model_metrics)\n",
        "        print(\"------------------------\")\n",
        "\n",
        "    return model_metrics\n",
        "\n",
        "# Then define a function to evaluate over all folds\n",
        "def evaluate_all_folds(classifier_name, classifier, X, y, kf, metrics, noisy = 'loud'):\n",
        "\n",
        "    # Initialize tracking variables\n",
        "    all_fold_metrics = {metric_name: [] for metric_name in metrics}\n",
        "\n",
        "    # Iterate over each fold\n",
        "    for fold_num, (train_index, test_index) in enumerate(kf.split(X)):\n",
        "        # Get the data subset for the current fold\n",
        "        X_train = X.iloc[train_index]\n",
        "        X_test = X.iloc[test_index]\n",
        "        y_train = y.iloc[train_index]\n",
        "        y_test = y.iloc[test_index]\n",
        "\n",
        "        # Train and Evaluate the Model\n",
        "        model_metrics =  evaluate_one_fold(classifier_name, classifier, X_train, y_train, X_test, y_test, metrics, fold_num, noisy)\n",
        "\n",
        "        # Update our tracking variables\n",
        "        [all_fold_metrics[metric_name].append(metric_val) for metric_name, metric_val in model_metrics.items()]\n",
        "\n",
        "    return all_fold_metrics\n",
        "\n",
        "# Then define a function to compare different classifiers\n",
        "def compare_classifiers(classifiers, metrics, metric_to_optimize, df, feature_set,\n",
        "                        target, folds = 10, shuffle = True, noisy='loud'):\n",
        "    # Set up dataset and cross validation\n",
        "    X = df.loc[:, feature_set]\n",
        "    X = pd.get_dummies(X)\n",
        "    y = df[target]\n",
        "    kf = KFold(n_splits=folds, shuffle=shuffle)\n",
        "\n",
        "    # Initialize tracking variables\n",
        "    best = 0\n",
        "    best_name = None\n",
        "    classifier_comparison = {}\n",
        "\n",
        "    # For each classifier\n",
        "    for classifier_name, classifier in classifiers.items():\n",
        "        # Evaluate on all metrics for all folds\n",
        "        all_fold_metrics = evaluate_all_folds(classifier_name, classifier, X, y, kf, metrics, noisy = noisy)\n",
        "\n",
        "        # Compute average performance on metric to optimize over\n",
        "        optimization_metric_avg = np.mean(all_fold_metrics[metric_to_optimize])\n",
        "\n",
        "        # Update Tracking Variables\n",
        "        if optimization_metric_avg > best:\n",
        "            best = optimization_metric_avg\n",
        "            best_name = classifier_name\n",
        "        classifier_comparison[classifier_name] = all_fold_metrics\n",
        "        if noisy == 'quiet': print(f\"Average {classifier_name} {metric_to_optimize}: {optimization_metric_avg}\")\n",
        "    # Return our results\n",
        "    return best, best_name, classifier_comparison\n",
        "    "
      ],
      "execution_count": 0,
      "outputs": []
    },
    {
      "cell_type": "code",
      "metadata": {
        "id": "2ZzPc4sZ-H3u",
        "colab_type": "code",
        "outputId": "c259de09-61de-4205-9f64-e41e2d1f44ab",
        "colab": {
          "base_uri": "https://localhost:8080/",
          "height": 425
        }
      },
      "source": [
        "# Pick Classifiers to Compare\n",
        "classifiers = {\n",
        "    \"Decision Tree\": DecisionTreeClassifier(criterion=\"entropy\", random_state=123),\n",
        "    \"Logistic Regression\": LogisticRegression(penalty=\"none\", solver=\"lbfgs\", multi_class='ovr', max_iter=10000, random_state=123),\n",
        "}\n",
        "\n",
        "# Set a list of metrics we want to use to compare our classifiers \n",
        "metrics = {\n",
        "    \"Accuracy\" : lambda y,y_pred: 100*accuracy_score(y,y_pred),\n",
        "    \"Kappa\"    : cohen_kappa_score,\n",
        "    \"Precision\": precision_score,\n",
        "    \"Recall\"   : recall_score\n",
        "}\n",
        "\n",
        "# Choose a metric to optimize over\n",
        "metric_to_optimize = 'Accuracy'\n",
        "\n",
        "# Pick features to use\n",
        "date_features = [\"day\", \"month_str\", \"year\", \"weekday_str\", \"season\", \"holiday\", \"workingday\"]\n",
        "time_features = [\"hour\"]\n",
        "weather_features = [\"weather\", \"temp\", \"atemp\", \"humidity\", \"windspeed\"]\n",
        "\n",
        "feature_set = date_features + time_features + weather_features\n",
        "\n",
        "# Compare models and display final result\n",
        "best, best_name, classifier_comparison = compare_classifiers(classifiers, metrics, metric_to_optimize, bikeshare, feature_set, \"high_traffic\", noisy = 'quiet')\n",
        "\n",
        "print(f\"Best classifier is: {best_name} \\nWith: {best:.1f}% accuracy.\")    "
      ],
      "execution_count": 0,
      "outputs": [
        {
          "output_type": "stream",
          "text": [
            "Decision Tree: Fold 0\n",
            "Decision Tree: Fold 1\n",
            "Decision Tree: Fold 2\n",
            "Decision Tree: Fold 3\n",
            "Decision Tree: Fold 4\n",
            "Decision Tree: Fold 5\n",
            "Decision Tree: Fold 6\n",
            "Decision Tree: Fold 7\n",
            "Decision Tree: Fold 8\n",
            "Decision Tree: Fold 9\n",
            "Average Decision Tree Accuracy: 91.35577870955547\n",
            "Logistic Regression: Fold 0\n",
            "Logistic Regression: Fold 1\n",
            "Logistic Regression: Fold 2\n",
            "Logistic Regression: Fold 3\n",
            "Logistic Regression: Fold 4\n",
            "Logistic Regression: Fold 5\n",
            "Logistic Regression: Fold 6\n",
            "Logistic Regression: Fold 7\n",
            "Logistic Regression: Fold 8\n",
            "Logistic Regression: Fold 9\n",
            "Average Logistic Regression Accuracy: 78.9361023334954\n",
            "Best classifier is: Decision Tree \n",
            "With: 91.4% accuracy.\n"
          ],
          "name": "stdout"
        }
      ]
    },
    {
      "cell_type": "markdown",
      "metadata": {
        "id": "0ueR7GSgmoba",
        "colab_type": "text"
      },
      "source": [
        "## Plotting variation in performance, by fold\n",
        "\n",
        "We can use visualization to see just how much of our performance is likely coming from random variation in which instances landed in our test set, instead of real variation in the accuracy of the classifier."
      ]
    },
    {
      "cell_type": "code",
      "metadata": {
        "scrolled": true,
        "id": "UwIZ3oEbmobc",
        "colab_type": "code",
        "outputId": "0b14bb31-555b-4a99-80c8-49617922184c",
        "colab": {
          "base_uri": "https://localhost:8080/",
          "height": 283
        }
      },
      "source": [
        "# Set Up Plotting\n",
        "plt.xlim(0.5,1)\n",
        "plt.xlabel(\"Precision\")\n",
        "plt.ylim(0,1)\n",
        "plt.ylabel(\"Recall\")\n",
        "\n",
        "# Plot Data\n",
        "for classifier in classifier_comparison:\n",
        "    x = classifier_comparison[classifier][\"Precision\"]\n",
        "    y = classifier_comparison[classifier][\"Recall\"]\n",
        "    plt.scatter(x, y)\n",
        "    plt.text(np.mean(x)-.06, np.mean(y)-.08, classifier, fontsize=9)"
      ],
      "execution_count": 0,
      "outputs": [
        {
          "output_type": "display_data",
          "data": {
            "image/png": "[encoded data removed]",
            "text/plain": [
              "<Figure size 432x288 with 1 Axes>"
            ]
          },
          "metadata": {
            "tags": []
          }
        }
      ]
    },
    {
      "cell_type": "markdown",
      "metadata": {
        "id": "JhcKLb5xmobh",
        "colab_type": "text"
      },
      "source": [
        "## Statistical significance of differences in cross-validation\n",
        "\n",
        "Testing differences between models gets a lot easier than working with once we have multiple estimates! Now we have genuine paired comparisons and we can run a simple t-test on the resulting data from each fold."
      ]
    },
    {
      "cell_type": "code",
      "metadata": {
        "id": "ch5N4WROmobj",
        "colab_type": "code",
        "outputId": "b45cbcd8-6ede-4875-d840-c5ac66f205b9",
        "colab": {
          "base_uri": "https://localhost:8080/",
          "height": 51
        }
      },
      "source": [
        "metric_to_compare = \"Accuracy\"\n",
        "trees_results = classifier_comparison[\"Decision Tree\"][metric_to_compare]\n",
        "regression_results = classifier_comparison[\"Logistic Regression\"][metric_to_compare]\n",
        "\n",
        "trees_mean = np.mean(trees_results)\n",
        "regression_mean = np.mean(regression_results)\n",
        "t, p = stats.ttest_rel(trees_results, regression_results)\n",
        "\n",
        "print(f\"Is {trees_mean:.3f} statistically different than {regression_mean:.3f}?\")\n",
        "if p < 0.01:\n",
        "    print(\"Yes\", end=', ')\n",
        "else:\n",
        "    print(\"No\", end=', ')\n",
        "print(f\"t={t:.3f}, p={p:.4f}\")\n"
      ],
      "execution_count": 0,
      "outputs": [
        {
          "output_type": "stream",
          "text": [
            "Is 91.356 statistically different than 78.936?\n",
            "Yes, t=24.018, p=0.0000\n"
          ],
          "name": "stdout"
        }
      ]
    },
    {
      "cell_type": "markdown",
      "metadata": {
        "id": "_QVF8Gz8mobo",
        "colab_type": "text"
      },
      "source": [
        "## The impact of small data\n",
        "\n",
        "So far we've been working on a single dataset at a time, mostly fixed in place. By introducing cross-validation we show that different, equally-sized sets of similar data can produce different results. But often in a real-world context we'll find that _gathering_ the data in the first place is part of our job (we'll cover this more in weekend 2). \n",
        "\n",
        "One thing we might want to know is just how fast our learning rate is improving as we add more and more data. Crucially, we're also going to have to answer a key question: How much data do we need?"
      ]
    },
    {
      "cell_type": "code",
      "metadata": {
        "id": "SurU6pifdDOv",
        "colab_type": "code",
        "colab": {}
      },
      "source": [
        "def evaluate_overfitting(df, min_split, noisy=True):\n",
        "\n",
        "    X = df.loc[:, feature_set]\n",
        "    X = pd.get_dummies(X)\n",
        "    y = df[\"high_traffic\"]\n",
        "    X_train, X_test, y_train, y_test = train_test_split(X,y,test_size=0.20, random_state=123)\n",
        "\n",
        "    model = DecisionTreeClassifier(criterion=\"entropy\", min_samples_split=min_split, random_state=123).fit(X_train, y_train)\n",
        "\n",
        "    overfit_pred = model.predict(X_train)\n",
        "    overfit_accuracy = 100*accuracy_score(y_train, overfit_pred)\n",
        "    y_pred = model.predict(X_test)\n",
        "    accuracy = 100*accuracy_score(y_test, y_pred)\n",
        "    tree_size = model.get_n_leaves()\n",
        "\n",
        "    if noisy:\n",
        "        print(f\"   Training Accuracy: {overfit_accuracy:.1f}%\")\n",
        "        print(f\"   Testing Accuracy: {accuracy:.1f}%\")\n",
        "        print(f\"   Tree contains {tree_size} leaves\")\n",
        "\n",
        "    return tree_size, accuracy, overfit_accuracy"
      ],
      "execution_count": 0,
      "outputs": []
    },
    {
      "cell_type": "code",
      "metadata": {
        "scrolled": true,
        "id": "sN3dsyg7mobq",
        "colab_type": "code",
        "outputId": "0edb35fd-0617-46e5-bf26-d62adec847ab",
        "colab": {
          "base_uri": "https://localhost:8080/",
          "height": 279
        }
      },
      "source": [
        "accuracies = []\n",
        "overfit_accuracies = []\n",
        "\n",
        "# For different Sized Data sets\n",
        "for i in range(100):\n",
        "    bikeshare_small = bikeshare.iloc[bikeshare.index % 100 <= i]\n",
        "    # Evaluate and store how much the tree overfits\n",
        "    tree_size, accuracy, overfit_accuracy = evaluate_overfitting(bikeshare_small, 5, noisy=False)\n",
        "    accuracies.append(accuracy)\n",
        "    overfit_accuracies.append(overfit_accuracy)\n",
        "\n",
        "# Plot the Results\n",
        "ax = plt.gca()\n",
        "x_index = [x * (len(bikeshare)/100) for x in range(100)]\n",
        "ax.scatter(x_index, overfit_accuracies)\n",
        "ax.scatter(x_index, accuracies)\n",
        "plt.ylabel(\"Accuracy on Example Data\")\n",
        "plt.xlabel(\"Dataset Size\")\n",
        "plt.legend([\"Training Accuracy\", \"Testing Accuracy\"])\n",
        "plt.show()"
      ],
      "execution_count": 0,
      "outputs": [
        {
          "output_type": "display_data",
          "data": {
            "image/png": "[encoded data removed]",
            "text/plain": [
              "<Figure size 432x288 with 1 Axes>"
            ]
          },
          "metadata": {
            "tags": []
          }
        }
      ]
    },
    {
      "cell_type": "markdown",
      "metadata": {
        "id": "E3dsIpIcmobw",
        "colab_type": "text"
      },
      "source": [
        "# Hyperparameters\n",
        "\n",
        "## Why tune hyperparameters?\n",
        "\n",
        "### Training/test differences grow as models get more complicated\n",
        "\n",
        "One hyperparameter to tune, based on the quantity of data available and the homogeneity of your domain, is the complexity of the trees that you want to learn.\n",
        "\n",
        "Here we'll show how a more and more complex tree doesn't necessarily result in generalization to new data that we've never seen before, even as performance improves."
      ]
    },
    {
      "cell_type": "code",
      "metadata": {
        "id": "TlKHobDsmoby",
        "colab_type": "code",
        "outputId": "7573485a-3623-457d-9ead-f17e7af57b5a",
        "colab": {
          "base_uri": "https://localhost:8080/",
          "height": 272
        }
      },
      "source": [
        "feature_set = date_features + time_features + weather_features\n",
        " \n",
        "for minimum in [2, 5, 10, 50, 100]:\n",
        "    evaluate_overfitting(bikeshare, minimum)"
      ],
      "execution_count": 0,
      "outputs": [
        {
          "output_type": "stream",
          "text": [
            "   Training Accuracy: 100.0%\n",
            "   Testing Accuracy: 90.7%\n",
            "   Tree contains 642 leaves\n",
            "   Training Accuracy: 98.7%\n",
            "   Testing Accuracy: 91.1%\n",
            "   Tree contains 526 leaves\n",
            "   Training Accuracy: 97.2%\n",
            "   Testing Accuracy: 91.0%\n",
            "   Tree contains 399 leaves\n",
            "   Training Accuracy: 92.8%\n",
            "   Testing Accuracy: 89.2%\n",
            "   Tree contains 156 leaves\n",
            "   Training Accuracy: 90.4%\n",
            "   Testing Accuracy: 88.6%\n",
            "   Tree contains 91 leaves\n"
          ],
          "name": "stdout"
        }
      ]
    },
    {
      "cell_type": "markdown",
      "metadata": {
        "id": "BJ9B1WaKmob2",
        "colab_type": "text"
      },
      "source": [
        "## Decision Tree Hyperparameters"
      ]
    },
    {
      "cell_type": "code",
      "metadata": {
        "id": "2u5oQLnMmob3",
        "colab_type": "code",
        "colab": {}
      },
      "source": [
        "# Parameters to tune:\n",
        "# - Measurement of leaf purity (gini vs. information gain)\n",
        "# - Size of splits (tree size)\n",
        "# - Definition of purity\n",
        "\n",
        "criteria = [\"gini\", \"entropy\"]\n",
        "\n",
        "size_of_splits = range(2, 100, 2)\n",
        "\n",
        "purity = [0, 0.0001, 0.001, 0.01, 0.1]"
      ],
      "execution_count": 0,
      "outputs": []
    },
    {
      "cell_type": "markdown",
      "metadata": {
        "id": "jIg8ghSamob7",
        "colab_type": "text"
      },
      "source": [
        "### Tuning size of splits"
      ]
    },
    {
      "cell_type": "code",
      "metadata": {
        "scrolled": false,
        "id": "6UKij_Jjmob8",
        "colab_type": "code",
        "outputId": "26f24629-0ffa-4d2b-9d2a-046be80b14c6",
        "colab": {
          "base_uri": "https://localhost:8080/",
          "height": 279
        }
      },
      "source": [
        "leaves = []\n",
        "accuracies = []\n",
        "overfit_accuracies = []\n",
        "for i in range(2,200,2):\n",
        "    tree_size, accuracy, overfit_accuracy = evaluate_overfitting(bikeshare, i, noisy=False)\n",
        "    leaves.append(tree_size)\n",
        "    accuracies.append(accuracy)\n",
        "    overfit_accuracies.append(overfit_accuracy)\n",
        "    \n",
        "ax = plt.gca()\n",
        "ax.scatter(range(2,200,2), overfit_accuracies, s=1)\n",
        "ax.scatter(range(2,200,2), accuracies, s=1)\n",
        "\n",
        "plt.ylabel(\"Accuracy on Example Data\")\n",
        "plt.xlabel(\"Minimum split size (# examples)\")\n",
        "plt.legend([\"Training Accuracy\", \"Testing Accuracy\"])\n",
        "\n",
        "right_ax = ax.twinx()\n",
        "right_ax.scatter(range(2,200,2), leaves, s=5, color=\"red\")\n",
        "plt.ylabel(\"Number of Leaves\")\n",
        "plt.show()"
      ],
      "execution_count": 0,
      "outputs": [
        {
          "output_type": "display_data",
          "data": {
            "image/png": "[encoded data removed]",
            "text/plain": [
              "<Figure size 432x288 with 2 Axes>"
            ]
          },
          "metadata": {
            "tags": []
          }
        }
      ]
    },
    {
      "cell_type": "markdown",
      "metadata": {
        "id": "WLgT120umocB",
        "colab_type": "text"
      },
      "source": [
        "We see, then, that our most fine-grained model with 2-instance splits allowed gets us a model with over 600 leaves and 90% accuracy on testing data, but if we limit our tree drastically (for instance, to minimum split size between 50-100 instances), we see a reduction in accuracy as small as 1% while the model complexity drops down to only 100 leaves."
      ]
    },
    {
      "cell_type": "code",
      "metadata": {
        "scrolled": true,
        "id": "kkGl_UhBmocC",
        "colab_type": "code",
        "outputId": "7210d8af-ec91-458f-be8c-b1e3e873acf5",
        "colab": {}
      },
      "source": [
        "classifier_comparison = {}\n",
        "\n",
        "best = 0\n",
        "best_size = None\n",
        "\n",
        "accuracies = []\n",
        "\n",
        "for size in size_of_splits:\n",
        "    classifier = DecisionTreeClassifier(criterion=\"entropy\", min_samples_split=size, random_state=123)\n",
        "    results = train_and_evaluate(classifier, bikeshare, feature_set, \"high_traffic\", folds=10, noisy=\"silent\")\n",
        "    accuracy = np.mean(results[\"accuracy\"])\n",
        "    kappa = np.mean(results[\"kappa\"])\n",
        "    accuracies.append(accuracy)\n",
        "    print(f\"Mean {size}: Accuracy {accuracy:.1f}%, K={kappa:.3f}\")\n",
        "\n",
        "    classifier_comparison[classifier_name] = results\n",
        "    \n",
        "    metric_to_optimize = accuracy\n",
        "\n",
        "    if metric_to_optimize > best:\n",
        "        best = metric_to_optimize\n",
        "        best_name = size\n",
        "    \n",
        "\n",
        "    \n",
        "print(f\"Best feature set is: {best_name} \\nWith: {best:.1f}% accuracy.\")    "
      ],
      "execution_count": 0,
      "outputs": [
        {
          "output_type": "stream",
          "text": [
            "Mean 2: Accuracy 91.8%, K=0.835\n",
            "Mean 4: Accuracy 91.4%, K=0.828\n",
            "Mean 6: Accuracy 91.4%, K=0.828\n",
            "Mean 8: Accuracy 91.4%, K=0.828\n",
            "Mean 10: Accuracy 91.5%, K=0.831\n",
            "Mean 12: Accuracy 91.6%, K=0.832\n",
            "Mean 14: Accuracy 91.6%, K=0.832\n",
            "Mean 16: Accuracy 91.6%, K=0.832\n",
            "Mean 18: Accuracy 91.7%, K=0.833\n",
            "Mean 20: Accuracy 91.6%, K=0.832\n",
            "Mean 22: Accuracy 91.5%, K=0.831\n",
            "Mean 24: Accuracy 91.4%, K=0.829\n",
            "Mean 26: Accuracy 91.5%, K=0.830\n",
            "Mean 28: Accuracy 91.5%, K=0.829\n",
            "Mean 30: Accuracy 91.3%, K=0.826\n",
            "Mean 32: Accuracy 91.3%, K=0.825\n",
            "Mean 34: Accuracy 91.2%, K=0.824\n",
            "Mean 36: Accuracy 91.1%, K=0.822\n",
            "Mean 38: Accuracy 91.0%, K=0.821\n",
            "Mean 40: Accuracy 91.0%, K=0.820\n",
            "Mean 42: Accuracy 90.7%, K=0.815\n",
            "Mean 44: Accuracy 90.7%, K=0.814\n",
            "Mean 46: Accuracy 90.6%, K=0.811\n",
            "Mean 48: Accuracy 90.5%, K=0.809\n",
            "Mean 50: Accuracy 90.3%, K=0.805\n",
            "Mean 52: Accuracy 90.2%, K=0.804\n",
            "Mean 54: Accuracy 90.2%, K=0.805\n",
            "Mean 56: Accuracy 90.2%, K=0.804\n",
            "Mean 58: Accuracy 90.2%, K=0.804\n",
            "Mean 60: Accuracy 90.0%, K=0.800\n",
            "Mean 62: Accuracy 89.9%, K=0.798\n",
            "Mean 64: Accuracy 89.8%, K=0.796\n",
            "Mean 66: Accuracy 89.8%, K=0.795\n",
            "Mean 68: Accuracy 89.7%, K=0.795\n",
            "Mean 70: Accuracy 89.6%, K=0.792\n",
            "Mean 72: Accuracy 89.6%, K=0.791\n",
            "Mean 74: Accuracy 89.4%, K=0.788\n",
            "Mean 76: Accuracy 89.3%, K=0.786\n",
            "Mean 78: Accuracy 89.2%, K=0.784\n",
            "Mean 80: Accuracy 89.1%, K=0.782\n",
            "Mean 82: Accuracy 89.1%, K=0.782\n",
            "Mean 84: Accuracy 88.9%, K=0.778\n",
            "Mean 86: Accuracy 88.9%, K=0.778\n",
            "Mean 88: Accuracy 88.9%, K=0.778\n",
            "Mean 90: Accuracy 88.9%, K=0.778\n",
            "Mean 92: Accuracy 88.9%, K=0.777\n",
            "Mean 94: Accuracy 88.7%, K=0.774\n",
            "Mean 96: Accuracy 88.6%, K=0.773\n",
            "Mean 98: Accuracy 88.7%, K=0.773\n",
            "Best feature set is: 2 \n",
            "With: 91.8% accuracy.\n"
          ],
          "name": "stdout"
        }
      ]
    },
    {
      "cell_type": "code",
      "metadata": {
        "scrolled": true,
        "id": "5CeasYcomocG",
        "colab_type": "code",
        "outputId": "f49dcc98-f865-491a-ab56-623d919a75a2",
        "colab": {}
      },
      "source": [
        "plt.plot(size_of_splits, accuracies)\n",
        "plt.xlabel(\"Size of splits\")\n",
        "plt.ylabel(\"Test set accuracy\")"
      ],
      "execution_count": 0,
      "outputs": [
        {
          "output_type": "execute_result",
          "data": {
            "text/plain": [
              "Text(0, 0.5, 'Test set accuracy')"
            ]
          },
          "metadata": {
            "tags": []
          },
          "execution_count": 18
        },
        {
          "output_type": "display_data",
          "data": {
            "image/png": "[encoded data removed]",
            "text/plain": [
              "<Figure size 432x288 with 1 Axes>"
            ]
          },
          "metadata": {
            "tags": [],
            "needs_background": "light"
          }
        }
      ]
    },
    {
      "cell_type": "markdown",
      "metadata": {
        "id": "HRan4g7emocN",
        "colab_type": "text"
      },
      "source": [
        "### Tuning purity threshold"
      ]
    },
    {
      "cell_type": "code",
      "metadata": {
        "id": "qbbfTn22mocP",
        "colab_type": "code",
        "outputId": "2e993df7-9d7f-4711-9b0c-5407a62ccccc",
        "colab": {}
      },
      "source": [
        "classifier_comparison = {}\n",
        "\n",
        "best = 0\n",
        "best_size = None\n",
        "\n",
        "accuracies = []\n",
        "\n",
        "for pur in purity:\n",
        "    classifier = DecisionTreeClassifier(criterion=\"entropy\", min_impurity_decrease=pur, random_state=123)\n",
        "    results = train_and_evaluate(classifier, bikeshare, feature_set, \"high_traffic\", folds=10, noisy=\"silent\")\n",
        "    accuracy = np.mean(results[\"accuracy\"])\n",
        "    kappa = np.mean(results[\"kappa\"])\n",
        "    accuracies.append(accuracy)\n",
        "    print(f\"Mean {pur}: Accuracy {accuracy:.1f}%, K={kappa:.3f}\")\n",
        "\n",
        "    classifier_comparison[classifier_name] = results\n",
        "    \n",
        "    metric_to_optimize = accuracy\n",
        "\n",
        "    if metric_to_optimize > best:\n",
        "        best = metric_to_optimize\n",
        "        best_name = size\n",
        "    \n",
        "\n",
        "print(f\"Best feature set is: {best_name} \\nWith: {best:.1f}% accuracy.\")    \n",
        "\n",
        "plt.plot(purity, accuracies)\n",
        "plt.xlabel(\"Minimum purity increase\")\n",
        "plt.xscale(\"log\")\n",
        "plt.ylabel(\"Test set accuracy\")"
      ],
      "execution_count": 0,
      "outputs": [
        {
          "output_type": "stream",
          "text": [
            "Mean 0: Accuracy 91.8%, K=0.835\n",
            "Mean 0.0001: Accuracy 91.6%, K=0.831\n",
            "Mean 0.001: Accuracy 90.3%, K=0.805\n",
            "Mean 0.01: Accuracy 86.1%, K=0.722\n",
            "Mean 0.1: Accuracy 77.3%, K=0.545\n",
            "Best feature set is: 98 \n",
            "With: 91.8% accuracy.\n"
          ],
          "name": "stdout"
        },
        {
          "output_type": "execute_result",
          "data": {
            "text/plain": [
              "Text(0, 0.5, 'Test set accuracy')"
            ]
          },
          "metadata": {
            "tags": []
          },
          "execution_count": 19
        },
        {
          "output_type": "display_data",
          "data": {
            "image/png": "[encoded data removed]",
            "text/plain": [
              "<Figure size 432x288 with 1 Axes>"
            ]
          },
          "metadata": {
            "tags": [],
            "needs_background": "light"
          }
        }
      ]
    },
    {
      "cell_type": "markdown",
      "metadata": {
        "id": "9NVpwMrZmocV",
        "colab_type": "text"
      },
      "source": [
        "### Tuning purity criterion"
      ]
    },
    {
      "cell_type": "code",
      "metadata": {
        "id": "eYsZpG2nmocX",
        "colab_type": "code",
        "outputId": "f24c37ae-c6ec-4055-d7a0-44734230de06",
        "colab": {}
      },
      "source": [
        "criteria_comparison = {}\n",
        "\n",
        "best = 0\n",
        "best_size = None\n",
        "best_crit = None\n",
        "\n",
        "for crit in criteria:\n",
        "\n",
        "    accuracies = []\n",
        "\n",
        "    for size in size_of_splits:\n",
        "        classifier = DecisionTreeClassifier(criterion=crit, min_samples_split=size, random_state=123)\n",
        "        results = train_and_evaluate(classifier, bikeshare, feature_set, \"high_traffic\", folds=10, noisy=\"silent\")\n",
        "        accuracy = np.mean(results[\"accuracy\"])\n",
        "        kappa = np.mean(results[\"kappa\"])\n",
        "        accuracies.append(accuracy)\n",
        "        print(f\"Mean {size}: Accuracy {accuracy:.1f}%, K={kappa:.3f}\")\n",
        "\n",
        "        classifier_comparison[classifier_name] = results\n",
        "\n",
        "        metric_to_optimize = accuracy\n",
        "\n",
        "        if metric_to_optimize > best:\n",
        "            best = metric_to_optimize\n",
        "            best_size = size\n",
        "            best_crit = crit\n",
        "    \n",
        "    criteria_comparison[crit] = accuracies\n",
        "    \n",
        "print(f\"Best mix is: {best_crit} criterion, {best_size} size\\nWith: {best:.1f}% accuracy.\")    "
      ],
      "execution_count": 0,
      "outputs": [
        {
          "output_type": "stream",
          "text": [
            "Mean 2: Accuracy 90.9%, K=0.817\n",
            "Mean 4: Accuracy 90.9%, K=0.818\n",
            "Mean 6: Accuracy 91.2%, K=0.824\n",
            "Mean 8: Accuracy 91.2%, K=0.823\n",
            "Mean 10: Accuracy 91.3%, K=0.826\n",
            "Mean 12: Accuracy 91.3%, K=0.826\n",
            "Mean 14: Accuracy 91.2%, K=0.824\n",
            "Mean 16: Accuracy 91.2%, K=0.823\n",
            "Mean 18: Accuracy 91.0%, K=0.820\n",
            "Mean 20: Accuracy 91.0%, K=0.820\n",
            "Mean 22: Accuracy 91.0%, K=0.820\n",
            "Mean 24: Accuracy 91.1%, K=0.821\n",
            "Mean 26: Accuracy 91.0%, K=0.820\n",
            "Mean 28: Accuracy 91.0%, K=0.819\n",
            "Mean 30: Accuracy 90.9%, K=0.818\n",
            "Mean 32: Accuracy 90.9%, K=0.819\n",
            "Mean 34: Accuracy 90.9%, K=0.818\n",
            "Mean 36: Accuracy 90.9%, K=0.817\n",
            "Mean 38: Accuracy 90.8%, K=0.816\n",
            "Mean 40: Accuracy 90.7%, K=0.814\n",
            "Mean 42: Accuracy 90.7%, K=0.814\n",
            "Mean 44: Accuracy 90.6%, K=0.811\n",
            "Mean 46: Accuracy 90.4%, K=0.808\n",
            "Mean 48: Accuracy 90.4%, K=0.808\n",
            "Mean 50: Accuracy 90.4%, K=0.808\n",
            "Mean 52: Accuracy 90.4%, K=0.807\n",
            "Mean 54: Accuracy 90.4%, K=0.807\n",
            "Mean 56: Accuracy 90.3%, K=0.806\n",
            "Mean 58: Accuracy 90.2%, K=0.804\n",
            "Mean 60: Accuracy 90.3%, K=0.806\n",
            "Mean 62: Accuracy 90.2%, K=0.804\n",
            "Mean 64: Accuracy 90.2%, K=0.803\n",
            "Mean 66: Accuracy 90.1%, K=0.802\n",
            "Mean 68: Accuracy 89.9%, K=0.798\n",
            "Mean 70: Accuracy 89.8%, K=0.795\n",
            "Mean 72: Accuracy 89.8%, K=0.795\n",
            "Mean 74: Accuracy 89.6%, K=0.792\n",
            "Mean 76: Accuracy 89.6%, K=0.791\n",
            "Mean 78: Accuracy 89.5%, K=0.791\n",
            "Mean 80: Accuracy 89.5%, K=0.790\n",
            "Mean 82: Accuracy 89.5%, K=0.791\n",
            "Mean 84: Accuracy 89.4%, K=0.788\n",
            "Mean 86: Accuracy 89.4%, K=0.788\n",
            "Mean 88: Accuracy 89.2%, K=0.785\n",
            "Mean 90: Accuracy 89.2%, K=0.784\n",
            "Mean 92: Accuracy 89.1%, K=0.782\n",
            "Mean 94: Accuracy 89.1%, K=0.782\n",
            "Mean 96: Accuracy 89.0%, K=0.779\n",
            "Mean 98: Accuracy 89.0%, K=0.780\n",
            "Mean 2: Accuracy 91.8%, K=0.835\n",
            "Mean 4: Accuracy 91.4%, K=0.828\n",
            "Mean 6: Accuracy 91.4%, K=0.828\n",
            "Mean 8: Accuracy 91.4%, K=0.828\n",
            "Mean 10: Accuracy 91.5%, K=0.831\n",
            "Mean 12: Accuracy 91.6%, K=0.832\n",
            "Mean 14: Accuracy 91.6%, K=0.832\n",
            "Mean 16: Accuracy 91.6%, K=0.832\n",
            "Mean 18: Accuracy 91.7%, K=0.833\n",
            "Mean 20: Accuracy 91.6%, K=0.832\n",
            "Mean 22: Accuracy 91.5%, K=0.831\n",
            "Mean 24: Accuracy 91.4%, K=0.829\n",
            "Mean 26: Accuracy 91.5%, K=0.830\n",
            "Mean 28: Accuracy 91.5%, K=0.829\n",
            "Mean 30: Accuracy 91.3%, K=0.826\n",
            "Mean 32: Accuracy 91.3%, K=0.825\n",
            "Mean 34: Accuracy 91.2%, K=0.824\n",
            "Mean 36: Accuracy 91.1%, K=0.822\n",
            "Mean 38: Accuracy 91.0%, K=0.821\n",
            "Mean 40: Accuracy 91.0%, K=0.820\n",
            "Mean 42: Accuracy 90.7%, K=0.815\n",
            "Mean 44: Accuracy 90.7%, K=0.814\n",
            "Mean 46: Accuracy 90.6%, K=0.811\n",
            "Mean 48: Accuracy 90.5%, K=0.809\n",
            "Mean 50: Accuracy 90.3%, K=0.805\n",
            "Mean 52: Accuracy 90.2%, K=0.804\n",
            "Mean 54: Accuracy 90.2%, K=0.805\n",
            "Mean 56: Accuracy 90.2%, K=0.804\n",
            "Mean 58: Accuracy 90.2%, K=0.804\n",
            "Mean 60: Accuracy 90.0%, K=0.800\n",
            "Mean 62: Accuracy 89.9%, K=0.798\n",
            "Mean 64: Accuracy 89.8%, K=0.796\n",
            "Mean 66: Accuracy 89.8%, K=0.795\n",
            "Mean 68: Accuracy 89.7%, K=0.795\n",
            "Mean 70: Accuracy 89.6%, K=0.792\n",
            "Mean 72: Accuracy 89.6%, K=0.791\n",
            "Mean 74: Accuracy 89.4%, K=0.788\n",
            "Mean 76: Accuracy 89.3%, K=0.786\n",
            "Mean 78: Accuracy 89.2%, K=0.784\n",
            "Mean 80: Accuracy 89.1%, K=0.782\n",
            "Mean 82: Accuracy 89.1%, K=0.782\n",
            "Mean 84: Accuracy 88.9%, K=0.778\n",
            "Mean 86: Accuracy 88.9%, K=0.778\n",
            "Mean 88: Accuracy 88.9%, K=0.778\n",
            "Mean 90: Accuracy 88.9%, K=0.778\n",
            "Mean 92: Accuracy 88.9%, K=0.777\n",
            "Mean 94: Accuracy 88.7%, K=0.774\n",
            "Mean 96: Accuracy 88.6%, K=0.773\n",
            "Mean 98: Accuracy 88.7%, K=0.773\n",
            "Best mix is: entropy criterion, 2 size\n",
            "With: 91.8% accuracy.\n"
          ],
          "name": "stdout"
        }
      ]
    },
    {
      "cell_type": "code",
      "metadata": {
        "scrolled": false,
        "id": "-t-PHWoMmocb",
        "colab_type": "code",
        "outputId": "56a18580-e1cb-4686-a674-2a7c6cdaf835",
        "colab": {}
      },
      "source": [
        "for crit in criteria_comparison.keys():\n",
        "    plt.plot(size_of_splits, criteria_comparison[crit])\n",
        "\n",
        "plt.legend(criteria_comparison.keys())"
      ],
      "execution_count": 0,
      "outputs": [
        {
          "output_type": "execute_result",
          "data": {
            "text/plain": [
              "<matplotlib.legend.Legend at 0x7fd10ac04510>"
            ]
          },
          "metadata": {
            "tags": []
          },
          "execution_count": 23
        },
        {
          "output_type": "display_data",
          "data": {
            "image/png": "[encoded data removed]",
            "text/plain": [
              "<Figure size 432x288 with 1 Axes>"
            ]
          },
          "metadata": {
            "tags": [],
            "needs_background": "light"
          }
        }
      ]
    },
    {
      "cell_type": "markdown",
      "metadata": {
        "id": "hGsuhpmfmoce",
        "colab_type": "text"
      },
      "source": [
        "So on this dataset, it looks like we don't have a *lot* of tuning we can do with decision trees - the entropy criterion we started with is slightly better in performance compared to the gini criterion, and reducing the number of splits only starts hurting accuracy once you've really shrunk the tree. Interestingly, on his dataset the enropy criterion worsens faster than gini as the tree size gets smaller, meaning if we're looking for a reasonably accurate and small tree, gini may be the better choice. "
      ]
    },
    {
      "cell_type": "markdown",
      "metadata": {
        "id": "aGp_2Tyzmocg",
        "colab_type": "text"
      },
      "source": [
        "## Tuning Logistic Regression"
      ]
    },
    {
      "cell_type": "code",
      "metadata": {
        "id": "R1k9e8Ddmoch",
        "colab_type": "code",
        "outputId": "a62ca148-bebd-4231-dc85-d7bf7ed1be0b",
        "colab": {}
      },
      "source": [
        "cost_type = [\"l1\", \"l2\", \"elasticnet\", \"none\"]\n",
        "\n",
        "elastic_net_mixes = np.arange(0,1,0.1)\n",
        "\n",
        "strengths = [0.0001, 0.001, 0.01, 0.1, 1, 10]\n",
        "\n",
        "print(elastic_net_mixes)"
      ],
      "execution_count": 0,
      "outputs": [
        {
          "output_type": "stream",
          "text": [
            "[0.  0.1 0.2 0.3 0.4 0.5 0.6 0.7 0.8 0.9]\n"
          ],
          "name": "stdout"
        }
      ]
    },
    {
      "cell_type": "markdown",
      "metadata": {
        "id": "YYPbC71mmocn",
        "colab_type": "text"
      },
      "source": [
        "### Tuning regularization strength"
      ]
    },
    {
      "cell_type": "code",
      "metadata": {
        "scrolled": true,
        "id": "Q8kx1K7xmocp",
        "colab_type": "code",
        "outputId": "58da8e9c-c6c1-4b54-8cd4-346037e5d61f",
        "colab": {}
      },
      "source": [
        "\n",
        "@ignore_warnings(category=ConvergenceWarning)\n",
        "@ignore_warnings(category=UndefinedMetricWarning)\n",
        "def test_strengths(df, feature_set, strengths):\n",
        "    best = 0\n",
        "    best_strength = None\n",
        "    strength_results = {\n",
        "        \"accuracy\":[],\n",
        "        \"kappa\":[]    \n",
        "    }\n",
        "    for strength in strengths:\n",
        "        classifier = LogisticRegression(penalty=\"l1\", C=strength, solver=\"saga\", max_iter=1000, random_state=123)\n",
        "        results = train_and_evaluate(classifier, df, feature_set, \"high_traffic\", folds=5, noisy=\"quiet\")\n",
        "        accuracy = np.mean(results[\"accuracy\"])\n",
        "        kappa = np.mean(results[\"kappa\"])\n",
        "        print(f\"C={strength}: Accuracy {accuracy:.1f}%, K={kappa:.3f}\")\n",
        "\n",
        "        classifier_comparison[classifier_name] = results\n",
        "\n",
        "        metric_to_optimize = accuracy\n",
        "\n",
        "        if metric_to_optimize > best:\n",
        "            best = metric_to_optimize\n",
        "            best_strength = strength\n",
        "        \n",
        "        strength_results[\"accuracy\"].append(accuracy)\n",
        "        strength_results[\"kappa\"].append(kappa)\n",
        "    return best, best_strength, strength_results\n",
        "\n",
        "\n",
        "best, best_strength, results = test_strengths(bikeshare, feature_set, strengths)\n",
        "print(f\"Best regularization strength is: C={best_strength}\\nWith: {best:.1f}% accuracy.\")    \n"
      ],
      "execution_count": 0,
      "outputs": [
        {
          "output_type": "stream",
          "text": [
            "Fold...0...1...2...3...4\n",
            "C=0.0001: Accuracy 72.6%, K=0.452\n",
            "Fold...0...1...2...3...4\n",
            "C=0.001: Accuracy 76.4%, K=0.529\n",
            "Fold...0...1...2...3...4\n",
            "C=0.01: Accuracy 77.2%, K=0.544\n",
            "Fold...0...1...2...3...4\n",
            "C=0.1: Accuracy 77.4%, K=0.548\n",
            "Fold...0...1...2...3...4\n",
            "C=1: Accuracy 77.4%, K=0.548\n",
            "Fold...0...1...2...3...4\n",
            "C=10: Accuracy 77.4%, K=0.548\n",
            "Best regularization strength is: C=1\n",
            "With: 77.4% accuracy.\n"
          ],
          "name": "stdout"
        }
      ]
    },
    {
      "cell_type": "code",
      "metadata": {
        "id": "Pl1bpDDZmoct",
        "colab_type": "code",
        "outputId": "4f3de504-15eb-4832-923c-ae0699e9e302",
        "colab": {}
      },
      "source": [
        "plt.plot(strengths, results[\"accuracy\"])\n",
        "plt.xscale(\"log\")"
      ],
      "execution_count": 0,
      "outputs": [
        {
          "output_type": "display_data",
          "data": {
            "image/png": "[encoded data removed]",
            "text/plain": [
              "<Figure size 432x288 with 1 Axes>"
            ]
          },
          "metadata": {
            "tags": [],
            "needs_background": "light"
          }
        }
      ]
    },
    {
      "cell_type": "code",
      "metadata": {
        "id": "iO85ldRcmocx",
        "colab_type": "code",
        "outputId": "88008321-1554-4dea-849d-f16e5b266167",
        "colab": {}
      },
      "source": [
        "\n",
        "@ignore_warnings(category=ConvergenceWarning)\n",
        "@ignore_warnings(category=UndefinedMetricWarning)\n",
        "def test_mixes(df, feature_set, mixes):\n",
        "    best = 0\n",
        "    best_mix = None\n",
        "    mix_results = {\n",
        "        \"accuracy\":[],\n",
        "        \"kappa\":[]    \n",
        "    }\n",
        "    for mix in mixes:\n",
        "        classifier = LogisticRegression(penalty=\"elasticnet\", C=1, l1_ratio=mix, solver=\"saga\", max_iter=1000, random_state=123)\n",
        "        results = train_and_evaluate(classifier, df, feature_set, \"high_traffic\", folds=5, noisy=\"quiet\")\n",
        "        accuracy = np.mean(results[\"accuracy\"])\n",
        "        kappa = np.mean(results[\"kappa\"])\n",
        "        print(f\"Mix={mix}: Accuracy {accuracy:.1f}%, K={kappa:.3f}\")\n",
        "\n",
        "        classifier_comparison[classifier_name] = results\n",
        "\n",
        "        metric_to_optimize = accuracy\n",
        "\n",
        "        if metric_to_optimize > best:\n",
        "            best = metric_to_optimize\n",
        "            best_mix = mix\n",
        "        \n",
        "        mix_results[\"accuracy\"].append(accuracy)\n",
        "        mix_results[\"kappa\"].append(kappa)\n",
        "    return best, best_mix, mix_results\n",
        "\n",
        "\n",
        "best, best_mix, results = test_mixes(bikeshare, feature_set, [0,0.5,1])\n",
        "print(f\"Best elastic net mix is: C={best_mix}\\nWith: {best:.1f}% accuracy.\")    "
      ],
      "execution_count": 0,
      "outputs": [
        {
          "output_type": "stream",
          "text": [
            "Fold...0...1...2...3...4\n",
            "Mix=0: Accuracy 77.4%, K=0.548\n",
            "Fold...0...1...2...3...4\n",
            "Mix=0.5: Accuracy 77.4%, K=0.548\n",
            "Fold...0...1...2...3...4\n",
            "Mix=1: Accuracy 77.4%, K=0.548\n",
            "Best elastic net mix is: C=0.5\n",
            "With: 77.4% accuracy.\n"
          ],
          "name": "stdout"
        }
      ]
    },
    {
      "cell_type": "code",
      "metadata": {
        "id": "kgoQhP5Hmoc2",
        "colab_type": "code",
        "outputId": "d9a9d0b7-70e9-4277-c404-c12971556442",
        "colab": {}
      },
      "source": [
        "@ignore_warnings(category=ConvergenceWarning)\n",
        "def get_tuned_results(df):\n",
        "    classifier = LogisticRegression(penalty=\"elasticnet\", C=1, l1_ratio=0.5, solver=\"saga\", max_iter=1000, random_state=123)\n",
        "    results = train_and_evaluate(classifier, df, feature_set, \"high_traffic\", folds=10, noisy=\"quiet\")\n",
        "    return results\n",
        "    \n",
        "results = get_tuned_results(bikeshare)"
      ],
      "execution_count": 0,
      "outputs": [
        {
          "output_type": "stream",
          "text": [
            "Fold...0...1...2...3...4...5...6...7...8...9\n"
          ],
          "name": "stdout"
        }
      ]
    },
    {
      "cell_type": "code",
      "metadata": {
        "id": "-VPBJb8Gmoc8",
        "colab_type": "code",
        "colab": {}
      },
      "source": [
        "precisions = []\n",
        "recalls = []\n",
        "\n",
        "true_positive_rates = []\n",
        "false_positive_rates = []\n",
        "\n",
        "all_probabilities = []\n",
        "all_actuals = []\n",
        "for actual_labels in results[\"actual\"]:\n",
        "    all_actuals.extend(actual_labels)\n",
        "for fold_probabilities in results[\"prediction_probabilities\"]:\n",
        "    probabilities = [x[1] for x in fold_probabilities]\n",
        "    all_probabilities.extend(probabilities)\n",
        "    \n",
        "for threshold in np.arange(0, 0.99, 0.01):\n",
        "    all_predictions = [x > threshold for x in all_probabilities]\n",
        "    precision = precision_score(all_predictions, all_actuals, pos_label=True)\n",
        "    recall = recall_score(all_predictions, all_actuals, pos_label=True)\n",
        "    \n",
        "    precisions.append(precision)\n",
        "    recalls.append(recall)\n",
        "    \n",
        "    count_positives = np.sum([int(all_actuals[i] == True) for i in range(len(all_actuals))])\n",
        "    count_negatives = np.sum([int(all_actuals[i] == False) for i in range(len(all_actuals))])\n",
        "    \n",
        "    true_positive = np.sum([all_predictions[i] == True and all_actuals[i] == True for i in range(len(all_predictions))])\n",
        "    false_positive = np.sum([all_predictions[i] == True and all_actuals[i] == False for i in range(len(all_predictions))])\n",
        "\n",
        "    true_positive_rates.append(true_positive / count_positives)\n",
        "    false_positive_rates.append(false_positive / count_negatives)"
      ],
      "execution_count": 0,
      "outputs": []
    },
    {
      "cell_type": "code",
      "metadata": {
        "scrolled": true,
        "id": "1dtRigtQmodD",
        "colab_type": "code",
        "outputId": "67da473a-4496-4fd6-b8b4-af3763b59d94",
        "colab": {}
      },
      "source": [
        "plt.plot(recalls, precisions)\n",
        "plt.xlabel(\"Recall\")\n",
        "plt.ylabel(\"Precision\")"
      ],
      "execution_count": 0,
      "outputs": [
        {
          "output_type": "execute_result",
          "data": {
            "text/plain": [
              "Text(0, 0.5, 'Precision')"
            ]
          },
          "metadata": {
            "tags": []
          },
          "execution_count": 34
        },
        {
          "output_type": "display_data",
          "data": {
            "image/png": "[encoded data removed]",
            "text/plain": [
              "<Figure size 432x288 with 1 Axes>"
            ]
          },
          "metadata": {
            "tags": [],
            "needs_background": "light"
          }
        }
      ]
    },
    {
      "cell_type": "code",
      "metadata": {
        "scrolled": false,
        "id": "pDAsrhk0modJ",
        "colab_type": "code",
        "outputId": "c6c35d1c-f8a5-4190-f750-fc80c06a11e3",
        "colab": {}
      },
      "source": [
        "plt.plot(false_positive_rates, true_positive_rates)\n",
        "plt.xlabel(\"False Positive Rate\")\n",
        "plt.ylabel(\"True Positive Rate\")"
      ],
      "execution_count": 0,
      "outputs": [
        {
          "output_type": "execute_result",
          "data": {
            "text/plain": [
              "Text(0, 0.5, 'True Positive Rate')"
            ]
          },
          "metadata": {
            "tags": []
          },
          "execution_count": 35
        },
        {
          "output_type": "display_data",
          "data": {
            "image/png": "[encoded data removed]",
            "text/plain": [
              "<Figure size 432x288 with 1 Axes>"
            ]
          },
          "metadata": {
            "tags": [],
            "needs_background": "light"
          }
        }
      ]
    },
    {
      "cell_type": "markdown",
      "metadata": {
        "id": "aqzj51gbmodO",
        "colab_type": "text"
      },
      "source": [
        "With these charts, we see that a single logistic regression actually gives us a fairly wide, flexible range of classifiers: \n",
        "   - We can build a model that has 20% false positives but correctly identifies around 80% of true positive cases.\n",
        "   - Or we can build a model that successfully finds about 90% of true positives while filtering out about 50% of false cases.\n",
        "\n",
        "By default the model will find a balance between the two metrics. But there might be value in this tuning for your application!"
      ]
    },
    {
      "cell_type": "markdown",
      "metadata": {
        "id": "6EDxp5g6modO",
        "colab_type": "text"
      },
      "source": [
        "## Hyperparameter tuning with Scikit-learn\n",
        "\n",
        "One of the key advantages of working in Python is that much of the unwieldy work we've been doing this weekend is built into the language by default. If all you're looking for is to train an optimal classifier with simple code, Scikit-learn has given us tools to get a lot done with built-in library tools. \n",
        "\n",
        "Here's a sample that sets aside a test set, does hyperparameter tuning within our training set using cross-validation, model quality reporting, and final training of the full training set using our best parameters all in one place."
      ]
    },
    {
      "cell_type": "code",
      "metadata": {
        "id": "9jYnAKpxmodP",
        "colab_type": "code",
        "colab": {}
      },
      "source": [
        "hyperparameters = {\n",
        "    \"criterion\":[\"gini\", \"entropy\"],\n",
        "    \"min_impurity_decrease\":[0, 0.0001, 0.001],\n",
        "    \"min_samples_split\":range(2, 20, 2)\n",
        "}\n",
        "search = GridSearchCV(estimator=DecisionTreeClassifier(random_state=123),\n",
        "                            param_grid=hyperparameters, cv=5, scoring=\"accuracy\")\n",
        "\n",
        "\n",
        "date_features = [\"day\", \"month_str\", \"year\", \"weekday_str\", \"season\", \"holiday\", \"workingday\"]\n",
        "time_features = [\"hour\"]\n",
        "weather_features = [\"weather\", \"temp\", \"atemp\", \"humidity\", \"windspeed\"]\n",
        "\n",
        "feature_set = date_features + time_features + weather_features\n",
        "\n",
        "\n",
        "X = bikeshare.loc[:, feature_set]\n",
        "X = pd.get_dummies(X)\n",
        "\n",
        "y = bikeshare[\"high_traffic\"]\n",
        "\n",
        "X_train, X_test, y_train, y_test = train_test_split(X,y,test_size=0.20, random_state=123, shuffle=True)\n",
        "\n",
        "classifier = search.fit(X_train, y_train)\n",
        "\n",
        "y_predict = classifier.predict(X_test)\n"
      ],
      "execution_count": 0,
      "outputs": []
    },
    {
      "cell_type": "code",
      "metadata": {
        "id": "yNl0oO6nmodS",
        "colab_type": "code",
        "outputId": "d794a2a0-b6af-4d5f-f23b-fe1a610e8e3f",
        "colab": {}
      },
      "source": [
        "accuracy = classifier.best_score_\n",
        "best_fit = classifier.best_estimator_\n",
        "print(f\"Best fit was {best_fit}\\nWith {100*accuracy:.1f}% accuracy.\")"
      ],
      "execution_count": 0,
      "outputs": [
        {
          "output_type": "stream",
          "text": [
            "Best fit was DecisionTreeClassifier(class_weight=None, criterion='entropy', max_depth=None,\n",
            "                       max_features=None, max_leaf_nodes=None,\n",
            "                       min_impurity_decrease=0.0001, min_impurity_split=None,\n",
            "                       min_samples_leaf=1, min_samples_split=4,\n",
            "                       min_weight_fraction_leaf=0.0, presort=False,\n",
            "                       random_state=123, splitter='best')\n",
            "With 91.3% accuracy.\n"
          ],
          "name": "stdout"
        }
      ]
    },
    {
      "cell_type": "code",
      "metadata": {
        "id": "CYMF17_qmodU",
        "colab_type": "code",
        "outputId": "432e4cdb-c8be-4544-e1cf-d809c0257f04",
        "colab": {}
      },
      "source": [
        "accuracy = 100*accuracy_score(y_test, y_pred)\n",
        "print(f\"Accuracy on held-out test set: {accuracy:.1f}%\")\n"
      ],
      "execution_count": 0,
      "outputs": [
        {
          "output_type": "stream",
          "text": [
            "Accuracy on held-out test set: 90.5%\n"
          ],
          "name": "stdout"
        }
      ]
    },
    {
      "cell_type": "code",
      "metadata": {
        "id": "pWChYoqfmodY",
        "colab_type": "code",
        "outputId": "ccf31131-f396-470e-9cdf-838fa1c3db24",
        "colab": {}
      },
      "source": [
        "classifier.cv_results_"
      ],
      "execution_count": 0,
      "outputs": [
        {
          "output_type": "execute_result",
          "data": {
            "text/plain": [
              "{'mean_fit_time': array([0.02658906, 0.02345896, 0.02314739, 0.02273278, 0.02364998,\n",
              "        0.02345018, 0.02268233, 0.02227693, 0.02266111, 0.02101493,\n",
              "        0.02129669, 0.02083359, 0.02065067, 0.01980729, 0.0202497 ,\n",
              "        0.02015753, 0.01955891, 0.019241  , 0.0151526 , 0.01522479,\n",
              "        0.01523423, 0.0151269 , 0.01506596, 0.01513319, 0.0151865 ,\n",
              "        0.01547227, 0.01541743, 0.02190456, 0.02149706, 0.02163067,\n",
              "        0.02180333, 0.0214571 , 0.02125206, 0.02140641, 0.02100892,\n",
              "        0.02064905, 0.0214467 , 0.02156954, 0.02124457, 0.0211772 ,\n",
              "        0.02127795, 0.02120595, 0.02221718, 0.02122226, 0.02119818,\n",
              "        0.01902857, 0.0186018 , 0.01834359, 0.01843586, 0.01831436,\n",
              "        0.01848459, 0.01817884, 0.01805167, 0.01810098]),\n",
              " 'std_fit_time': array([0.00306495, 0.00039306, 0.00067261, 0.00070024, 0.00119232,\n",
              "        0.00070937, 0.00069796, 0.00097467, 0.00049345, 0.0011381 ,\n",
              "        0.00061039, 0.00086648, 0.00042496, 0.0002466 , 0.0017571 ,\n",
              "        0.00045996, 0.00023792, 0.00080493, 0.00061186, 0.00054109,\n",
              "        0.00050855, 0.0005345 , 0.00050986, 0.00052694, 0.00060896,\n",
              "        0.00069326, 0.00049269, 0.00043532, 0.00049679, 0.00050699,\n",
              "        0.00027875, 0.00062745, 0.00059826, 0.00061473, 0.00061479,\n",
              "        0.00049203, 0.00055299, 0.00067472, 0.00059241, 0.00055627,\n",
              "        0.00058777, 0.00046485, 0.00086839, 0.00067813, 0.00054012,\n",
              "        0.00112373, 0.00050932, 0.00052375, 0.00033422, 0.00052277,\n",
              "        0.00074271, 0.00049425, 0.0004097 , 0.00046684]),\n",
              " 'mean_score_time': array([0.00120521, 0.00106306, 0.00105996, 0.00101781, 0.00110679,\n",
              "        0.00117412, 0.00104046, 0.00101099, 0.00114059, 0.00112572,\n",
              "        0.00115595, 0.001122  , 0.00108314, 0.00094371, 0.0010654 ,\n",
              "        0.00100017, 0.00094624, 0.00097079, 0.00092635, 0.00093136,\n",
              "        0.00094385, 0.00092359, 0.00093355, 0.00092301, 0.00095353,\n",
              "        0.00095196, 0.00095572, 0.00095801, 0.00097585, 0.00096893,\n",
              "        0.00102029, 0.00098591, 0.0009769 , 0.00100756, 0.0009522 ,\n",
              "        0.00094399, 0.00092835, 0.0009552 , 0.00093322, 0.00095501,\n",
              "        0.00096297, 0.00096941, 0.00109301, 0.00097919, 0.00102363,\n",
              "        0.0009954 , 0.00096655, 0.00096359, 0.00096021, 0.00094686,\n",
              "        0.00097909, 0.00096831, 0.00097475, 0.0009234 ]),\n",
              " 'std_score_time': array([8.59375130e-05, 6.48430863e-05, 7.11020647e-05, 7.24547746e-05,\n",
              "        9.56501822e-05, 2.29979901e-05, 6.93198892e-05, 6.55113520e-05,\n",
              "        4.75110265e-05, 9.27311095e-05, 8.38826363e-05, 7.21916340e-05,\n",
              "        6.77335392e-05, 2.82207039e-05, 1.69876181e-04, 2.02910880e-05,\n",
              "        1.74012246e-05, 2.86568421e-05, 8.51337963e-06, 1.30165190e-05,\n",
              "        2.35682041e-05, 7.73505714e-06, 2.21298682e-05, 2.12321617e-05,\n",
              "        4.79373386e-05, 2.37527134e-05, 2.37552022e-05, 1.71783192e-05,\n",
              "        7.27275935e-05, 3.96162441e-05, 4.96802994e-05, 1.36473760e-05,\n",
              "        5.77604327e-05, 4.44285841e-05, 2.89897385e-05, 1.69660242e-05,\n",
              "        8.79166692e-06, 2.08888421e-05, 1.37453222e-05, 4.51302125e-05,\n",
              "        5.06976801e-05, 3.46972353e-05, 5.61544542e-05, 1.68162017e-05,\n",
              "        8.34749173e-05, 8.33986690e-05, 2.32684807e-05, 5.86361595e-05,\n",
              "        3.12783368e-05, 2.75488928e-05, 7.95684780e-05, 7.26026814e-05,\n",
              "        1.11902780e-04, 1.04066364e-05]),\n",
              " 'param_criterion': masked_array(data=['gini', 'gini', 'gini', 'gini', 'gini', 'gini', 'gini',\n",
              "                    'gini', 'gini', 'gini', 'gini', 'gini', 'gini', 'gini',\n",
              "                    'gini', 'gini', 'gini', 'gini', 'gini', 'gini', 'gini',\n",
              "                    'gini', 'gini', 'gini', 'gini', 'gini', 'gini',\n",
              "                    'entropy', 'entropy', 'entropy', 'entropy', 'entropy',\n",
              "                    'entropy', 'entropy', 'entropy', 'entropy', 'entropy',\n",
              "                    'entropy', 'entropy', 'entropy', 'entropy', 'entropy',\n",
              "                    'entropy', 'entropy', 'entropy', 'entropy', 'entropy',\n",
              "                    'entropy', 'entropy', 'entropy', 'entropy', 'entropy',\n",
              "                    'entropy', 'entropy'],\n",
              "              mask=[False, False, False, False, False, False, False, False,\n",
              "                    False, False, False, False, False, False, False, False,\n",
              "                    False, False, False, False, False, False, False, False,\n",
              "                    False, False, False, False, False, False, False, False,\n",
              "                    False, False, False, False, False, False, False, False,\n",
              "                    False, False, False, False, False, False, False, False,\n",
              "                    False, False, False, False, False, False],\n",
              "        fill_value='?',\n",
              "             dtype=object),\n",
              " 'param_min_impurity_decrease': masked_array(data=[0, 0, 0, 0, 0, 0, 0, 0, 0, 0.0001, 0.0001, 0.0001,\n",
              "                    0.0001, 0.0001, 0.0001, 0.0001, 0.0001, 0.0001, 0.001,\n",
              "                    0.001, 0.001, 0.001, 0.001, 0.001, 0.001, 0.001, 0.001,\n",
              "                    0, 0, 0, 0, 0, 0, 0, 0, 0, 0.0001, 0.0001, 0.0001,\n",
              "                    0.0001, 0.0001, 0.0001, 0.0001, 0.0001, 0.0001, 0.001,\n",
              "                    0.001, 0.001, 0.001, 0.001, 0.001, 0.001, 0.001, 0.001],\n",
              "              mask=[False, False, False, False, False, False, False, False,\n",
              "                    False, False, False, False, False, False, False, False,\n",
              "                    False, False, False, False, False, False, False, False,\n",
              "                    False, False, False, False, False, False, False, False,\n",
              "                    False, False, False, False, False, False, False, False,\n",
              "                    False, False, False, False, False, False, False, False,\n",
              "                    False, False, False, False, False, False],\n",
              "        fill_value='?',\n",
              "             dtype=object),\n",
              " 'param_min_samples_split': masked_array(data=[2, 4, 6, 8, 10, 12, 14, 16, 18, 2, 4, 6, 8, 10, 12, 14,\n",
              "                    16, 18, 2, 4, 6, 8, 10, 12, 14, 16, 18, 2, 4, 6, 8, 10,\n",
              "                    12, 14, 16, 18, 2, 4, 6, 8, 10, 12, 14, 16, 18, 2, 4,\n",
              "                    6, 8, 10, 12, 14, 16, 18],\n",
              "              mask=[False, False, False, False, False, False, False, False,\n",
              "                    False, False, False, False, False, False, False, False,\n",
              "                    False, False, False, False, False, False, False, False,\n",
              "                    False, False, False, False, False, False, False, False,\n",
              "                    False, False, False, False, False, False, False, False,\n",
              "                    False, False, False, False, False, False, False, False,\n",
              "                    False, False, False, False, False, False],\n",
              "        fill_value='?',\n",
              "             dtype=object),\n",
              " 'params': [{'criterion': 'gini',\n",
              "   'min_impurity_decrease': 0,\n",
              "   'min_samples_split': 2},\n",
              "  {'criterion': 'gini', 'min_impurity_decrease': 0, 'min_samples_split': 4},\n",
              "  {'criterion': 'gini', 'min_impurity_decrease': 0, 'min_samples_split': 6},\n",
              "  {'criterion': 'gini', 'min_impurity_decrease': 0, 'min_samples_split': 8},\n",
              "  {'criterion': 'gini', 'min_impurity_decrease': 0, 'min_samples_split': 10},\n",
              "  {'criterion': 'gini', 'min_impurity_decrease': 0, 'min_samples_split': 12},\n",
              "  {'criterion': 'gini', 'min_impurity_decrease': 0, 'min_samples_split': 14},\n",
              "  {'criterion': 'gini', 'min_impurity_decrease': 0, 'min_samples_split': 16},\n",
              "  {'criterion': 'gini', 'min_impurity_decrease': 0, 'min_samples_split': 18},\n",
              "  {'criterion': 'gini',\n",
              "   'min_impurity_decrease': 0.0001,\n",
              "   'min_samples_split': 2},\n",
              "  {'criterion': 'gini',\n",
              "   'min_impurity_decrease': 0.0001,\n",
              "   'min_samples_split': 4},\n",
              "  {'criterion': 'gini',\n",
              "   'min_impurity_decrease': 0.0001,\n",
              "   'min_samples_split': 6},\n",
              "  {'criterion': 'gini',\n",
              "   'min_impurity_decrease': 0.0001,\n",
              "   'min_samples_split': 8},\n",
              "  {'criterion': 'gini',\n",
              "   'min_impurity_decrease': 0.0001,\n",
              "   'min_samples_split': 10},\n",
              "  {'criterion': 'gini',\n",
              "   'min_impurity_decrease': 0.0001,\n",
              "   'min_samples_split': 12},\n",
              "  {'criterion': 'gini',\n",
              "   'min_impurity_decrease': 0.0001,\n",
              "   'min_samples_split': 14},\n",
              "  {'criterion': 'gini',\n",
              "   'min_impurity_decrease': 0.0001,\n",
              "   'min_samples_split': 16},\n",
              "  {'criterion': 'gini',\n",
              "   'min_impurity_decrease': 0.0001,\n",
              "   'min_samples_split': 18},\n",
              "  {'criterion': 'gini',\n",
              "   'min_impurity_decrease': 0.001,\n",
              "   'min_samples_split': 2},\n",
              "  {'criterion': 'gini',\n",
              "   'min_impurity_decrease': 0.001,\n",
              "   'min_samples_split': 4},\n",
              "  {'criterion': 'gini',\n",
              "   'min_impurity_decrease': 0.001,\n",
              "   'min_samples_split': 6},\n",
              "  {'criterion': 'gini',\n",
              "   'min_impurity_decrease': 0.001,\n",
              "   'min_samples_split': 8},\n",
              "  {'criterion': 'gini',\n",
              "   'min_impurity_decrease': 0.001,\n",
              "   'min_samples_split': 10},\n",
              "  {'criterion': 'gini',\n",
              "   'min_impurity_decrease': 0.001,\n",
              "   'min_samples_split': 12},\n",
              "  {'criterion': 'gini',\n",
              "   'min_impurity_decrease': 0.001,\n",
              "   'min_samples_split': 14},\n",
              "  {'criterion': 'gini',\n",
              "   'min_impurity_decrease': 0.001,\n",
              "   'min_samples_split': 16},\n",
              "  {'criterion': 'gini',\n",
              "   'min_impurity_decrease': 0.001,\n",
              "   'min_samples_split': 18},\n",
              "  {'criterion': 'entropy', 'min_impurity_decrease': 0, 'min_samples_split': 2},\n",
              "  {'criterion': 'entropy', 'min_impurity_decrease': 0, 'min_samples_split': 4},\n",
              "  {'criterion': 'entropy', 'min_impurity_decrease': 0, 'min_samples_split': 6},\n",
              "  {'criterion': 'entropy', 'min_impurity_decrease': 0, 'min_samples_split': 8},\n",
              "  {'criterion': 'entropy',\n",
              "   'min_impurity_decrease': 0,\n",
              "   'min_samples_split': 10},\n",
              "  {'criterion': 'entropy',\n",
              "   'min_impurity_decrease': 0,\n",
              "   'min_samples_split': 12},\n",
              "  {'criterion': 'entropy',\n",
              "   'min_impurity_decrease': 0,\n",
              "   'min_samples_split': 14},\n",
              "  {'criterion': 'entropy',\n",
              "   'min_impurity_decrease': 0,\n",
              "   'min_samples_split': 16},\n",
              "  {'criterion': 'entropy',\n",
              "   'min_impurity_decrease': 0,\n",
              "   'min_samples_split': 18},\n",
              "  {'criterion': 'entropy',\n",
              "   'min_impurity_decrease': 0.0001,\n",
              "   'min_samples_split': 2},\n",
              "  {'criterion': 'entropy',\n",
              "   'min_impurity_decrease': 0.0001,\n",
              "   'min_samples_split': 4},\n",
              "  {'criterion': 'entropy',\n",
              "   'min_impurity_decrease': 0.0001,\n",
              "   'min_samples_split': 6},\n",
              "  {'criterion': 'entropy',\n",
              "   'min_impurity_decrease': 0.0001,\n",
              "   'min_samples_split': 8},\n",
              "  {'criterion': 'entropy',\n",
              "   'min_impurity_decrease': 0.0001,\n",
              "   'min_samples_split': 10},\n",
              "  {'criterion': 'entropy',\n",
              "   'min_impurity_decrease': 0.0001,\n",
              "   'min_samples_split': 12},\n",
              "  {'criterion': 'entropy',\n",
              "   'min_impurity_decrease': 0.0001,\n",
              "   'min_samples_split': 14},\n",
              "  {'criterion': 'entropy',\n",
              "   'min_impurity_decrease': 0.0001,\n",
              "   'min_samples_split': 16},\n",
              "  {'criterion': 'entropy',\n",
              "   'min_impurity_decrease': 0.0001,\n",
              "   'min_samples_split': 18},\n",
              "  {'criterion': 'entropy',\n",
              "   'min_impurity_decrease': 0.001,\n",
              "   'min_samples_split': 2},\n",
              "  {'criterion': 'entropy',\n",
              "   'min_impurity_decrease': 0.001,\n",
              "   'min_samples_split': 4},\n",
              "  {'criterion': 'entropy',\n",
              "   'min_impurity_decrease': 0.001,\n",
              "   'min_samples_split': 6},\n",
              "  {'criterion': 'entropy',\n",
              "   'min_impurity_decrease': 0.001,\n",
              "   'min_samples_split': 8},\n",
              "  {'criterion': 'entropy',\n",
              "   'min_impurity_decrease': 0.001,\n",
              "   'min_samples_split': 10},\n",
              "  {'criterion': 'entropy',\n",
              "   'min_impurity_decrease': 0.001,\n",
              "   'min_samples_split': 12},\n",
              "  {'criterion': 'entropy',\n",
              "   'min_impurity_decrease': 0.001,\n",
              "   'min_samples_split': 14},\n",
              "  {'criterion': 'entropy',\n",
              "   'min_impurity_decrease': 0.001,\n",
              "   'min_samples_split': 16},\n",
              "  {'criterion': 'entropy',\n",
              "   'min_impurity_decrease': 0.001,\n",
              "   'min_samples_split': 18}],\n",
              " 'split0_test_score': array([0.50734619, 0.50642792, 0.50688705, 0.50642792, 0.50688705,\n",
              "        0.50642792, 0.50642792, 0.50642792, 0.50642792, 0.50642792,\n",
              "        0.50642792, 0.50642792, 0.50642792, 0.50642792, 0.50642792,\n",
              "        0.50642792, 0.50642792, 0.50642792, 0.57759412, 0.57759412,\n",
              "        0.57759412, 0.57759412, 0.57759412, 0.57759412, 0.57759412,\n",
              "        0.57759412, 0.57759412, 0.51101928, 0.51101928, 0.50826446,\n",
              "        0.50964187, 0.51056015, 0.51147842, 0.51193756, 0.51193756,\n",
              "        0.51193756, 0.51101928, 0.51101928, 0.50826446, 0.50964187,\n",
              "        0.51056015, 0.51147842, 0.51193756, 0.51193756, 0.51193756,\n",
              "        0.50688705, 0.50688705, 0.50688705, 0.50688705, 0.50688705,\n",
              "        0.50688705, 0.50688705, 0.50688705, 0.50688705]),\n",
              " 'split1_test_score': array([0.49724518, 0.50275482, 0.49678604, 0.50459137, 0.50459137,\n",
              "        0.50367309, 0.5       , 0.50321396, 0.50091827, 0.55463728,\n",
              "        0.55417815, 0.5486685 , 0.55555556, 0.55647383, 0.55555556,\n",
              "        0.55096419, 0.55050505, 0.54499541, 0.55968779, 0.55968779,\n",
              "        0.55968779, 0.55968779, 0.55968779, 0.55968779, 0.55968779,\n",
              "        0.55968779, 0.55968779, 0.51561065, 0.51928375, 0.51515152,\n",
              "        0.51561065, 0.51331497, 0.51331497, 0.51193756, 0.51147842,\n",
              "        0.51147842, 0.51515152, 0.51928375, 0.51515152, 0.51561065,\n",
              "        0.51331497, 0.51331497, 0.51193756, 0.51147842, 0.51147842,\n",
              "        0.53443526, 0.53443526, 0.53443526, 0.53443526, 0.53443526,\n",
              "        0.53443526, 0.53443526, 0.53443526, 0.53443526]),\n",
              " 'split2_test_score': array([0.58383096, 0.58153422, 0.57694074, 0.58245292, 0.58199357,\n",
              "        0.58842444, 0.58245292, 0.59623335, 0.60128617, 0.58107487,\n",
              "        0.58015618, 0.57831879, 0.58429031, 0.58566835, 0.58704639,\n",
              "        0.58474966, 0.59715204, 0.60450161, 0.53330271, 0.53330271,\n",
              "        0.53330271, 0.53330271, 0.53330271, 0.53330271, 0.53330271,\n",
              "        0.53330271, 0.53330271, 0.46210381, 0.46210381, 0.45291686,\n",
              "        0.4552136 , 0.45567294, 0.4552136 , 0.45888838, 0.45980707,\n",
              "        0.45705099, 0.46210381, 0.46256316, 0.45291686, 0.4552136 ,\n",
              "        0.45567294, 0.4552136 , 0.45888838, 0.45980707, 0.45705099,\n",
              "        0.46256316, 0.46256316, 0.46256316, 0.46256316, 0.46256316,\n",
              "        0.46256316, 0.46256316, 0.46256316, 0.46256316]),\n",
              " 'split3_test_score': array([0.41846578, 0.414791  , 0.41984382, 0.41846578, 0.42076252,\n",
              "        0.41938447, 0.42168121, 0.42259991, 0.42214056, 0.41984382,\n",
              "        0.41708774, 0.42214056, 0.41754708, 0.42168121, 0.42030317,\n",
              "        0.42259991, 0.42214056, 0.42168121, 0.40836013, 0.40836013,\n",
              "        0.40836013, 0.40836013, 0.40836013, 0.40836013, 0.40836013,\n",
              "        0.40836013, 0.40836013, 0.76343592, 0.75654571, 0.76297657,\n",
              "        0.75792375, 0.76619201, 0.76665136, 0.76573266, 0.76527331,\n",
              "        0.75470831, 0.76435462, 0.75654571, 0.76297657, 0.75792375,\n",
              "        0.76619201, 0.76665136, 0.76573266, 0.76527331, 0.75470831,\n",
              "        0.79604961, 0.79604961, 0.79604961, 0.79604961, 0.79604961,\n",
              "        0.79604961, 0.79604961, 0.79604961, 0.79604961]),\n",
              " 'split4_test_score': array([0.47977941, 0.48667279, 0.47931985, 0.48621324, 0.48115809,\n",
              "        0.48299632, 0.48943015, 0.48345588, 0.48483456, 0.48759191,\n",
              "        0.49356618, 0.49310662, 0.49402574, 0.48391544, 0.48897059,\n",
              "        0.48345588, 0.48299632, 0.48345588, 0.87224265, 0.87224265,\n",
              "        0.87224265, 0.87224265, 0.87224265, 0.87224265, 0.87224265,\n",
              "        0.87224265, 0.87224265, 0.48069853, 0.47610294, 0.47564338,\n",
              "        0.47886029, 0.4765625 , 0.47518382, 0.4765625 , 0.47150735,\n",
              "        0.46966912, 0.48115809, 0.47518382, 0.47564338, 0.47886029,\n",
              "        0.4765625 , 0.47518382, 0.4765625 , 0.47150735, 0.46966912,\n",
              "        0.51194853, 0.51194853, 0.51194853, 0.51194853, 0.51194853,\n",
              "        0.51194853, 0.51194853, 0.51194853, 0.51194853]),\n",
              " 'mean_test_score': array([0.49733603, 0.49843836, 0.49595811, 0.49963256, 0.49908139,\n",
              "        0.50018372, 0.5       , 0.50238839, 0.50312328, 0.509921  ,\n",
              "        0.51028844, 0.50973728, 0.5115745 , 0.51083961, 0.51166636,\n",
              "        0.50964542, 0.51185008, 0.51221753, 0.59020761, 0.59020761,\n",
              "        0.59020761, 0.59020761, 0.59020761, 0.59020761, 0.59020761,\n",
              "        0.59020761, 0.59020761, 0.54657358, 0.54501194, 0.542991  ,\n",
              "        0.5434503 , 0.54446078, 0.54436891, 0.54501194, 0.54400147,\n",
              "        0.54097005, 0.5467573 , 0.54492008, 0.542991  , 0.5434503 ,\n",
              "        0.54446078, 0.54436891, 0.54501194, 0.54400147, 0.54097005,\n",
              "        0.56237369, 0.56237369, 0.56237369, 0.56237369, 0.56237369,\n",
              "        0.56237369, 0.56237369, 0.56237369, 0.56237369]),\n",
              " 'std_test_score': array([0.05312051, 0.05314391, 0.05049215, 0.05233888, 0.05180631,\n",
              "        0.05414805, 0.0511549 , 0.05576187, 0.05751999, 0.05601136,\n",
              "        0.05619258, 0.05325233, 0.05726566, 0.05722682, 0.05744098,\n",
              "        0.05589292, 0.0594627 , 0.06106838, 0.15290142, 0.15290142,\n",
              "        0.15290142, 0.15290142, 0.15290142, 0.15290142, 0.15290142,\n",
              "        0.15290142, 0.15290142, 0.1102    , 0.10786982, 0.11226461,\n",
              "        0.10942391, 0.11293406, 0.11329934, 0.11225072, 0.11259119,\n",
              "        0.1091017 , 0.11053294, 0.10791751, 0.11226461, 0.10942391,\n",
              "        0.11293406, 0.11329934, 0.11225072, 0.11259119, 0.1091017 ,\n",
              "        0.11913243, 0.11913243, 0.11913243, 0.11913243, 0.11913243,\n",
              "        0.11913243, 0.11913243, 0.11913243, 0.11913243]),\n",
              " 'rank_test_score': array([53, 52, 54, 50, 51, 48, 49, 47, 46, 43, 42, 44, 40, 41, 39, 45, 38,\n",
              "        37,  1,  1,  1,  1,  1,  1,  1,  1,  1, 20, 21, 33, 31, 25, 27, 21,\n",
              "        29, 35, 19, 24, 33, 31, 25, 27, 21, 29, 35, 10, 10, 10, 10, 10, 10,\n",
              "        10, 10, 10], dtype=int32)}"
            ]
          },
          "metadata": {
            "tags": []
          },
          "execution_count": 52
        }
      ]
    }
  ]
}