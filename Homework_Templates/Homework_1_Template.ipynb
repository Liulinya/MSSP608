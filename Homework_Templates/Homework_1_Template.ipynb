{
  "nbformat": 4,
  "nbformat_minor": 0,
  "metadata": {
    "colab": {
      "name": "Homework 1 Template.ipynb",
      "provenance": [],
      "authorship_tag": "ABX9TyMYTwy/7LUIRogSsQlGRMDU",
      "include_colab_link": true
    },
    "kernelspec": {
      "name": "python3",
      "display_name": "Python 3"
    }
  },
  "cells": [
    {
      "cell_type": "markdown",
      "metadata": {
        "id": "view-in-github",
        "colab_type": "text"
      },
      "source": [
        "<a href=\"https://colab.research.google.com/github/chetan-parthiban/MSSP608/blob/master/Homework_Templates/Homework_1_Template.ipynb\" target=\"_parent\"><img src=\"https://colab.research.google.com/assets/colab-badge.svg\" alt=\"Open In Colab\"/></a>"
      ]
    },
    {
      "cell_type": "markdown",
      "metadata": {
        "id": "2o1yJ2iBxEF4",
        "colab_type": "text"
      },
      "source": [
        "# Download the Data \n",
        "Keep this if you are working in Google Colab. Delete this if you are working on your own computer and have the data downloaded already. "
      ]
    },
    {
      "cell_type": "code",
      "metadata": {
        "id": "UT2wAPLswcXw",
        "colab_type": "code",
        "colab": {
          "base_uri": "https://localhost:8080/",
          "height": 326
        },
        "outputId": "c620db3e-8773-49bb-ff84-76761e92cb1e"
      },
      "source": [
        "!wget --no-check-certificate 'https://docs.google.com/uc?export=download&id=0B5qTk6DHjanhOV9LRE5DY3l1T2pGemVBNTVQVzVsMlFCcHF3' -O lendingclub.csv"
      ],
      "execution_count": 1,
      "outputs": [
        {
          "output_type": "stream",
          "text": [
            "--2020-01-22 19:43:35--  https://docs.google.com/uc?export=download&id=0B5qTk6DHjanhOV9LRE5DY3l1T2pGemVBNTVQVzVsMlFCcHF3\n",
            "Resolving docs.google.com (docs.google.com)... 173.194.69.100, 173.194.69.113, 173.194.69.139, ...\n",
            "Connecting to docs.google.com (docs.google.com)|173.194.69.100|:443... connected.\n",
            "HTTP request sent, awaiting response... 302 Moved Temporarily\n",
            "Location: https://doc-10-5c-docs.googleusercontent.com/docs/securesc/ha0ro937gcuc7l7deffksulhg5h7mbp1/5ftd53no8gj4e97bccftqpn0dgmp0shi/1579716000000/09819396713149841370/*/0B5qTk6DHjanhOV9LRE5DY3l1T2pGemVBNTVQVzVsMlFCcHF3?e=download [following]\n",
            "Warning: wildcards not supported in HTTP.\n",
            "--2020-01-22 19:43:36--  https://doc-10-5c-docs.googleusercontent.com/docs/securesc/ha0ro937gcuc7l7deffksulhg5h7mbp1/5ftd53no8gj4e97bccftqpn0dgmp0shi/1579716000000/09819396713149841370/*/0B5qTk6DHjanhOV9LRE5DY3l1T2pGemVBNTVQVzVsMlFCcHF3?e=download\n",
            "Resolving doc-10-5c-docs.googleusercontent.com (doc-10-5c-docs.googleusercontent.com)... 108.177.119.132, 2a00:1450:4013:c00::84\n",
            "Connecting to doc-10-5c-docs.googleusercontent.com (doc-10-5c-docs.googleusercontent.com)|108.177.119.132|:443... connected.\n",
            "HTTP request sent, awaiting response... 200 OK\n",
            "Length: unspecified [text/csv]\n",
            "Saving to: ‘lendingclub.csv’\n",
            "\n",
            "lendingclub.csv         [ <=>                ]   6.03M  --.-KB/s    in 0.1s    \n",
            "\n",
            "2020-01-22 19:43:36 (50.4 MB/s) - ‘lendingclub.csv’ saved [6325329]\n",
            "\n"
          ],
          "name": "stdout"
        }
      ]
    },
    {
      "cell_type": "markdown",
      "metadata": {
        "id": "b303czQnwtqs",
        "colab_type": "text"
      },
      "source": [
        "# Introduction to homework 1\n",
        "On Canvas (or in this notebook's files) you’ll find a new file, **lendingclub.csv**. Each row of this file represents a single user\n",
        "account on **LendingClub.com**. The site consists of two types of users, **borrowers** who are applying for a new loan, and **investors** who lend money for fixed periods of time. Each row in our dataset represents a single borrower at the time they apply for their first peer-to-peer loan, and each row contains nine columns:\n",
        "\n",
        "- Amount requested for their first loan\n",
        "- Year the loan was requested (this dataset covers only a five-year period, 2008-2012)\n",
        "- Title of the loan application (written by the borrower)\n",
        "- FICO score (credit rating) of the borrower\n",
        "- “Debt-to-Income”: A ratio of the borrower’s total monthly debt payments, excluding home\n",
        "mortgage and the requested loan, to the borrower’s self-reported monthly income.\n",
        "- ZIP code of the borrower (the last two digits of each ZIP are masked for anonymity)\n",
        "- U.S. state that the borrower resides in.\n",
        "- Length of time that the borrower has been employed at their current job, from 0 to 10+ years.\n",
        "- A binary outcome variable for whether the user’s loan application was accepted by investors.\n",
        "\n",
        "Our goal with this project will be to automatically predict whether a borrower will be approved for a loan from the investor members of the website, based only on the data provided above. For each of the following questions, add a series of code and markdown cells to develop an easily readable report responding to the question. "
      ]
    },
    {
      "cell_type": "markdown",
      "metadata": {
        "id": "783C7f61yxMT",
        "colab_type": "text"
      },
      "source": [
        "# Question 1:\n",
        "- Why is this data about users valuable to LendingClub?\n",
        "- Name at least two different ways this automated prediction could be used either for in-app product changes, or business decision-making."
      ]
    },
    {
      "cell_type": "code",
      "metadata": {
        "id": "BuwOjts-yjfA",
        "colab_type": "code",
        "colab": {}
      },
      "source": [
        "# Solution to Question 1"
      ],
      "execution_count": 0,
      "outputs": []
    },
    {
      "cell_type": "markdown",
      "metadata": {
        "id": "8jV6x5r_y5CB",
        "colab_type": "text"
      },
      "source": [
        "# Question 2: \n",
        "Train a decision tree classifier to predict loan acceptance based on the features provided. Write a report giving at minimum the following information on your model:\n",
        "- Class distribution of the outcome labels.\n",
        "- List of features you used from the data, including their name and data type (numeric or\n",
        "nominal). For each feature, provide min, mean, and max values (if the feature is numeric) or\n",
        "list all possible labels (if the feature is nominal).\n",
        "- List of hyperparameter settings for the decision tree.\n",
        "- Performance of the trained classifier, using metrics like accuracy, kappa, precision, and recall. You must provide a labeled confusion matrix.\n",
        "\n",
        "You should NOT perform any optimization; all you need to do is train a single decision tree and report results. You will be tuning hyperparameters and performing other evaluations in Homework 2."
      ]
    },
    {
      "cell_type": "code",
      "metadata": {
        "id": "Rjhlg5HQzdd-",
        "colab_type": "code",
        "colab": {}
      },
      "source": [
        "# Solution to Question 2"
      ],
      "execution_count": 0,
      "outputs": []
    },
    {
      "cell_type": "markdown",
      "metadata": {
        "id": "_xOhCWobzfhb",
        "colab_type": "text"
      },
      "source": [
        "# Question 3: \n",
        "\n",
        "Is the decision tree that you trained accurate enough to be used for each of the two business purposes you proposed in question 1? Why or why not?"
      ]
    },
    {
      "cell_type": "markdown",
      "metadata": {
        "id": "gnC28G-UznQN",
        "colab_type": "text"
      },
      "source": [
        "Solution to Question 3"
      ]
    },
    {
      "cell_type": "markdown",
      "metadata": {
        "id": "soeXJaORzqzH",
        "colab_type": "text"
      },
      "source": [
        "# Scoring Rubric\n",
        "![alt text](https://docs.google.com/uc?export=view&id=1ELG4QWnPjWgiUJI0eL6YiVbMWKlSVdcP)\n"
      ]
    }
  ]
}